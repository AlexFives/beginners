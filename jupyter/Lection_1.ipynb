{
 "cells": [
  {
   "cell_type": "markdown",
   "id": "1147fb80",
   "metadata": {},
   "source": [
    "# Hello, world! на С++"
   ]
  },
  {
   "cell_type": "code",
   "execution_count": 170,
   "id": "99dc8c39",
   "metadata": {},
   "outputs": [],
   "source": [
    "// однострочный комментарий\n",
    "/*\n",
    "многострочный\n",
    "комментарий\n",
    "*/\n",
    "\n",
    "#include <iostream>\n",
    "/* #include - сообщение компилятору о добавлении модуля.\n",
    "Если модуль находится в стандартной библиотеке шаблонов (STL), то используется <module>.\n",
    "Если модуль находится в какой-либо директории проекта, то используется \"file_name\".\n",
    "*/\n",
    "\n",
    "using namespace std;\n",
    "/* iostream является частью стандартной библиотеки шаблонов (stl), \n",
    "которая находится в пространстве имён (namespace) \"std\".\n",
    "Если не прописать данную строку, то функционал модуля iostream необходимо \n",
    "использовать с указанием области видимости функционала (std::some_functional).\n",
    "\n",
    "После данной строки весь конфликтующий функционал будет\n",
    "автоматически использоваться из пространства имён std.\n",
    "*/"
   ]
  },
  {
   "cell_type": "code",
   "execution_count": 171,
   "id": "154b429d",
   "metadata": {},
   "outputs": [],
   "source": [
    "int main() {\n",
    "    // функция int main() - точка входа, именно из неё компилятор начинает выполнение программы.\n",
    "    /*\n",
    "    int - тип данных, который возвращает эта функция.\n",
    "    main - название функции.\n",
    "    () - здесь необходимо указать параметры, которые будут переданы в функцию,\n",
    "    если ничего не указано, то функция не принимает параметры.\n",
    "    {} - тело функции, её реализация. Здесь описывается алгоритм работы функции.\n",
    "    */\n",
    "    cout << \"Hello, world!\" << endl;\n",
    "    /*\n",
    "    cout << - оператор вывода чего-либо в терминалю.\n",
    "    \"Hello, world!\" - непосредственно то, что необходимо вывести в терминал.\n",
    "    endl - end line или же конец строки, символ новой строки (\\n).\n",
    "    \n",
    "    Если необходимо вывести несколько объектов, то cout следует использовать так:\n",
    "    cout << object1 << object2 << ... << objectN;\n",
    "    \n",
    "    endl, как и cout является частью iostream и, соответственно, \n",
    "    находится в пространстве имён std.\n",
    "    \n",
    "    Пример использования вывода без указания области видимости (без using namespace std;):\n",
    "    int main() {\n",
    "        std::cout << \"Hello, world!\" << std::endl;\n",
    "    }\n",
    "    */\n",
    "    return 0;\n",
    "    /*\n",
    "    Возвращаемое функцией значение.\n",
    "    Ключевое слово return обозначает выход из функции и возвращает какое-либо значение, \n",
    "    соответствующее типу функции.\n",
    "    */\n",
    "}"
   ]
  },
  {
   "cell_type": "markdown",
   "id": "a3b216c9",
   "metadata": {},
   "source": [
    "Интерпретатор C++ для Jupyter Notebook работает отлично от компилятора C++, поэтому здесь необходимо вызвать функцию, к тому же для интерпретатора нет точки входа в программу, поэтому int main() здесь не обязателен, но в \"нормальных условиях\" без функции входа ничего не будет выполняться."
   ]
  },
  {
   "cell_type": "code",
   "execution_count": 172,
   "id": "29cda497",
   "metadata": {},
   "outputs": [
    {
     "name": "stdout",
     "output_type": "stream",
     "text": [
      "Hello, world!\n"
     ]
    }
   ],
   "source": [
    "main();"
   ]
  },
  {
   "cell_type": "markdown",
   "id": "3de43cc0",
   "metadata": {},
   "source": [
    "Также в C++ все алгоритмы выполняются в функциях.\n",
    "Код вне функций (за исключением некоторых переменных, сообщений компилятору и т. д.) приведёт к ошибке!\n",
    "\n",
    "Например, компилятор такое не распознает:"
   ]
  },
  {
   "cell_type": "code",
   "execution_count": 173,
   "id": "88130656",
   "metadata": {},
   "outputs": [
    {
     "name": "stdout",
     "output_type": "stream",
     "text": [
      "Hello, I am C++ interpreter\n",
      "And I can do this!\n",
      "Hello, world!\n",
      "some_func call\n"
     ]
    }
   ],
   "source": [
    "void some_func() {\n",
    "    cout << \"some_func call\" << endl;\n",
    "} // void - \"тип пустоты\", данная функция ничего не возвращает\n",
    "\n",
    "cout << \"Hello, I am C++ interpreter\" << endl;\n",
    "\n",
    "cout << \"And I can do this!\" << endl;\n",
    "\n",
    "cout << \"Hello, world!\" << endl;\n",
    "\n",
    "some_func();"
   ]
  },
  {
   "cell_type": "markdown",
   "id": "bc03659b",
   "metadata": {},
   "source": [
    "Правильное оформление:"
   ]
  },
  {
   "cell_type": "code",
   "execution_count": 174,
   "id": "2041477f",
   "metadata": {},
   "outputs": [],
   "source": [
    "void some_func() {\n",
    "    cout << \"some_func call\" << endl;\n",
    "}"
   ]
  },
  {
   "cell_type": "code",
   "execution_count": 175,
   "id": "50b6f576",
   "metadata": {},
   "outputs": [],
   "source": [
    "int main() {\n",
    "    cout << \"Hello, I am C++ interpreter\" << endl;\n",
    "\n",
    "    cout << \"And I can do this!\" << endl;\n",
    "\n",
    "    cout << \"Hello, world!\" << endl;\n",
    "    \n",
    "    some_func();\n",
    "}"
   ]
  },
  {
   "cell_type": "code",
   "execution_count": 176,
   "id": "9b30ab07",
   "metadata": {},
   "outputs": [
    {
     "name": "stdout",
     "output_type": "stream",
     "text": [
      "Hello, I am C++ interpreter\n",
      "And I can do this!\n",
      "Hello, world!\n",
      "some_func call\n"
     ]
    },
    {
     "data": {
      "text/plain": [
       "0"
      ]
     },
     "execution_count": 176,
     "metadata": {},
     "output_type": "execute_result"
    }
   ],
   "source": [
    "main()"
   ]
  },
  {
   "cell_type": "markdown",
   "id": "c392ab56",
   "metadata": {},
   "source": [
    "## Немного о переменных в C++"
   ]
  },
  {
   "cell_type": "markdown",
   "id": "23c00155",
   "metadata": {},
   "source": [
    "type var; - объявление переменной var типа type\n",
    "\n",
    "var = something; - присвоение переменной var значения something (something должен иметь тип type)\n",
    "\n",
    "type var = something; - одновременное объявление переменной и присваивание ей значения"
   ]
  },
  {
   "cell_type": "code",
   "execution_count": 177,
   "id": "60a0be33",
   "metadata": {},
   "outputs": [],
   "source": [
    "int main() {\n",
    "    int some_var = 10; // int - целочисленный тип данных\n",
    "    cout << some_var << endl;\n",
    "}"
   ]
  },
  {
   "cell_type": "code",
   "execution_count": 178,
   "id": "6eb0771d",
   "metadata": {},
   "outputs": [
    {
     "name": "stdout",
     "output_type": "stream",
     "text": [
      "10\n"
     ]
    },
    {
     "data": {
      "text/plain": [
       "0"
      ]
     },
     "execution_count": 178,
     "metadata": {},
     "output_type": "execute_result"
    }
   ],
   "source": [
    "main()"
   ]
  },
  {
   "cell_type": "markdown",
   "id": "d86b6e75",
   "metadata": {},
   "source": [
    "## Типы данных в С++"
   ]
  },
  {
   "cell_type": "markdown",
   "id": "09d894b9",
   "metadata": {},
   "source": [
    "### Занимают в памяти 1 байт:"
   ]
  },
  {
   "cell_type": "markdown",
   "id": "ee36477d",
   "metadata": {},
   "source": [
    "bool: логический тип данных, имеет значения true и false."
   ]
  },
  {
   "cell_type": "code",
   "execution_count": 179,
   "id": "03fad8ff",
   "metadata": {},
   "outputs": [],
   "source": [
    "bool true_var = true;\n",
    "bool false_var = false;"
   ]
  },
  {
   "cell_type": "code",
   "execution_count": 180,
   "id": "be8dd43f",
   "metadata": {},
   "outputs": [
    {
     "name": "stdout",
     "output_type": "stream",
     "text": [
      "1 0\n"
     ]
    }
   ],
   "source": [
    "cout << true_var << ' ' << false_var << endl;"
   ]
  },
  {
   "cell_type": "markdown",
   "id": "04505f8c",
   "metadata": {},
   "source": [
    "char (int8_t): символьный тип данных. Поддерживает символы кодировки ASCII.\n",
    "    \n",
    "Может принимать значения целочисленного типа в пределах: $[{-2^7, 2^7-1}]$ или $[-128, 127]$."
   ]
  },
  {
   "cell_type": "code",
   "execution_count": 181,
   "id": "422160a1",
   "metadata": {
    "scrolled": true
   },
   "outputs": [
    {
     "name": "stdout",
     "output_type": "stream",
     "text": [
      "a < b\n"
     ]
    }
   ],
   "source": [
    "char char_var = 'a';\n",
    "char char_integer_var = 60;\n",
    "int8_t _int8_var = 'b';\n",
    "\n",
    "cout << char_var << ' ' << char_integer_var << ' ' << _int8_var << endl;"
   ]
  },
  {
   "cell_type": "markdown",
   "id": "ef77342c",
   "metadata": {},
   "source": [
    "Для char типа cout автоматически переводит число в символ."
   ]
  },
  {
   "cell_type": "markdown",
   "id": "3d0f3ed2",
   "metadata": {},
   "source": [
    "unsigned char (unsigned int8t, uint8_t): также символьный тип данных, поддерживает символы кодировки ASCII, но принимает значения целочисленного типа в пределах $[0, 2^8-1]$ или $[0, 255]$.\n",
    "\n",
    "Ключевое слово unsigned обозначает беззнаковый тип данных.\n",
    "Также существует ключевое слово signed, что обозначает знаковый тип данных.\n",
    "Они используются с типами, поддерживающими целые числа. Как правило, стандартно такие типы уже являются signed \n",
    "(signed char = char)."
   ]
  },
  {
   "cell_type": "code",
   "execution_count": 182,
   "id": "cb642535",
   "metadata": {},
   "outputs": [
    {
     "name": "stdout",
     "output_type": "stream",
     "text": [
      "a < b\n"
     ]
    }
   ],
   "source": [
    "unsigned char uchar_var = 'a';\n",
    "unsigned char uchar_integer_var = 60;\n",
    "uint8_t _uint8_var = 'b';\n",
    "\n",
    "cout << uchar_var << ' ' << uchar_integer_var << ' ' << _uint8_var << endl;"
   ]
  },
  {
   "cell_type": "markdown",
   "id": "6dd99560",
   "metadata": {},
   "source": [
    "### Занимают в памяти 2 байта:"
   ]
  },
  {
   "cell_type": "markdown",
   "id": "40ac074e",
   "metadata": {},
   "source": [
    "short (short int, int16_t): целочисленный тип данных. \n",
    "Может принимать значения в пределах: $[-2^{15}, 2^{15}-1]$ или $[32768, 32767]$."
   ]
  },
  {
   "cell_type": "code",
   "execution_count": 183,
   "id": "8468fb7e",
   "metadata": {},
   "outputs": [
    {
     "name": "stdout",
     "output_type": "stream",
     "text": [
      "30000 -30000 10\n"
     ]
    }
   ],
   "source": [
    "short short_var = 30000;\n",
    "short int short_int_var = -30000;\n",
    "int16_t _int16_var = 10;\n",
    "\n",
    "cout << short_var << ' ' << short_int_var << ' ' << _int16_var << endl;"
   ]
  },
  {
   "cell_type": "markdown",
   "id": "de1c696e",
   "metadata": {},
   "source": [
    "unsigned short (unsigned short int, uint16_t): целочисленный беззнаковый тип данных. \n",
    "Может принимать значения в пределах: $[0, 2^{16}-1]$ или $[0, 65535]$."
   ]
  },
  {
   "cell_type": "code",
   "execution_count": 184,
   "id": "f70ded31",
   "metadata": {},
   "outputs": [
    {
     "name": "stdout",
     "output_type": "stream",
     "text": [
      "60000 0 12312\n"
     ]
    }
   ],
   "source": [
    "unsigned short u_short_var = 60000;\n",
    "unsigned short int u_short_int_var = 0;\n",
    "uint16_t uint16_var = 12312;\n",
    "\n",
    "cout << u_short_var << ' ' << u_short_int_var << ' ' << uint16_var << endl;"
   ]
  },
  {
   "cell_type": "markdown",
   "id": "02bfacec",
   "metadata": {},
   "source": [
    "wchar_t: символьный тип данных, поддерживает символы кодировки UTF-16.\n",
    "Может принимать целочисленные значения в пределах: $[0, 2^{16}-1]$ или $[0, 65535]$."
   ]
  },
  {
   "cell_type": "code",
   "execution_count": 185,
   "id": "12271ea6",
   "metadata": {},
   "outputs": [
    {
     "name": "stdout",
     "output_type": "stream",
     "text": [
      "49\n"
     ]
    }
   ],
   "source": [
    "wchar_t wchar = '1';\n",
    "\n",
    "cout << wchar << endl;"
   ]
  },
  {
   "cell_type": "markdown",
   "id": "3a8366df",
   "metadata": {},
   "source": [
    "Тут cout выводит не символ, а число."
   ]
  },
  {
   "cell_type": "markdown",
   "id": "e57196b0",
   "metadata": {},
   "source": [
    "### Занимают в памяти 4 байта:"
   ]
  },
  {
   "cell_type": "markdown",
   "id": "dbf450b3",
   "metadata": {},
   "source": [
    "int (signed, int32_t): целочисленный тип данных. \n",
    "Может принимать значения в пределах: $[-2^{31}, 2^{31}-1]$ или $[-2 147 483 648, 2 147 483 647]$."
   ]
  },
  {
   "cell_type": "code",
   "execution_count": 186,
   "id": "ce8a4966",
   "metadata": {},
   "outputs": [
    {
     "name": "stdout",
     "output_type": "stream",
     "text": [
      "2000000 0 -2000000\n"
     ]
    }
   ],
   "source": [
    "int int_var = 2000000;\n",
    "signed signed_var = 0;\n",
    "int32_t int32_var = -2000000;\n",
    "\n",
    "cout << int_var << ' ' << signed_var << ' ' << int32_var << endl;"
   ]
  },
  {
   "cell_type": "markdown",
   "id": "d773e74e",
   "metadata": {},
   "source": [
    "unsigned int (unsigned, uint32_t): целочисленный беззнаковый тип данных. \n",
    "Может принимать значения в пределах: $[0, 2^{32}-1]$ или $[0, 4294967295]$."
   ]
  },
  {
   "cell_type": "code",
   "execution_count": 187,
   "id": "10a4e478",
   "metadata": {},
   "outputs": [
    {
     "name": "stdout",
     "output_type": "stream",
     "text": [
      "4000000 2000000 0\n"
     ]
    }
   ],
   "source": [
    "unsigned int u_int_var = 4000000;\n",
    "unsigned unsigned_var = 2000000;\n",
    "uint32_t uint32_var = 0;\n",
    "\n",
    "cout << u_int_var << ' ' << unsigned_var << ' ' << uint32_var << endl;"
   ]
  },
  {
   "cell_type": "markdown",
   "id": "9c09a890",
   "metadata": {},
   "source": [
    "float: тип данных для чисел с плавающей точкой. \n",
    "Может принимать значения в пределах: $[-3.4\\mathrm{E}{+38}, -3.4\\mathrm{E}{-38}] \\cup [3.4\\mathrm{E}{-38}, 3.4\\mathrm{E}{+38}]$."
   ]
  },
  {
   "cell_type": "code",
   "execution_count": 188,
   "id": "cc14c068",
   "metadata": {},
   "outputs": [
    {
     "name": "stdout",
     "output_type": "stream",
     "text": [
      "12345.7 1e+10 -0.022\n"
     ]
    }
   ],
   "source": [
    "float float_var1 = 12345.6789;\n",
    "float float_var2 = 1e10;\n",
    "float float_var3 = -22e-3;\n",
    "\n",
    "cout << float_var1 << ' ' << float_var2 << ' ' << float_var3 << endl;"
   ]
  },
  {
   "cell_type": "markdown",
   "id": "beb04096",
   "metadata": {},
   "source": [
    "### Занимают в памяти 8 байт:"
   ]
  },
  {
   "cell_type": "markdown",
   "id": "ca00668f",
   "metadata": {},
   "source": [
    "long long (int64_t): целочисленный тип данных. \n",
    "Может принимать значения в пределах: $[-2^{63}, 2^{63}-1]$ или $[-9223372036854775808, 9223372036854775807]."
   ]
  },
  {
   "cell_type": "code",
   "execution_count": 189,
   "id": "6a50143d",
   "metadata": {},
   "outputs": [
    {
     "name": "stdout",
     "output_type": "stream",
     "text": [
      "900000000000000000 -9000000000000000000\n"
     ]
    }
   ],
   "source": [
    "long long long_long_var = 900000000000000000;\n",
    "int64_t int64_var = -9000000000000000000;\n",
    "\n",
    "cout << long_long_var << ' ' << int64_var << endl;"
   ]
  },
  {
   "cell_type": "markdown",
   "id": "13c97b92",
   "metadata": {},
   "source": [
    "unsigned long long (uint64_t): целочисленный беззнаковый тип данных. \n",
    "Может принимать значения в пределах: $[0, 2^{64}-1]$ или $[0, 18446744073709551615]$."
   ]
  },
  {
   "cell_type": "code",
   "execution_count": 190,
   "id": "54243028",
   "metadata": {},
   "outputs": [
    {
     "name": "stdout",
     "output_type": "stream",
     "text": [
      "1800000000000000000 0\n"
     ]
    }
   ],
   "source": [
    "unsigned long long u_long_long_var = 1800000000000000000;\n",
    "uint64_t uint64_var = 0;\n",
    "\n",
    "cout << u_long_long_var << ' ' << uint64_var << endl;"
   ]
  },
  {
   "cell_type": "markdown",
   "id": "241d697e",
   "metadata": {},
   "source": [
    "double (long double): тип данных для чисел с плавающей точкой. Может приниматься значения в пределах: \n",
    "$[-1.7\\mathrm{E}{+308}, -1.7\\mathrm{E}{-308}] \\cup [1.7\\mathrm{E}{-308}, 1.7\\mathrm{E}{+308}]$."
   ]
  },
  {
   "cell_type": "code",
   "execution_count": 191,
   "id": "17c43d07",
   "metadata": {},
   "outputs": [
    {
     "name": "stdout",
     "output_type": "stream",
     "text": [
      "1.23483e+10 1e+300 -1.9e-304\n"
     ]
    }
   ],
   "source": [
    "double double_var1 = 12348273487.76123876786;\n",
    "double double_var2 = 1e300;\n",
    "double double_var3 = -19e-305;\n",
    "\n",
    "cout << double_var1 << ' ' << double_var2 << ' ' << double_var3 << endl;"
   ]
  },
  {
   "cell_type": "markdown",
   "id": "1c481e5b",
   "metadata": {},
   "source": [
    "## Переменные в C++"
   ]
  },
  {
   "cell_type": "code",
   "execution_count": 192,
   "id": "6a8fd9b5",
   "metadata": {},
   "outputs": [],
   "source": [
    "int _int = 10; // переменная _int типа int, содержащая 10;\n",
    "double _double = 123912.123912039; // переменная _double типа double, содержащая 123912.123912039"
   ]
  },
  {
   "cell_type": "markdown",
   "id": "82779af7",
   "metadata": {},
   "source": [
    "### auto"
   ]
  },
  {
   "cell_type": "markdown",
   "id": "feca4ce0",
   "metadata": {},
   "source": [
    "Если в качестве типа переменной указать auto, то компилятор сам определит тип этой переменной."
   ]
  },
  {
   "cell_type": "code",
   "execution_count": 193,
   "id": "a995591d",
   "metadata": {},
   "outputs": [],
   "source": [
    "auto auto_var = 10; // auto_var имеет тип int\n",
    "// auto_var = \"C++\"; // error!"
   ]
  },
  {
   "cell_type": "markdown",
   "id": "deeeba6b",
   "metadata": {},
   "source": [
    "### const"
   ]
  },
  {
   "cell_type": "markdown",
   "id": "5e72c673",
   "metadata": {},
   "source": [
    "Можно указать, что переменная является константой, т. е. не поддерживает перезапись."
   ]
  },
  {
   "cell_type": "code",
   "execution_count": 194,
   "id": "b81f753e",
   "metadata": {},
   "outputs": [],
   "source": [
    "const float PI = 3.14;\n",
    "// PI = 3; // error!"
   ]
  },
  {
   "cell_type": "markdown",
   "id": "cd7d3176",
   "metadata": {},
   "source": [
    "### Массивы"
   ]
  },
  {
   "cell_type": "markdown",
   "id": "852febc5",
   "metadata": {},
   "source": [
    "Создать статический массив длиной N типа TYPE в C++ можно так: \n",
    "\n",
    "TYPE some_var[N];"
   ]
  },
  {
   "cell_type": "code",
   "execution_count": 195,
   "id": "5ecfadfe",
   "metadata": {},
   "outputs": [],
   "source": [
    "int test_array[10];"
   ]
  },
  {
   "cell_type": "markdown",
   "id": "c8f10dbe",
   "metadata": {},
   "source": [
    "Инициализировать массив можно с помощью унифицированной инициализации."
   ]
  },
  {
   "cell_type": "code",
   "execution_count": 196,
   "id": "adfe3911",
   "metadata": {},
   "outputs": [],
   "source": [
    "int array[10] {1, 2, 3, 4, 5, 6, 7, 8, 9, 10};"
   ]
  },
  {
   "cell_type": "markdown",
   "id": "68585266",
   "metadata": {},
   "source": [
    "Массив поддерживает оператор доступа по индексу ([ ]), индексация начинается с 0 (и до N - 1):"
   ]
  },
  {
   "cell_type": "code",
   "execution_count": 197,
   "id": "c0a0a930",
   "metadata": {},
   "outputs": [
    {
     "name": "stdout",
     "output_type": "stream",
     "text": [
      "At 0 pos: 0\n",
      "At 9 pos: 9\n",
      "At 9 pos after reassignment: 5555\n"
     ]
    }
   ],
   "source": [
    "int array[10] {0, 1, 2, 3, 4, 5, 6, 7, 8, 9};\n",
    "\n",
    "cout << \"At 0 pos: \" << array[0] << endl;\n",
    "cout << \"At 9 pos: \" << array[9] << endl;\n",
    "\n",
    "array[9] = 5555;\n",
    "\n",
    "cout << \"At 9 pos after reassignment: \" << array[9] << endl;"
   ]
  },
  {
   "cell_type": "markdown",
   "id": "4fa162b1",
   "metadata": {},
   "source": [
    "С помощью оператора sizeof(), который возвращает размер переменной в байтах, можно узнать размер массива:"
   ]
  },
  {
   "cell_type": "code",
   "execution_count": 198,
   "id": "338b5eef",
   "metadata": {},
   "outputs": [
    {
     "name": "stdout",
     "output_type": "stream",
     "text": [
      "5\n"
     ]
    },
    {
     "data": {
      "text/plain": [
       "@0x7fe4ab541ba0"
      ]
     },
     "execution_count": 198,
     "metadata": {},
     "output_type": "execute_result"
    }
   ],
   "source": [
    "int array[5] {1, 2, 3, 4, 5};\n",
    "\n",
    "cout << sizeof(array) / sizeof(array[0]) << endl; // / - оператор деления"
   ]
  },
  {
   "cell_type": "markdown",
   "id": "c8c4aaad",
   "metadata": {},
   "source": [
    "sizeof(array) возвращает размер всего массива в байтах: *длина_массива* * *размер_типа_массива*. \n",
    "sizeof(array[0]) возвращает размер одного элемента массива: *размер_типа_элемента*.\n",
    "Тогда sizeof(array) / sizeof(array[0]) = *длина_массива* * *размер_типа_массива* / *размер_типа_элемента*.\n",
    "Т. к. *размер_типа_массива* и *размер_типа_элемента* равны, то в итоге это частное равняется длине массива."
   ]
  },
  {
   "cell_type": "markdown",
   "id": "8482abbd",
   "metadata": {},
   "source": [
    "## Операторы в C++"
   ]
  },
  {
   "cell_type": "markdown",
   "id": "d39e8c96",
   "metadata": {},
   "source": [
    "### Оператор присваивания: =\n",
    "Присваивает значение переменной.\n",
    "\n",
    "Выполняется для всех стандартных типов."
   ]
  },
  {
   "cell_type": "code",
   "execution_count": 199,
   "id": "37a96e56",
   "metadata": {},
   "outputs": [],
   "source": [
    "int a = 1;\n",
    "int b = 2;\n",
    "\n",
    "float fa = 12.34;\n",
    "float fb = 23.45;\n",
    "\n",
    "char ca = 'a';\n",
    "char cb = 'b';\n",
    "\n",
    "bool ba = true;\n",
    "bool bb = false;"
   ]
  },
  {
   "cell_type": "markdown",
   "id": "7134263a",
   "metadata": {},
   "source": [
    "### Арифметические операторы:"
   ]
  },
  {
   "cell_type": "markdown",
   "id": "7786f209",
   "metadata": {},
   "source": [
    "#### Оператор сложения: +\n",
    "Выполняется для всех стандартных типов данных."
   ]
  },
  {
   "cell_type": "code",
   "execution_count": 200,
   "id": "c233a336",
   "metadata": {},
   "outputs": [
    {
     "name": "stdout",
     "output_type": "stream",
     "text": [
      "3\n",
      "35.79\n",
      "195\n",
      "1\n"
     ]
    }
   ],
   "source": [
    "cout << a + b << endl;\n",
    "\n",
    "cout << fa + fb << endl;\n",
    "\n",
    "cout << ca + cb << endl;\n",
    "\n",
    "cout << ba + bb << endl;"
   ]
  },
  {
   "cell_type": "markdown",
   "id": "9c7f6832",
   "metadata": {},
   "source": [
    "#### Оператор вычитания: -\n",
    "Выполняется для всех стандартных типов данных."
   ]
  },
  {
   "cell_type": "code",
   "execution_count": 201,
   "id": "75108093",
   "metadata": {},
   "outputs": [
    {
     "name": "stdout",
     "output_type": "stream",
     "text": [
      "-1\n",
      "-11.11\n",
      "-1\n",
      "1\n"
     ]
    }
   ],
   "source": [
    "cout << a - b << endl;\n",
    "\n",
    "cout << fa - fb << endl;\n",
    "\n",
    "cout << ca - cb << endl;\n",
    "\n",
    "cout << ba - bb << endl;"
   ]
  },
  {
   "cell_type": "markdown",
   "id": "5c1ced59",
   "metadata": {},
   "source": [
    "#### Оператор умножения: *\n",
    "Выполняется для всех стандартных типов данных."
   ]
  },
  {
   "cell_type": "code",
   "execution_count": 202,
   "id": "dc3bbf69",
   "metadata": {},
   "outputs": [
    {
     "name": "stdout",
     "output_type": "stream",
     "text": [
      "2\n",
      "289.373\n",
      "9506\n",
      "0\n"
     ]
    }
   ],
   "source": [
    "cout << a * b << endl;\n",
    "\n",
    "cout << fa * fb << endl;\n",
    "\n",
    "cout << ca * cb << endl;\n",
    "\n",
    "cout << ba * bb << endl;"
   ]
  },
  {
   "cell_type": "markdown",
   "id": "0a94c21f",
   "metadata": {},
   "source": [
    "#### Оператор деления: /\n",
    "Выполняется для численных типов данных (целые числа и числа с плавающей точкой).\n",
    "\n",
    "Для целых чисел выполняется целочисленное деление: 10 / 3 = 3."
   ]
  },
  {
   "cell_type": "code",
   "execution_count": 203,
   "id": "d4359532",
   "metadata": {},
   "outputs": [
    {
     "name": "stdout",
     "output_type": "stream",
     "text": [
      "0\n",
      "10 / 2 = 5\n",
      "10 / 3 = 3\n",
      "0.526226\n"
     ]
    }
   ],
   "source": [
    "cout << a / b << endl;\n",
    "\n",
    "cout << \"10 / 2 = \" << 10 / 2 << endl;\n",
    "\n",
    "cout << \"10 / 3 = \" << 10 / 3 << endl;\n",
    "\n",
    "cout << fa / fb << endl;"
   ]
  },
  {
   "cell_type": "markdown",
   "id": "714a2aa1",
   "metadata": {},
   "source": [
    "#### Оператор деления по модулю: %\n",
    "10 % 2 = 0, 10 % 3 = 1, 10 % 4 = 2, 10 % 11 = 10;\n",
    "\n",
    "Выполняется только для целых чисел."
   ]
  },
  {
   "cell_type": "code",
   "execution_count": 204,
   "id": "ab80b9b4",
   "metadata": {},
   "outputs": [
    {
     "name": "stdout",
     "output_type": "stream",
     "text": [
      "1\n",
      "10 % 3 = 1\n"
     ]
    }
   ],
   "source": [
    "cout << a % b << endl;\n",
    "\n",
    "cout << \"10 % 3 = \" << 10 % 3 << endl;"
   ]
  },
  {
   "cell_type": "markdown",
   "id": "839ac70e",
   "metadata": {},
   "source": [
    "#### Оператор унарного +: +\n",
    "a = 3;\n",
    "+a = 3;\n",
    "\n",
    "Выполняется для всех стандартных типов данных."
   ]
  },
  {
   "cell_type": "code",
   "execution_count": 205,
   "id": "1d0d0390",
   "metadata": {},
   "outputs": [
    {
     "name": "stdout",
     "output_type": "stream",
     "text": [
      "1 2\n",
      "12.34 23.45\n",
      "97 98\n",
      "1 0\n"
     ]
    }
   ],
   "source": [
    "cout << +a << ' ' << +b << endl;\n",
    "\n",
    "cout << +fa << ' ' << +fb << endl;\n",
    "\n",
    "cout << +ca << ' ' << +cb << endl;\n",
    "\n",
    "cout << +ba << ' ' << +bb << endl;"
   ]
  },
  {
   "cell_type": "markdown",
   "id": "78c5b52a",
   "metadata": {},
   "source": [
    "#### Оператор унарного -: -\n",
    "a = 3;\n",
    "-a = -3;\n",
    "\n",
    "Выполняется для всех стандартных типов данных."
   ]
  },
  {
   "cell_type": "code",
   "execution_count": 206,
   "id": "c04dc8dd",
   "metadata": {},
   "outputs": [
    {
     "name": "stdout",
     "output_type": "stream",
     "text": [
      "-1 -2\n",
      "-12.34 -23.45\n",
      "-97 -98\n",
      "-1 0\n"
     ]
    }
   ],
   "source": [
    "cout << -a << ' ' << -b << endl;\n",
    "\n",
    "cout << -fa << ' ' << -fb << endl;\n",
    "\n",
    "cout << -ca << ' ' << -cb << endl;\n",
    "\n",
    "cout << -ba << ' ' << -bb << endl;"
   ]
  },
  {
   "cell_type": "markdown",
   "id": "078c2b91",
   "metadata": {},
   "source": [
    "#### Операторы инкремента и декремента: ++ и --\n",
    "++ - инкремент\n",
    "\n",
    "\\-\\- - декремент\n",
    "\n",
    "Оператор инкремента увеличивает значение переменной на 1. \n",
    "Оператор декремента уменьшает значение переменной на 1.\n",
    "\n",
    "Данные операторы бывают префиксными и постфиксными:\n",
    "++a или \\-\\-a - префиксные, а a++ или a\\-\\- - постфиксные.\n",
    "\n",
    "Префиксный оператор увеличивает/уменьшает значение переменной, а после возвращает эту переменную:\n",
    "\n",
    "a = 10;\n",
    "\n",
    "b = ++a;\n",
    "\n",
    "b = 11;\n",
    "\n",
    "\n",
    "Постфиксный оператор увеличивает/уменьшает значение переменной, но возвращает её предыдущее значение:\n",
    "\n",
    "a = 10;\n",
    "\n",
    "b = a--;\n",
    "\n",
    "b = 10;\n",
    "\n",
    "Выполняются только для целых чисел."
   ]
  },
  {
   "cell_type": "code",
   "execution_count": 207,
   "id": "60cea989",
   "metadata": {},
   "outputs": [
    {
     "name": "stdout",
     "output_type": "stream",
     "text": [
      "Prefix increment: a = 1 ++a = 2 a = 2\n",
      "Prefix decrement: a = 2 --a = 1 a = 1\n",
      "Postfix increment: b = 2 b++ = 2 b = 3\n",
      "Postfix decrement: b = 3 b-- = 3 b = 2\n"
     ]
    }
   ],
   "source": [
    "cout << \"Prefix increment: \" << \"a = \" << a << ' ';\n",
    "cout << \"++a = \" << ++a << ' ';\n",
    "cout << \"a = \" << a << endl;\n",
    "\n",
    "cout << \"Prefix decrement: \" << \"a = \" << a << ' ';\n",
    "cout << \"--a = \" << --a << ' ';\n",
    "cout << \"a = \" << a << endl;\n",
    "\n",
    "cout << \"Postfix increment: \" << \"b = \" << b << ' ';\n",
    "cout << \"b++ = \" << b++ << ' ';\n",
    "cout << \"b = \" << b << endl;\n",
    "\n",
    "cout << \"Postfix decrement: \" << \"b = \" << b << ' ';\n",
    "cout << \"b-- = \" << b-- << ' ';\n",
    "cout << \"b = \" << b << endl;"
   ]
  },
  {
   "cell_type": "markdown",
   "id": "1b432c48",
   "metadata": {},
   "source": [
    "### Операторы сравнения:\n",
    "Сравнивают 2 объекта.\n",
    "\n",
    "Результатом выполнения этих операторов является логический тип данных."
   ]
  },
  {
   "cell_type": "markdown",
   "id": "059004ea",
   "metadata": {},
   "source": [
    "#### Оператор равенства: ==\n",
    "Результатом является true, если объекты равны, иначе false."
   ]
  },
  {
   "cell_type": "code",
   "execution_count": 208,
   "id": "c1fc99b1",
   "metadata": {},
   "outputs": [
    {
     "name": "stdout",
     "output_type": "stream",
     "text": [
      "a == b = 0\n",
      "a == 1 = 1\n"
     ]
    }
   ],
   "source": [
    "bool eq_res1 = a == b;\n",
    "bool eq_res2 = a == 1;\n",
    "\n",
    "cout << \"a == b = \" << eq_res1 << endl;\n",
    "cout << \"a == 1 = \" << eq_res2 << endl;"
   ]
  },
  {
   "cell_type": "markdown",
   "id": "d4e200fb",
   "metadata": {},
   "source": [
    "#### Оператор неравенства: !=\n",
    "Результатом является true, если объекты не равно, иначе false."
   ]
  },
  {
   "cell_type": "code",
   "execution_count": 209,
   "id": "4747e5a9",
   "metadata": {},
   "outputs": [
    {
     "name": "stdout",
     "output_type": "stream",
     "text": [
      "a != b = 1\n",
      "a != 1 = 0\n"
     ]
    }
   ],
   "source": [
    "bool ne_res1 = a != b;\n",
    "bool ne_res2 = a != 1;\n",
    "\n",
    "cout << \"a != b = \" << ne_res1 << endl;\n",
    "cout << \"a != 1 = \" << ne_res2 << endl;"
   ]
  },
  {
   "cell_type": "markdown",
   "id": "a2c1ef94",
   "metadata": {},
   "source": [
    "#### Оператор меньше: <\n",
    "Результатом является true, если объект 1 меньше объекта 2."
   ]
  },
  {
   "cell_type": "code",
   "execution_count": 210,
   "id": "f19b9265",
   "metadata": {},
   "outputs": [
    {
     "name": "stdout",
     "output_type": "stream",
     "text": [
      "a < b = 1\n",
      "a < 1 = 0\n",
      "1 < 2 = 1\n",
      "1 < 1 = 0\n"
     ]
    }
   ],
   "source": [
    "bool lt_res1 = a < b;\n",
    "bool lt_res2 = a < 1;\n",
    "bool lt_res3 = 1 < 2;\n",
    "bool lt_res4 = 1 < 1;\n",
    "\n",
    "cout << \"a < b = \" << (a < b) << endl;\n",
    "cout << \"a < 1 = \" << (a < 1) << endl;\n",
    "cout << \"1 < 2 = \" << (1 < 2) << endl;\n",
    "cout << \"1 < 1 = \" << (1 < 1) << endl;"
   ]
  },
  {
   "cell_type": "markdown",
   "id": "ed578e6d",
   "metadata": {},
   "source": [
    "#### Оператор больше: >\n",
    "Результатом является true, если объект 1 больше объекта 2."
   ]
  },
  {
   "cell_type": "code",
   "execution_count": 211,
   "id": "11adeb87",
   "metadata": {},
   "outputs": [
    {
     "name": "stdout",
     "output_type": "stream",
     "text": [
      "a > b = 0\n",
      "a > 1 = 0\n",
      "1 > 2 = 0\n",
      "1 > 1 = 0\n"
     ]
    }
   ],
   "source": [
    "bool gt_res1 = a > b;\n",
    "bool gt_res2 = a > 1;\n",
    "bool gt_res3 = 1 > 2;\n",
    "bool gt_res4 = 1 > 1;\n",
    "\n",
    "cout << \"a > b = \" << (a > b) << endl;\n",
    "cout << \"a > 1 = \" << (a > 1) << endl;\n",
    "cout << \"1 > 2 = \" << (1 > 2) << endl;\n",
    "cout << \"1 > 1 = \" << (1 > 1) << endl;"
   ]
  },
  {
   "cell_type": "markdown",
   "id": "da31d8b7",
   "metadata": {},
   "source": [
    "#### Оператор меньше или равно: <=\n",
    "Результатом является true, если объект 1 меньше объекта 2 или равен ему."
   ]
  },
  {
   "cell_type": "code",
   "execution_count": 212,
   "id": "1e55a11b",
   "metadata": {},
   "outputs": [
    {
     "name": "stdout",
     "output_type": "stream",
     "text": [
      "a <= b = 1\n",
      "a <= 1 = 1\n",
      "1 <= 2 = 1\n",
      "1 <= 1 = 1\n"
     ]
    }
   ],
   "source": [
    "bool le_res1 = a <= b;\n",
    "bool le_res2 = a <= 1;\n",
    "bool le_res3 = 1 <= 2;\n",
    "bool le_res4 = 1 <= 1;\n",
    "\n",
    "cout << \"a <= b = \" << (a <= b) << endl;\n",
    "cout << \"a <= 1 = \" << (a <= 1) << endl;\n",
    "cout << \"1 <= 2 = \" << (1 <= 2) << endl;\n",
    "cout << \"1 <= 1 = \" << (1 <= 1) << endl;"
   ]
  },
  {
   "cell_type": "markdown",
   "id": "6955c3d5",
   "metadata": {},
   "source": [
    "#### Оператор больше или равно: >=\n",
    "Результатом является true, если объект 1 больше объекта 2 или равен ему."
   ]
  },
  {
   "cell_type": "code",
   "execution_count": 213,
   "id": "11b7f596",
   "metadata": {},
   "outputs": [
    {
     "name": "stdout",
     "output_type": "stream",
     "text": [
      "a >= b = 0\n",
      "a >= 1 = 1\n",
      "1 >= 2 = 0\n",
      "1 >= 1 = 1\n"
     ]
    }
   ],
   "source": [
    "bool ge_res1 = a >= b;\n",
    "bool ge_res2 = a >= 1;\n",
    "bool ge_res3 = 1 >= 2;\n",
    "bool ge_res4 = 1 >= 1;\n",
    "\n",
    "cout << \"a >= b = \" << (a >= b) << endl;\n",
    "cout << \"a >= 1 = \" << (a >= 1) << endl;\n",
    "cout << \"1 >= 2 = \" << (1 >= 2) << endl;\n",
    "cout << \"1 >= 1 = \" << (1 >= 1) << endl;"
   ]
  },
  {
   "cell_type": "markdown",
   "id": "937ff250",
   "metadata": {},
   "source": [
    "### Логические операторы:\n",
    "Выполняются над объектами логического типа."
   ]
  },
  {
   "cell_type": "code",
   "execution_count": 214,
   "id": "a5418b5d",
   "metadata": {},
   "outputs": [],
   "source": [
    "bool true_var = true;\n",
    "bool false_var = false;"
   ]
  },
  {
   "cell_type": "markdown",
   "id": "8c0f8280",
   "metadata": {},
   "source": [
    "#### Оператор логического отрицания: not или !\n",
    "true обращает в false, false в true."
   ]
  },
  {
   "cell_type": "code",
   "execution_count": 215,
   "id": "17cf68c0",
   "metadata": {},
   "outputs": [
    {
     "name": "stdout",
     "output_type": "stream",
     "text": [
      "not true = 0\n",
      "not false = 1\n"
     ]
    }
   ],
   "source": [
    "cout << \"not true = \" << not true_var << endl;\n",
    "cout << \"not false = \" << !false_var << endl;"
   ]
  },
  {
   "cell_type": "markdown",
   "id": "ded46c30",
   "metadata": {},
   "source": [
    "#### Оператор логического умножения (логическое и): and или &&\n",
    "false && false = false;\n",
    "\n",
    "false && true = false;\n",
    "\n",
    "true && false = false;\n",
    "\n",
    "true && true = true;"
   ]
  },
  {
   "cell_type": "code",
   "execution_count": 216,
   "id": "a9200f51",
   "metadata": {},
   "outputs": [
    {
     "name": "stdout",
     "output_type": "stream",
     "text": [
      "false and false = 0\n",
      "false and true = 0\n",
      "true and false = 0\n",
      "true and true = 1\n"
     ]
    }
   ],
   "source": [
    "cout << \"false and false = \" << (false_var and false_var) << endl;\n",
    "cout << \"false and true = \" << (false_var && true_var) << endl;\n",
    "cout << \"true and false = \" << (true_var and false_var) << endl;\n",
    "cout << \"true and true = \" << (true_var && true_var) << endl;"
   ]
  },
  {
   "cell_type": "markdown",
   "id": "2d80f44d",
   "metadata": {},
   "source": [
    "#### Оператор логического сложения (логическое или): or или ||\n",
    "false || false = false;\n",
    "\n",
    "false || true = true;\n",
    "\n",
    "true || false = true;\n",
    "\n",
    "true || true = true;"
   ]
  },
  {
   "cell_type": "code",
   "execution_count": 217,
   "id": "735cc70c",
   "metadata": {},
   "outputs": [
    {
     "name": "stdout",
     "output_type": "stream",
     "text": [
      "false or false = 0\n",
      "false or true = 1\n",
      "true or false = 1\n",
      "true or true = 1\n"
     ]
    }
   ],
   "source": [
    "cout << \"false or false = \" << (false_var or false_var) << endl;\n",
    "cout << \"false or true = \" << (false_var || true_var) << endl;\n",
    "cout << \"true or false = \" << (true_var or false_var) << endl;\n",
    "cout << \"true or true = \" << (true_var || true_var) << endl;"
   ]
  },
  {
   "cell_type": "markdown",
   "id": "eff3b9b3",
   "metadata": {},
   "source": [
    "### Битовые операторы:\n",
    "Выполняются для целочисленных переменных."
   ]
  },
  {
   "cell_type": "code",
   "execution_count": 218,
   "id": "87145526",
   "metadata": {},
   "outputs": [],
   "source": [
    "int a = 10;"
   ]
  },
  {
   "cell_type": "markdown",
   "id": "ec6b093d",
   "metadata": {},
   "source": [
    "#### Оператор битового отрицания: ~ или compl\n",
    "$10_{10} = 1010_2$\n",
    "\n",
    "$\\text{~}10_{10} = 0101_2 = 5_{10}$"
   ]
  },
  {
   "cell_type": "code",
   "execution_count": 219,
   "id": "7ac79d49",
   "metadata": {},
   "outputs": [
    {
     "name": "stdout",
     "output_type": "stream",
     "text": [
      "a = 10 ~a = -11 ~(compl a) = 10\n"
     ]
    }
   ],
   "source": [
    "cout << \"a = \" << a << ' ';\n",
    "cout << \"~a = \" << ~a << ' ';\n",
    "cout << \"~(compl a) = \" << ~(compl a) << endl;"
   ]
  },
  {
   "cell_type": "markdown",
   "id": "c011b666",
   "metadata": {},
   "source": [
    "#### Оператор битового умножения (битовое и): & или bitand\n",
    "$\\text{a = }10_{10} = 1010_2$\n",
    "\n",
    "$\\text{b = }15_{10} = 1111_2$\n",
    "\n",
    "$\\text{a & b = }10_{10}\\text{ & }15_{10}\\text{ = }1010_2\\text{ & }1111_2\\text{ = }1010_2\\text{ = }10_{10}$"
   ]
  },
  {
   "cell_type": "code",
   "execution_count": 220,
   "id": "35419363",
   "metadata": {},
   "outputs": [],
   "source": [
    "int b = 15;"
   ]
  },
  {
   "cell_type": "code",
   "execution_count": 221,
   "id": "a5a1af0f",
   "metadata": {},
   "outputs": [
    {
     "name": "stdout",
     "output_type": "stream",
     "text": [
      "a & b = 10\n",
      "b bitand a = 10\n"
     ]
    }
   ],
   "source": [
    "cout << \"a & b = \" << (a & b) << endl;\n",
    "cout << \"b bitand a = \" << (b bitand a) << endl;"
   ]
  },
  {
   "cell_type": "markdown",
   "id": "f2b08ae4",
   "metadata": {},
   "source": [
    "#### Оператор битового сложения (битовое или): | или bitor\n",
    "$\\text{a = }10_{10} = 1010_2$\n",
    "\n",
    "$\\text{b = }15_{10} = 1111_2$\n",
    "\n",
    "$\\text{a | b = }10_{10}\\text{ | }15_{10}\\text{ = }1010_2\\text{ | }1111_2\\text{ = }1111_2\\text{ = }15_{10}$"
   ]
  },
  {
   "cell_type": "code",
   "execution_count": 222,
   "id": "af98ce70",
   "metadata": {},
   "outputs": [
    {
     "name": "stdout",
     "output_type": "stream",
     "text": [
      "a | b = 15\n",
      "b bitor a = 15\n"
     ]
    }
   ],
   "source": [
    "cout << \"a | b = \" << (a | b) << endl;\n",
    "cout << \"b bitor a = \" << (b bitor a) << endl;"
   ]
  },
  {
   "cell_type": "markdown",
   "id": "1594de26",
   "metadata": {},
   "source": [
    "#### Оператор исключающего или (XOR): ^ или xor\n",
    "$\\text{a = }10_{10} = 1010_2$\n",
    "\n",
    "$\\text{b = }15_{10} = 1111_2$\n",
    "\n",
    "$\\text{a ^ b = }10_{10}\\text{ ^ }15_{10}\\text{ = }1010_2\\text{ ^ }1111_2\\text{ = }0101_2\\text{ = }5_{10}$"
   ]
  },
  {
   "cell_type": "code",
   "execution_count": 223,
   "id": "27206dff",
   "metadata": {},
   "outputs": [
    {
     "name": "stdout",
     "output_type": "stream",
     "text": [
      "a ^ b = 5\n",
      "b xor a = 5\n"
     ]
    }
   ],
   "source": [
    "cout << \"a ^ b = \" << (a ^ b) << endl;\n",
    "cout << \"b xor a = \" << (b xor a) << endl;"
   ]
  },
  {
   "cell_type": "markdown",
   "id": "a8fe4f4b",
   "metadata": {},
   "source": [
    "#### Оператор битового сдвига влево: <<\n",
    "Несмотря на схожее написание, оператор битового сдвига влево и оператор вывода cout - разные операторы.\n",
    "\n",
    "$\\text{a = }10_{10}\\text{ = }1010_2$\n",
    "\n",
    "$\\text{a << 2 = }101000_2\\text{ = }40_{10}$"
   ]
  },
  {
   "cell_type": "code",
   "execution_count": 224,
   "id": "3a6735b0",
   "metadata": {},
   "outputs": [],
   "source": [
    "char var = 10;"
   ]
  },
  {
   "cell_type": "code",
   "execution_count": 225,
   "id": "711397a1",
   "metadata": {},
   "outputs": [
    {
     "name": "stdout",
     "output_type": "stream",
     "text": [
      "var << 2 = 40\n"
     ]
    }
   ],
   "source": [
    "cout << \"var << 2 = \" << (var << 2) << endl;"
   ]
  },
  {
   "cell_type": "markdown",
   "id": "f3a874ac",
   "metadata": {},
   "source": [
    "#### Оператор битового сдвига вправо: >>\n",
    "$\\text{a = }10_{10}\\text{ = }1010_2$\n",
    "\n",
    "$\\text{a >> 1 = }0101_2\\text{ = }5_{10}$"
   ]
  },
  {
   "cell_type": "code",
   "execution_count": 226,
   "id": "dcaca89d",
   "metadata": {},
   "outputs": [
    {
     "name": "stdout",
     "output_type": "stream",
     "text": [
      "var >> 1 = 5\n"
     ]
    }
   ],
   "source": [
    "cout << \"var >> 1 = \" << (var >> 1) << endl;"
   ]
  },
  {
   "cell_type": "markdown",
   "id": "ea0491e9",
   "metadata": {},
   "source": [
    "### Операторы составного присваивания\n",
    "Операторы составного присваивания выглядят так: object1 @= object2, \n",
    "где @ - оператор из множества $\\text{\\{+, -, *, /, %, &, |, ^, <<, >>\\}}$.\n",
    "\n",
    "Оператор составного присваивания a @= b эквивалентен a = a @ b.\n",
    "\n",
    "Выполняются для объектов того типа, для которых выполняется оператор @."
   ]
  },
  {
   "cell_type": "code",
   "execution_count": 227,
   "id": "60fd18d3",
   "metadata": {},
   "outputs": [
    {
     "name": "stdout",
     "output_type": "stream",
     "text": [
      "var = 10\n"
     ]
    }
   ],
   "source": [
    "int var = 10;\n",
    "cout << \"var = \" << var << endl;"
   ]
  },
  {
   "cell_type": "code",
   "execution_count": 228,
   "id": "da0fc33b",
   "metadata": {},
   "outputs": [
    {
     "name": "stdout",
     "output_type": "stream",
     "text": [
      "var += 1: 11\n"
     ]
    }
   ],
   "source": [
    "var += 1;\n",
    "cout << \"var += 1: \" << var << endl;"
   ]
  },
  {
   "cell_type": "code",
   "execution_count": 229,
   "id": "a85fe534",
   "metadata": {},
   "outputs": [
    {
     "name": "stdout",
     "output_type": "stream",
     "text": [
      "var -= 1: 10\n"
     ]
    }
   ],
   "source": [
    "var -= 1;\n",
    "cout << \"var -= 1: \" << var << endl;"
   ]
  },
  {
   "cell_type": "code",
   "execution_count": 230,
   "id": "d1b77d1b",
   "metadata": {},
   "outputs": [
    {
     "name": "stdout",
     "output_type": "stream",
     "text": [
      "var *= 2: 20\n"
     ]
    }
   ],
   "source": [
    "var *= 2;\n",
    "cout << \"var *= 2: \" << var << endl;"
   ]
  },
  {
   "cell_type": "code",
   "execution_count": 231,
   "id": "ecb3cbae",
   "metadata": {},
   "outputs": [
    {
     "name": "stdout",
     "output_type": "stream",
     "text": [
      "var /= 2: 10\n"
     ]
    }
   ],
   "source": [
    "var /= 2;\n",
    "cout << \"var /= 2: \" << var << endl;"
   ]
  },
  {
   "cell_type": "code",
   "execution_count": 232,
   "id": "cd5232c2",
   "metadata": {},
   "outputs": [
    {
     "name": "stdout",
     "output_type": "stream",
     "text": [
      "var %= 7: 3\n"
     ]
    }
   ],
   "source": [
    "var %= 7;\n",
    "cout << \"var %= 7: \" << var << endl;"
   ]
  },
  {
   "cell_type": "code",
   "execution_count": 233,
   "id": "9bf355dd",
   "metadata": {},
   "outputs": [
    {
     "name": "stdout",
     "output_type": "stream",
     "text": [
      "var &= 10: 2\n"
     ]
    }
   ],
   "source": [
    "var &= 10;\n",
    "cout << \"var &= 10: \" << var << endl;"
   ]
  },
  {
   "cell_type": "code",
   "execution_count": 234,
   "id": "4b21cb9c",
   "metadata": {},
   "outputs": [
    {
     "name": "stdout",
     "output_type": "stream",
     "text": [
      "var |= 10: 10\n"
     ]
    }
   ],
   "source": [
    "var |= 10;\n",
    "cout << \"var |= 10: \" << var << endl;"
   ]
  },
  {
   "cell_type": "code",
   "execution_count": 235,
   "id": "4b8e28a8",
   "metadata": {},
   "outputs": [
    {
     "name": "stdout",
     "output_type": "stream",
     "text": [
      "var <<= 2: 40\n"
     ]
    }
   ],
   "source": [
    "var <<= 2;\n",
    "cout << \"var <<= 2: \" << var << endl;"
   ]
  },
  {
   "cell_type": "code",
   "execution_count": 236,
   "id": "d6abbf74",
   "metadata": {},
   "outputs": [
    {
     "name": "stdout",
     "output_type": "stream",
     "text": [
      "var >>= 2: 10\n"
     ]
    }
   ],
   "source": [
    "var >>= 2;\n",
    "cout << \"var >>= 2: \" << var << endl;"
   ]
  },
  {
   "cell_type": "markdown",
   "id": "259dd173",
   "metadata": {},
   "source": [
    "### Другие операторы"
   ]
  },
  {
   "cell_type": "markdown",
   "id": "d9a94b6f",
   "metadata": {},
   "source": [
    "#### Оператор sizeof\n",
    "Возвращает размер переменной или типа данных в байтах.\n",
    "\n",
    "sizeof(int) = 4."
   ]
  },
  {
   "cell_type": "code",
   "execution_count": 237,
   "id": "9138ced6",
   "metadata": {},
   "outputs": [
    {
     "name": "stdout",
     "output_type": "stream",
     "text": [
      "4\n"
     ]
    }
   ],
   "source": [
    "cout << sizeof(int) << endl;"
   ]
  },
  {
   "cell_type": "code",
   "execution_count": 238,
   "id": "893c5f51",
   "metadata": {},
   "outputs": [
    {
     "name": "stdout",
     "output_type": "stream",
     "text": [
      "4\n"
     ]
    }
   ],
   "source": [
    "int var = 10;\n",
    "cout << sizeof(var) << endl;"
   ]
  },
  {
   "cell_type": "markdown",
   "id": "2e913f06",
   "metadata": {},
   "source": [
    "#### Оператор области видимости: ::\n",
    "Предназначен для указания области видимости объекта."
   ]
  },
  {
   "cell_type": "code",
   "execution_count": 239,
   "id": "4dd517fb",
   "metadata": {},
   "outputs": [
    {
     "name": "stdout",
     "output_type": "stream",
     "text": [
      "::\n"
     ]
    }
   ],
   "source": [
    "std::cout << \"::\" << std::endl;"
   ]
  },
  {
   "cell_type": "markdown",
   "id": "1ffe5f16",
   "metadata": {},
   "source": [
    "#### Оператор обращения к элементу массива: [ ]\n",
    "Используется для получения значения по индексу массива и для переназначения данных по индексу массива.\n",
    "\n",
    "array = {1, 2, 3};\n",
    "\n",
    "array[0]: 1;\n",
    "\n",
    "array[0] = 10;\n",
    "\n",
    "array: {10, 2, 3};"
   ]
  },
  {
   "cell_type": "code",
   "execution_count": 240,
   "id": "9f03cc33",
   "metadata": {},
   "outputs": [
    {
     "name": "stdout",
     "output_type": "stream",
     "text": [
      "array[0]: 0\n",
      "array[0]: 10\n"
     ]
    }
   ],
   "source": [
    "int array[5] {0, 1, 2, 3, 4};\n",
    "\n",
    "cout << \"array[0]: \" << array[0] << endl;\n",
    "\n",
    "array[0] = 10;\n",
    "\n",
    "cout << \"array[0]: \" << array[0] << endl;"
   ]
  },
  {
   "cell_type": "markdown",
   "id": "79ad4725",
   "metadata": {},
   "source": [
    "## Условия в C++"
   ]
  },
  {
   "cell_type": "markdown",
   "id": "fc0e7d66",
   "metadata": {},
   "source": [
    "### if else\n",
    "Синтаксис:\n",
    "\n",
    "```\n",
    "if (условие) {\n",
    "    алгоритм\n",
    "}\n",
    "```\n",
    "\n",
    "или \n",
    "\n",
    "```\n",
    "if (условие) {\n",
    "    алгоритм\n",
    "}\n",
    "else {\n",
    "    алгоритм\n",
    "}\n",
    "```\n",
    "\n",
    "или \n",
    "\n",
    "```\n",
    "if (условие) {\n",
    "    алгоритм\n",
    "}\n",
    "else if (условие) {\n",
    "    алгоритм\n",
    "}\n",
    "else if (условие) {\n",
    "    алгоритм\n",
    "}\n",
    "...\n",
    "else {\n",
    "    алгоритм\n",
    "}\n",
    "```\n",
    "\n",
    "Если алгоритм состоит из одной команды, то { } не обязательны."
   ]
  },
  {
   "cell_type": "code",
   "execution_count": 241,
   "id": "03713eec",
   "metadata": {},
   "outputs": [
    {
     "name": "stdout",
     "output_type": "stream",
     "text": [
      "a < b\n"
     ]
    }
   ],
   "source": [
    "int a = 10;\n",
    "int b = 20;\n",
    "\n",
    "if (a < b) cout << \"a < b\";\n",
    "else {\n",
    "    cout << \"a > b\";\n",
    "    cout << \"or\";\n",
    "    cout << \"a == b\";\n",
    "}\n",
    "cout << endl;"
   ]
  },
  {
   "cell_type": "code",
   "execution_count": 242,
   "id": "63f352f2",
   "metadata": {},
   "outputs": [
    {
     "name": "stdout",
     "output_type": "stream",
     "text": [
      "a = 10. Middle. \n"
     ]
    }
   ],
   "source": [
    "int x = 10;\n",
    "\n",
    "cout << \"a = \";\n",
    "if (x == 1) cout << \"1. Low. \";\n",
    "else if (x == 10) {\n",
    "    cout << \"10. \";\n",
    "    cout << \"Middle. \";\n",
    "}\n",
    "else cout << \"100. High. \";\n",
    "cout << endl;"
   ]
  },
  {
   "cell_type": "markdown",
   "id": "1e174eeb",
   "metadata": {},
   "source": [
    "### switch case\n",
    "Синтаксис:\n",
    "\n",
    "```\n",
    "switch (переменная) {\n",
    "    case вариант1:\n",
    "        алгоритм\n",
    "    case вариант2:\n",
    "        алгоритм\n",
    "    case вариант3:\n",
    "    case вариант4:\n",
    "    ...\n",
    "        алгоритм\n",
    "}\n",
    "```\n",
    "\n",
    "В конце алгоритма case необходимо ставить ключевое слово break, если продолжение выполнения switch не нужно.\n",
    "\n",
    "Также можно указать стандартное выполнение switch:\n",
    "\n",
    "```\n",
    "switch (переменная) {\n",
    "    case вариант:\n",
    "        алгоритм\n",
    "    ...\n",
    "    default:\n",
    "        алгоритм\n",
    "}\n",
    "```"
   ]
  },
  {
   "cell_type": "code",
   "execution_count": 243,
   "id": "a40e2b49",
   "metadata": {},
   "outputs": [
    {
     "name": "stdout",
     "output_type": "stream",
     "text": [
      "Too high.\n",
      "Print if standart or too high!\n"
     ]
    }
   ],
   "source": [
    "int x = 100;\n",
    "\n",
    "switch (x) {\n",
    "    case 1:\n",
    "        cout << 1 << endl;\n",
    "        break;\n",
    "    case 10:\n",
    "        cout << 10 << endl;\n",
    "        break;\n",
    "    case 100:\n",
    "    case 1000:\n",
    "        cout << \"Too high.\" << endl;\n",
    "    default:\n",
    "        cout << \"Print if standart or too high!\" << endl;\n",
    "}"
   ]
  },
  {
   "cell_type": "markdown",
   "id": "cd60ac0a",
   "metadata": {},
   "source": [
    "## Циклы"
   ]
  },
  {
   "cell_type": "markdown",
   "id": "b6344b8e",
   "metadata": {},
   "source": [
    "### for-loop\n",
    "Синтаксис:\n",
    "\n",
    "```\n",
    "for (тип переменная = значение; условие выхода; шаг) {\n",
    "    тело цикла\n",
    "}\n",
    "```\n",
    "\n",
    "{ } не обязательны, если тело цикла состоит из одной команды.\n",
    "\n",
    "Также в C++ можно создать цикл for с несколькими переменными.\n",
    "\n",
    "```\n",
    "for (int i = 0, j = 0, k = 0; i < 10 or j > -20; i++, k += 10) {\n",
    "    тело цикла\n",
    "}\n",
    "```"
   ]
  },
  {
   "cell_type": "code",
   "execution_count": 244,
   "id": "c7f8b4ca",
   "metadata": {},
   "outputs": [
    {
     "name": "stdout",
     "output_type": "stream",
     "text": [
      "0 1 2 3 4 5 6 7 8 9 \n"
     ]
    }
   ],
   "source": [
    "for (int i = 0; i < 10; i++) cout << i << ' ';\n",
    "cout << endl;"
   ]
  },
  {
   "cell_type": "code",
   "execution_count": 245,
   "id": "84ebbe7e",
   "metadata": {},
   "outputs": [
    {
     "name": "stdout",
     "output_type": "stream",
     "text": [
      "0 -1 0\n",
      "1 -2 10\n",
      "2 -3 20\n",
      "3 -4 30\n",
      "4 -5 40\n",
      "5 -6 50\n",
      "6 -7 60\n",
      "7 -8 70\n",
      "8 -9 80\n",
      "9 -10 90\n",
      "10 -11 100\n",
      "11 -12 110\n",
      "12 -13 120\n",
      "13 -14 130\n",
      "14 -15 140\n",
      "15 -16 150\n",
      "16 -17 160\n",
      "17 -18 170\n",
      "18 -19 180\n",
      "19 -20 190\n"
     ]
    }
   ],
   "source": [
    "for (int i = 0, j = 0, k = 0; i < 10 or j > -20; i++, k += 10) {\n",
    "    j--;\n",
    "    cout << i << ' ' << j << ' ' << k << endl;\n",
    "}"
   ]
  },
  {
   "cell_type": "markdown",
   "id": "c91ba466",
   "metadata": {},
   "source": [
    "### while-loops"
   ]
  },
  {
   "cell_type": "markdown",
   "id": "c293c1eb",
   "metadata": {},
   "source": [
    "#### while\n",
    "Синтаксис:\n",
    "\n",
    "```\n",
    "while (условие) {\n",
    "    тело цикла\n",
    "}\n",
    "```\n",
    "\n",
    "{ } не обязательны, если тело цикла состоит из одной команды."
   ]
  },
  {
   "cell_type": "code",
   "execution_count": 246,
   "id": "980e8580",
   "metadata": {},
   "outputs": [
    {
     "name": "stdout",
     "output_type": "stream",
     "text": [
      "1 2 3 4 5 6 7 8 9 10 \n"
     ]
    }
   ],
   "source": [
    "int i = 0;\n",
    "while (i++ < 10) cout << i << ' ';\n",
    "cout << endl;"
   ]
  },
  {
   "cell_type": "code",
   "execution_count": 247,
   "id": "7a4409e7",
   "metadata": {},
   "outputs": [
    {
     "name": "stdout",
     "output_type": "stream",
     "text": [
      "1 2 3 4 5 6 7 8 9 \n"
     ]
    }
   ],
   "source": [
    "int i = 0;\n",
    "while (++i < 10) cout << i << ' ';\n",
    "cout << endl;"
   ]
  },
  {
   "cell_type": "code",
   "execution_count": 248,
   "id": "a1111b0c",
   "metadata": {},
   "outputs": [
    {
     "name": "stdout",
     "output_type": "stream",
     "text": [
      "0 1 2 3 4 5 6 7 8 9 "
     ]
    }
   ],
   "source": [
    "int i = 0;\n",
    "while (i < 10) {\n",
    "    cout << i << ' ';\n",
    "    i++;\n",
    "}"
   ]
  },
  {
   "cell_type": "markdown",
   "id": "4528da08",
   "metadata": {},
   "source": [
    "#### do-while\n",
    "Синтаксис:\n",
    "\n",
    "```\n",
    "do {\n",
    "    тело цикла\n",
    "} while (условие);\n",
    "```\n",
    "\n",
    "{ } не обязательны, если тело цикла состоит из одной команды."
   ]
  },
  {
   "cell_type": "code",
   "execution_count": 249,
   "id": "8522ed2b",
   "metadata": {},
   "outputs": [
    {
     "name": "stdout",
     "output_type": "stream",
     "text": [
      "0 1 2 3 4 5 6 7 8 9 10 "
     ]
    }
   ],
   "source": [
    "int i = 0;\n",
    "do cout << i << ' '; while (i++ < 10);"
   ]
  },
  {
   "cell_type": "code",
   "execution_count": 250,
   "id": "edebcfba",
   "metadata": {},
   "outputs": [
    {
     "name": "stdout",
     "output_type": "stream",
     "text": [
      "0 1 2 3 4 5 6 7 8 9 "
     ]
    }
   ],
   "source": [
    "int i = 0;\n",
    "do {\n",
    "    cout << i << ' ';\n",
    "} while (++i < 10);"
   ]
  },
  {
   "cell_type": "code",
   "execution_count": 251,
   "id": "53429df1",
   "metadata": {},
   "outputs": [
    {
     "name": "stdout",
     "output_type": "stream",
     "text": [
      "0 1 2 3 4 5 6 7 8 9 "
     ]
    }
   ],
   "source": [
    "int i = 0;\n",
    "do {\n",
    "    cout << i << ' ';\n",
    "    i++;\n",
    "} while (i < 10);"
   ]
  },
  {
   "cell_type": "markdown",
   "id": "bc63a9c3",
   "metadata": {},
   "source": [
    "## Функции в C++\n",
    "Функция - подпрограмма, фрагмент программного кода, к которому можно обратиться из другого места программы.\n",
    "\n",
    "В функцию можно передать аргументы (или не передавать). \n",
    "Функция может вернуть какой-либо объект (или не возвращать).\n",
    "\n",
    "Синтаксис:\n",
    "\n",
    "```\n",
    "ТИП название_функции() {\n",
    "    тело функции\n",
    "    return ТИП;\n",
    "}\n",
    "```\n",
    "\n",
    "или\n",
    "\n",
    "```\n",
    "ТИП название_функции(ТИП_АРГУМЕНТА аргумент1, ТИП_АРГУМЕНТА аргумент2, ...) {\n",
    "    тело функции\n",
    "    return ТИП;\n",
    "}\n",
    "```\n",
    "\n",
    "или\n",
    "\n",
    "```\n",
    "void название_функции(...) {\n",
    "    тело_функции\n",
    "}\n",
    "```"
   ]
  },
  {
   "cell_type": "code",
   "execution_count": 254,
   "id": "42c33d15",
   "metadata": {},
   "outputs": [],
   "source": [
    "void func(int x) {\n",
    "    cout << \"x = \" << x << endl;\n",
    "}"
   ]
  },
  {
   "cell_type": "code",
   "execution_count": 255,
   "id": "e8d927cd",
   "metadata": {},
   "outputs": [
    {
     "name": "stdout",
     "output_type": "stream",
     "text": [
      "x = 10\n"
     ]
    }
   ],
   "source": [
    "func(10);"
   ]
  },
  {
   "cell_type": "code",
   "execution_count": null,
   "id": "8ea539c3",
   "metadata": {},
   "outputs": [],
   "source": []
  }
 ],
 "metadata": {
  "celltoolbar": "Raw Cell Format",
  "kernelspec": {
   "display_name": "C++14",
   "language": "C++14",
   "name": "xcpp14"
  },
  "language_info": {
   "codemirror_mode": "text/x-c++src",
   "file_extension": ".cpp",
   "mimetype": "text/x-c++src",
   "name": "c++",
   "version": "14"
  }
 },
 "nbformat": 4,
 "nbformat_minor": 5
}
