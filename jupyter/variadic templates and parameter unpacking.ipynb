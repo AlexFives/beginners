{
 "cells": [
  {
   "cell_type": "markdown",
   "id": "6bcfbdc6",
   "metadata": {},
   "source": [
    "# Variadic templates (Вариативные шаблоны)"
   ]
  },
  {
   "cell_type": "markdown",
   "id": "dc7aad1f",
   "metadata": {},
   "source": [
    "Это шаблоны в C++, которые могут принимать переменное число аргументов."
   ]
  },
  {
   "cell_type": "markdown",
   "id": "83826d55",
   "metadata": {},
   "source": [
    "Чтобы понять их смысл, попробуем реализовать функцию print из путона на C++."
   ]
  },
  {
   "cell_type": "markdown",
   "id": "6776c3fe",
   "metadata": {},
   "source": [
    "Задача состоит в том, что необходимо создать такую функцию, в которую можно передать любое число параметров, поддерживающих вывод, и она выведет их все в консоль через \" \", в конце стоит символ новой строки ('\\n')."
   ]
  },
  {
   "cell_type": "code",
   "execution_count": 31,
   "id": "98608c67",
   "metadata": {},
   "outputs": [],
   "source": [
    "#include <iostream>\n",
    "\n",
    "using namespace std;"
   ]
  },
  {
   "cell_type": "markdown",
   "id": "9015e57d",
   "metadata": {},
   "source": [
    "Реализуем функцию, которая принимает на вход только 1 аргумент и выводит его:"
   ]
  },
  {
   "cell_type": "code",
   "execution_count": 39,
   "id": "5c145f66",
   "metadata": {},
   "outputs": [],
   "source": [
    "template<typename T>\n",
    "void print(T x) {\n",
    "    cout << x << endl;\n",
    "}"
   ]
  },
  {
   "cell_type": "code",
   "execution_count": 40,
   "id": "29fedeb5",
   "metadata": {},
   "outputs": [
    {
     "name": "stdout",
     "output_type": "stream",
     "text": [
      "1\n"
     ]
    }
   ],
   "source": [
    "print(1); // работает"
   ]
  },
  {
   "cell_type": "code",
   "execution_count": 41,
   "id": "c77fedf5",
   "metadata": {},
   "outputs": [
    {
     "name": "stdout",
     "output_type": "stream",
     "text": [
      "1\n",
      "2\n"
     ]
    }
   ],
   "source": [
    "print(1, 2); // нельзя передать более однго аргумента"
   ]
  },
  {
   "cell_type": "markdown",
   "id": "f4b97fad",
   "metadata": {},
   "source": [
    "Теперь используем вариативный шаблон и реализуем функцию, \n",
    "которая принимает произвольное количество параметров."
   ]
  },
  {
   "cell_type": "code",
   "execution_count": 42,
   "id": "91862777",
   "metadata": {},
   "outputs": [],
   "source": [
    "template<typename T, typename... Args>\n",
    "void print(T x, Args... args) {\n",
    "    print(x);\n",
    "    print(args...);\n",
    "}"
   ]
  },
  {
   "cell_type": "code",
   "execution_count": 43,
   "id": "ce0ee87e",
   "metadata": {},
   "outputs": [
    {
     "name": "stdout",
     "output_type": "stream",
     "text": [
      "1\n"
     ]
    }
   ],
   "source": [
    "print(1);"
   ]
  },
  {
   "cell_type": "code",
   "execution_count": 44,
   "id": "ef7645c8",
   "metadata": {},
   "outputs": [
    {
     "name": "stderr",
     "output_type": "stream",
     "text": [
      "\u001b[1minput_line_50:4:5: \u001b[0m\u001b[0;1;31merror: \u001b[0m\u001b[1mcall to 'print' is ambiguous\u001b[0m\n",
      "    print(args...);\n",
      "\u001b[0;1;32m    ^~~~~\n",
      "\u001b[0m\u001b[1minput_line_52:2:2: \u001b[0m\u001b[0;1;30mnote: \u001b[0min instantiation of function template specialization '__cling_N540::print<int, int, int>' requested here\u001b[0m\n",
      " print(1, 2, 3);\n",
      "\u001b[0;1;32m ^\n",
      "\u001b[0m\u001b[1minput_line_43:2:6: \u001b[0m\u001b[0;1;30mnote: \u001b[0mcandidate function [with T = int, Args = <int>]\u001b[0m\n",
      "void print(T x, Args... args) {\n",
      "\u001b[0;1;32m     ^\n",
      "\u001b[0m\u001b[1minput_line_50:2:6: \u001b[0m\u001b[0;1;30mnote: \u001b[0mcandidate function [with T = int, Args = <int>]\u001b[0m\n",
      "void print(T x, Args... args) {\n",
      "\u001b[0;1;32m     ^\n",
      "\u001b[0m"
     ]
    },
    {
     "ename": "Interpreter Error",
     "evalue": "",
     "output_type": "error",
     "traceback": [
      "Interpreter Error: "
     ]
    }
   ],
   "source": [
    "print(1, 2, 3);"
   ]
  },
  {
   "cell_type": "markdown",
   "id": "ffeba617",
   "metadata": {},
   "source": [
    "Всё работает, но как?!?!?"
   ]
  },
  {
   "cell_type": "markdown",
   "id": "33adbe9a",
   "metadata": {},
   "source": [
    "Образуется рекурсия, когда происходит вызов print(args...), и с каждым новым вызовом этой фунции аргументов в args становится всё меньше и меньше, т. к. постоянно первый элемент из args становится аргументом x."
   ]
  },
  {
   "cell_type": "markdown",
   "id": "ecaa96b6",
   "metadata": {},
   "source": [
    "Что здесь вообще происходит?"
   ]
  },
  {
   "cell_type": "markdown",
   "id": "81982b9f",
   "metadata": {},
   "source": [
    "Например, просмотрим вызов функции print(1, 2, 3, 4, 5).\n",
    "```cpp\n",
    "print(1, 2, 3, 4, 5):\n",
    "    // x = 1;\n",
    "    // args = {2, 3, 4, 5};\n",
    "    print(1); // вызов функции print с одним параметром, выводится 1\n",
    "    print(args...); // == print(2, 3, 4, 5)\n",
    "\n",
    "```\n",
    "Теперь вызывается функция print(2, 3, 4, 5):\n",
    "```cpp\n",
    "print(2, 3, 4, 5):\n",
    "    // x = 2;\n",
    "    // args = {3, 4, 5};\n",
    "    print(2); // выводится 2\n",
    "    print(args...); // == print(3, 4, 5)\n",
    "```\n",
    "Далее происходит вызов функции print(3, 4, 5):\n",
    "```cpp\n",
    "print(3, 4, 5):\n",
    "    // x = 3;\n",
    "    // args = {4, 5};\n",
    "    print(3); // вывод 3\n",
    "    print(args...); // == print(4, 5)\n",
    "```\n",
    "Далее print(4, 5):\n",
    "```cpp\n",
    "print(4, 5):\n",
    "    // x = 4;\n",
    "    // args = {5}\n",
    "    print(4); // вывод 4\n",
    "    print(5); // здесь вызывается print с одним входным параметром, выводится 5\n",
    "```\n",
    "На этом моменте рекурсивные вызовы прекратились, \n",
    "возвращаемся по стеку вызовов к print(1, 2, 3, 4, 5) и выходим из функции."
   ]
  },
  {
   "cell_type": "markdown",
   "id": "4c1e3ac7",
   "metadata": {},
   "source": [
    "Одно условие не выполнено, т. к. аргументы разделяются символом новой строки, \n",
    "а необходимо, чтобы разделителем был ' '."
   ]
  },
  {
   "cell_type": "markdown",
   "id": "82a22180",
   "metadata": {},
   "source": [
    "Поэтому немного преобразуем нашу функцию."
   ]
  },
  {
   "cell_type": "markdown",
   "id": "5e93008c",
   "metadata": {},
   "source": [
    "Оставим print для одного аргумента без изменений."
   ]
  },
  {
   "cell_type": "code",
   "execution_count": 8,
   "id": "c800eef5",
   "metadata": {},
   "outputs": [],
   "source": [
    "template<typename T>\n",
    "void print(T x) {\n",
    "    cout << x << endl;\n",
    "}"
   ]
  },
  {
   "cell_type": "markdown",
   "id": "0d4a92cb",
   "metadata": {},
   "source": [
    "Теперь создадим _print для одного аргумента, который вместо символа новой строки будет выводить ' '."
   ]
  },
  {
   "cell_type": "code",
   "execution_count": 9,
   "id": "963f37b2",
   "metadata": {},
   "outputs": [],
   "source": [
    "template<typename T>\n",
    "void _print(T x) {\n",
    "    cout << x << ' ';\n",
    "}"
   ]
  },
  {
   "cell_type": "markdown",
   "id": "0495721a",
   "metadata": {},
   "source": [
    "А сейчас перепишем print с вариативным шаблоном."
   ]
  },
  {
   "cell_type": "code",
   "execution_count": 10,
   "id": "c9a1a124",
   "metadata": {},
   "outputs": [],
   "source": [
    "template<typename T, typename... Args>\n",
    "void print(T x, Args... args) {\n",
    "    _print(x);\n",
    "    print(args...);\n",
    "}"
   ]
  },
  {
   "cell_type": "code",
   "execution_count": 18,
   "id": "7a27420b",
   "metadata": {},
   "outputs": [
    {
     "name": "stderr",
     "output_type": "stream",
     "text": [
      "\u001b[1minput_line_17:4:5: \u001b[0m\u001b[0;1;31merror: \u001b[0m\u001b[1mcall to 'print' is ambiguous\u001b[0m\n",
      "    print(args...);\n",
      "\u001b[0;1;32m    ^~~~~\n",
      "\u001b[0m\u001b[1minput_line_25:2:2: \u001b[0m\u001b[0;1;30mnote: \u001b[0min instantiation of function template specialization '__cling_N510::print<int, int, int, int, int>' requested here\u001b[0m\n",
      " print(1, 2, 3, 4, 5); // работает при компилировании!!!\n",
      "\u001b[0;1;32m ^\n",
      "\u001b[0m\u001b[1minput_line_12:2:6: \u001b[0m\u001b[0;1;30mnote: \u001b[0mcandidate function [with T = int, Args = <int, int, int>]\u001b[0m\n",
      "void print(T x, Args... args) {\n",
      "\u001b[0;1;32m     ^\n",
      "\u001b[0m\u001b[1minput_line_17:2:6: \u001b[0m\u001b[0;1;30mnote: \u001b[0mcandidate function [with T = int, Args = <int, int, int>]\u001b[0m\n",
      "void print(T x, Args... args) {\n",
      "\u001b[0;1;32m     ^\n",
      "\u001b[0m"
     ]
    },
    {
     "ename": "Interpreter Error",
     "evalue": "",
     "output_type": "error",
     "traceback": [
      "Interpreter Error: "
     ]
    }
   ],
   "source": [
    "print(1, 2, 3, 4, 5); // работает при компилировании!!!"
   ]
  },
  {
   "cell_type": "markdown",
   "id": "1d9be7c2",
   "metadata": {},
   "source": [
    "Рассмотрим другой пример. Попробуем реализовать функцию подсчёта суммы переданных в функцию параметров.\n",
    "\n",
    "Т. е. будет такая функция sum, при этом sum(1, 2, 3) == 6."
   ]
  },
  {
   "cell_type": "markdown",
   "id": "8c86f42b",
   "metadata": {},
   "source": [
    "Сначала создадим функцию, которая будет возвращать сумму одного элемента."
   ]
  },
  {
   "cell_type": "code",
   "execution_count": 19,
   "id": "2d4cd225",
   "metadata": {},
   "outputs": [],
   "source": [
    "template<typename T>\n",
    "auto sum(T x) {\n",
    "    return x;\n",
    "}"
   ]
  },
  {
   "cell_type": "markdown",
   "id": "f3486cb8",
   "metadata": {},
   "source": [
    "Теперь сделаем функцию с вариативным шаблоном."
   ]
  },
  {
   "cell_type": "code",
   "execution_count": 20,
   "id": "b45e2829",
   "metadata": {},
   "outputs": [],
   "source": [
    "template<typename T, typename... Args>\n",
    "auto sum(T x, Args... args) {\n",
    "    return x + sum(args...);\n",
    "}"
   ]
  },
  {
   "cell_type": "code",
   "execution_count": 21,
   "id": "7b272609",
   "metadata": {},
   "outputs": [
    {
     "name": "stderr",
     "output_type": "stream",
     "text": [
      "\u001b[1minput_line_28:2:2: \u001b[0m\u001b[0;1;31merror: \u001b[0m\u001b[1mcall to 'sum' is ambiguous\u001b[0m\n",
      " sum(1, 2, 3); // работает при компилировании!!!\n",
      "\u001b[0;1;32m ^~~\n",
      "\u001b[0m\u001b[1minput_line_20:2:6: \u001b[0m\u001b[0;1;30mnote: \u001b[0mcandidate function [with T = int, Args = <int, int>]\u001b[0m\n",
      "void sum(T x, Args... args) {\n",
      "\u001b[0;1;32m     ^\n",
      "\u001b[0m\u001b[1minput_line_27:2:6: \u001b[0m\u001b[0;1;30mnote: \u001b[0mcandidate function [with T = int, Args = <int, int>]\u001b[0m\n",
      "auto sum(T x, Args... args) {\n",
      "\u001b[0;1;32m     ^\n",
      "\u001b[0m"
     ]
    },
    {
     "ename": "Interpreter Error",
     "evalue": "",
     "output_type": "error",
     "traceback": [
      "Interpreter Error: "
     ]
    }
   ],
   "source": [
    "sum(1, 2, 3); // работает при компилировании!!!"
   ]
  },
  {
   "cell_type": "markdown",
   "id": "877023bc",
   "metadata": {},
   "source": [
    "Что происходит?"
   ]
  },
  {
   "cell_type": "markdown",
   "id": "80d41ff8",
   "metadata": {},
   "source": [
    "```cpp\n",
    "sum(1, 2, 3, 4, 5):\n",
    "    // x = 1;\n",
    "    // args = {2, 3, 4, 5};\n",
    "    return 1 + sum(2, 3, 4, 5):\n",
    "        sum(2, 3, 4, 5):\n",
    "            // x = 2;\n",
    "            // args = {3, 4, 5};\n",
    "            return 2 + sum(3, 4, 5):\n",
    "                sum(3, 4, 5):\n",
    "                    // x = 3;\n",
    "                    // args = {4, 5};\n",
    "                    return 3 + sum(4, 5):\n",
    "                        sum(4, 5):\n",
    "                            // x = 4;\n",
    "                            // args = {5}\n",
    "                            return 4 + sum(5):\n",
    "                                sum(5):\n",
    "                                    return 5;\n",
    "```\n",
    "Тогда вызов sum(1, 2, 3, 4, 5) превращается в return 1 + 2 + 3 + 4 + 5."
   ]
  },
  {
   "cell_type": "markdown",
   "id": "54bd80fb",
   "metadata": {},
   "source": [
    "В C++17 эту функцию можно реализовать проще:"
   ]
  },
  {
   "cell_type": "code",
   "execution_count": 23,
   "id": "3eed4b68",
   "metadata": {},
   "outputs": [
    {
     "name": "stderr",
     "output_type": "stream",
     "text": [
      "\u001b[1minput_line_30:3:20: \u001b[0m\u001b[0;1;35mwarning: \u001b[0m\u001b[1mpack fold expression is a C++17 extension [-Wc++17-extensions]\u001b[0m\n",
      "    return (args + ...);\n",
      "\u001b[0;1;32m                   ^\n",
      "\u001b[0m"
     ]
    }
   ],
   "source": [
    "template<typename... T>\n",
    "auto sum(T... args) {\n",
    "    return (args + ...);\n",
    "}"
   ]
  },
  {
   "cell_type": "markdown",
   "id": "07911859",
   "metadata": {},
   "source": [
    "## Постановка эллипсиса (...)"
   ]
  },
  {
   "cell_type": "markdown",
   "id": "2aae1fba",
   "metadata": {},
   "source": [
    "Когда эллипсис ставился сразу после args, то он распаковывал args, \n",
    "т. е. передавал их не в виде контейнера, а как отдельные его части.\n",
    "\n",
    "Но эллипсис также можно поставить не только после args. \n",
    "Например, если мы ходит применить к args какую-либо функцию."
   ]
  },
  {
   "cell_type": "code",
   "execution_count": 24,
   "id": "2cfabd77",
   "metadata": {},
   "outputs": [],
   "source": [
    "template<typename T>\n",
    "auto sqr(T x) {\n",
    "    return x * x;\n",
    "}"
   ]
  },
  {
   "cell_type": "code",
   "execution_count": 25,
   "id": "cf44b3fa",
   "metadata": {},
   "outputs": [],
   "source": [
    "template<typename T>\n",
    "auto p_sum(T x) {\n",
    "    return x;\n",
    "}"
   ]
  },
  {
   "cell_type": "code",
   "execution_count": 26,
   "id": "8ccc9c54",
   "metadata": {},
   "outputs": [],
   "source": [
    "template<typename T, typename... Args>\n",
    "auto p_sum(T x, Args... args) {\n",
    "    return x + p_sum(sqr(args)...);\n",
    "}"
   ]
  },
  {
   "cell_type": "code",
   "execution_count": 29,
   "id": "2dcf2f60",
   "metadata": {},
   "outputs": [
    {
     "name": "stderr",
     "output_type": "stream",
     "text": [
      "\u001b[1minput_line_33:3:16: \u001b[0m\u001b[0;1;31merror: \u001b[0m\u001b[1mcall to 'sum' is ambiguous\u001b[0m\n",
      "    return x + sum(sqr(args)...);\n",
      "\u001b[0;1;32m               ^~~\n",
      "\u001b[0m\u001b[1minput_line_36:2:2: \u001b[0m\u001b[0;1;30mnote: \u001b[0min instantiation of function template specialization '__cling_N525::p_sum<int, int, int>' requested here\u001b[0m\n",
      " p_sum(1, 2, 3); // работает при компилировании!!!\n",
      "\u001b[0;1;32m ^\n",
      "\u001b[0m\u001b[1minput_line_20:2:6: \u001b[0m\u001b[0;1;30mnote: \u001b[0mcandidate function [with T = int, Args = <int>]\u001b[0m\n",
      "void sum(T x, Args... args) {\n",
      "\u001b[0;1;32m     ^\n",
      "\u001b[0m\u001b[1minput_line_27:2:6: \u001b[0m\u001b[0;1;30mnote: \u001b[0mcandidate function [with T = int, Args = <int>]\u001b[0m\n",
      "auto sum(T x, Args... args) {\n",
      "\u001b[0;1;32m     ^\n",
      "\u001b[0m\u001b[1minput_line_30:2:6: \u001b[0m\u001b[0;1;30mnote: \u001b[0mcandidate function [with T = <int, int>]\u001b[0m\n",
      "auto sum(T... args) {\n",
      "\u001b[0;1;32m     ^\n",
      "\u001b[0m"
     ]
    },
    {
     "ename": "Interpreter Error",
     "evalue": "",
     "output_type": "error",
     "traceback": [
      "Interpreter Error: "
     ]
    }
   ],
   "source": [
    "p_sum(1, 2, 3); // работает при компилировании!!!"
   ]
  },
  {
   "cell_type": "markdown",
   "id": "2b09ca95",
   "metadata": {},
   "source": [
    "Тогда получим следующие вызовы:\n",
    "```cpp\n",
    "p_sum(1, 2, 3):\n",
    "    // x = 1;\n",
    "    // args = {2, 3};\n",
    "    return 1 + p_sum(sqr(args)...):\n",
    "        p_sum(sqr(args) == p_sum(sqr(2), sqr(3)) == p_sum(4, 9):\n",
    "            // x = 4;\n",
    "            // args = {9};\n",
    "            return 4 + p_sum(sqr(args)...):\n",
    "                p_sum(sqr(args)...) == p_sum(sqr(9)) == p_sum(81):\n",
    "                    // x = 5;\n",
    "                    // args = {};\n",
    "                    return 81;\n",
    "```\n",
    "В итоге получим: 1 + 4 + 81 или 1 + 2^2 + 3^4."
   ]
  }
 ],
 "metadata": {
  "kernelspec": {
   "display_name": "C++14",
   "language": "C++14",
   "name": "xcpp14"
  },
  "language_info": {
   "codemirror_mode": "text/x-c++src",
   "file_extension": ".cpp",
   "mimetype": "text/x-c++src",
   "name": "c++",
   "version": "14"
  }
 },
 "nbformat": 4,
 "nbformat_minor": 5
}
