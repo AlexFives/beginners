{
 "cells": [
  {
   "cell_type": "markdown",
   "id": "bcee28d7",
   "metadata": {},
   "source": [
    "# Выравнивание данных в C++"
   ]
  },
  {
   "cell_type": "markdown",
   "id": "c47e1fe1",
   "metadata": {},
   "source": [
    "Это способ размещения данных в оперативной памяти для эффективной работы с ними."
   ]
  },
  {
   "cell_type": "markdown",
   "id": "87a79f0e",
   "metadata": {},
   "source": [
    "Память можно представить как огромный массив байтов, а адрес - это индекс этого массива."
   ]
  },
  {
   "cell_type": "markdown",
   "id": "3ca86bb3",
   "metadata": {},
   "source": [
    "```\n",
    "[byte 0] [byte 1] [byte 2] [byte 3]...\n",
    "```"
   ]
  },
  {
   "cell_type": "markdown",
   "id": "f6203cee",
   "metadata": {},
   "source": [
    "1 байт адресовать можно как угодно, т. к. это минимальная адресная единица памяти."
   ]
  },
  {
   "cell_type": "markdown",
   "id": "3a2957d1",
   "metadata": {},
   "source": [
    "Но в C++, помимо типов данных, занимающих 1 байт (char, unsigned char), существует множество более крупных единиц, которые могут хранить информацию в 2-ух, 4-ёх и даже 8-ми байтах."
   ]
  },
  {
   "cell_type": "markdown",
   "id": "e660ca2e",
   "metadata": {},
   "source": [
    "Считывать эти данные по одному байту не будет эффективно, поэтому данные из оперативной памяти считываются по 1, 2, 4 или 8 байтам в зависимости от того, что нужно считать.\n",
    "\n",
    "Также максимальный размер машинного слова ограничен архитектурой процессора (разрядностью шины).\n",
    "Сейчас это 8 байт для 64-разрядных процессоров и 4 байта для 32-разрядных.\n",
    "\n",
    "Количество считываемых за раз байтов называется **машинным словом**."
   ]
  },
  {
   "cell_type": "markdown",
   "id": "a15fee79",
   "metadata": {},
   "source": [
    "**Для того, чтобы лучше понимать, о чём идёт речь, советую посмотреть [это](https://www.youtube.com/watch?v=k9wK2FThEsk), [это](https://www.youtube.com/watch?v=Wh22_O8jXVQ) и [это](https://www.youtube.com/watch?v=7n_8cOBpQrg).**"
   ]
  },
  {
   "cell_type": "markdown",
   "id": "487372dc",
   "metadata": {},
   "source": [
    "Если мы работает с данными типа *int*, для хранения которого нужно 4 байта памяти, то данные из оперативной памяти будут считываться группами по 4 байта, а далее обрабатываться в процессоре:"
   ]
  },
  {
   "cell_type": "markdown",
   "id": "76157907",
   "metadata": {},
   "source": [
    "```\n",
    "[byte 0] [byte 1] [byte 2] [byte 3] [byte 4] [byte 5] [byte 6] [byte 7] [byte 8]...\n",
    "[          machine word 0         ] [          machine word 1         ]...\n",
    "```"
   ]
  },
  {
   "cell_type": "markdown",
   "id": "9a8aefb8",
   "metadata": {},
   "source": [
    "Считывание начинается с 0-го байта."
   ]
  },
  {
   "cell_type": "markdown",
   "id": "4cf4be35",
   "metadata": {},
   "source": [
    "**Почему нельзя начать, например, с 1-го байта?**"
   ]
  },
  {
   "cell_type": "markdown",
   "id": "d4749b2d",
   "metadata": {},
   "source": [
    "```\n",
    "[byte 0] [byte 1] [byte 2] [byte 3] [byte 4] [byte 5] [byte 6] [byte 7] [byte 8]...\n",
    "         [          machine word 0         ] [          machine word 1         ]...\n",
    "```"
   ]
  },
  {
   "cell_type": "markdown",
   "id": "cb065dd8",
   "metadata": {},
   "source": [
    "Предположим, что мы начали считать машииные слова с 1-го байта, тогда в 0-ом байте можно разместить только данные, занимающие 1 байт, что не очень эффективно."
   ]
  },
  {
   "cell_type": "markdown",
   "id": "311bdff5",
   "metadata": {},
   "source": [
    "Также большинство компьютеров устроено так, что считывать данные с 0-го байта получается быстрее, чем, например, с 1.\n",
    "\n",
    "К тому же многие архитектуры вовсе не умеют читать слова, которые получаются по шагам от начала, за раз.\n",
    "Поэтому такой машине нужно сделать два обращения к памяти вместо одного, а после получить из двух слов одно, что займёт много времени:"
   ]
  },
  {
   "cell_type": "markdown",
   "id": "edfcbf16",
   "metadata": {},
   "source": [
    "```\n",
    "[byte 0] [byte 1] [byte 2] [byte 3] [byte 4] [byte 5] [byte 6] [byte 7] [byte 8]...\n",
    "         [      machine word to read       ]\n",
    "[          machine word 0         ] [          machine word 1         ]\n",
    "```"
   ]
  },
  {
   "cell_type": "markdown",
   "id": "399d3da8",
   "metadata": {},
   "source": [
    "## Хранение базовых типов данных в памяти"
   ]
  },
  {
   "cell_type": "markdown",
   "id": "d32b78db",
   "metadata": {},
   "source": [
    "Размер машинного слова зависит от количества памяти, требуемой для какого-либо типа данных."
   ]
  },
  {
   "cell_type": "markdown",
   "id": "01bb6a06",
   "metadata": {},
   "source": [
    "Например, если нужно работать с типом char, то размер машинного слова будет равен 1-му байту. \n",
    "Соответственно, такое машинное слово сможет обратиться к каждому байту в оперативной памяти."
   ]
  },
  {
   "cell_type": "markdown",
   "id": "b5bae58c",
   "metadata": {},
   "source": [
    "Если нужно работать с типом short, то размер машинного слова будет равен 2-ум байтам. Значит, такое машинное слово сможет обратиться к каждому второму байту и будет считывать по 2 байта: \n",
    "```\n",
    "[byte 0] [byte 1] [byte 2] [byte 3]...\n",
    "[ machine word 0] [ machine word 1]...\n",
    "```"
   ]
  },
  {
   "cell_type": "markdown",
   "id": "4291bee3",
   "metadata": {},
   "source": [
    "Если нужно работать с типом int, то размер машинного слова будет равен 4-ём байтам. Тогда такое машинного слово сможет обратиться к каждому 4-ому байту и будет считывать по 4 байта:\n",
    "```\n",
    "[byte 0] [byte 1] [byte 2] [byte 3] [byte 4] [byte 5] [byte 6] [byte 7]...\n",
    "[          machine word 0         ] [          machine word 1         ]...\n",
    "```"
   ]
  },
  {
   "cell_type": "markdown",
   "id": "e9c44de8",
   "metadata": {},
   "source": [
    "И т. д."
   ]
  },
  {
   "cell_type": "markdown",
   "id": "4d24a2ac",
   "metadata": {},
   "source": [
    "Узнать количество памяти, необходимое для хранения какого-либо типа данных можно узнать с помощью оператора \n",
    "**sizeof()**."
   ]
  },
  {
   "cell_type": "code",
   "execution_count": 23,
   "id": "8a9d80ba",
   "metadata": {},
   "outputs": [],
   "source": [
    "#include <iostream>\n",
    "\n",
    "using namespace std;"
   ]
  },
  {
   "cell_type": "code",
   "execution_count": 24,
   "id": "bee9a1c6",
   "metadata": {},
   "outputs": [
    {
     "name": "stdout",
     "output_type": "stream",
     "text": [
      "1\n",
      "2\n",
      "4\n"
     ]
    }
   ],
   "source": [
    "cout << sizeof(char) << endl;\n",
    "cout << sizeof(short) << endl;\n",
    "cout << sizeof(int) << endl;"
   ]
  },
  {
   "cell_type": "markdown",
   "id": "57af3d0d",
   "metadata": {},
   "source": [
    "А с помощью оператора **alignof()** можно узнать размер машинного слова для определённого типа данных."
   ]
  },
  {
   "cell_type": "code",
   "execution_count": 25,
   "id": "99e407a7",
   "metadata": {},
   "outputs": [
    {
     "name": "stdout",
     "output_type": "stream",
     "text": [
      "1\n",
      "2\n",
      "4\n"
     ]
    }
   ],
   "source": [
    "cout << alignof(char) << endl;\n",
    "cout << alignof(short) << endl;\n",
    "cout << alignof(int) << endl;"
   ]
  },
  {
   "cell_type": "markdown",
   "id": "8a4d7d31",
   "metadata": {},
   "source": [
    "## Хранение структур в памяти"
   ]
  },
  {
   "cell_type": "markdown",
   "id": "e0e3578e",
   "metadata": {},
   "source": [
    "Пусть у нас есть структура CharStruct, в которой содержатся 5 полей типа char."
   ]
  },
  {
   "cell_type": "code",
   "execution_count": 7,
   "id": "86dadf50",
   "metadata": {},
   "outputs": [],
   "source": [
    "struct CharStruct {\n",
    "    char a, b, c, d, e;\n",
    "}"
   ]
  },
  {
   "cell_type": "markdown",
   "id": "64252b24",
   "metadata": {},
   "source": [
    "В памяти эти поля будут записаны друг за другом: \n",
    "```\n",
    "[byte a] [byte b] [byte c] [byte d] [byte e]\n",
    "[            CharStruct bytes              ]\n",
    "```"
   ]
  },
  {
   "cell_type": "markdown",
   "id": "54e2bd3a",
   "metadata": {},
   "source": [
    "Зная, что char занимает в памяти 1 байт, можно посчитать, что данная структура должна занимать 5 * 1 байт = 5 байт."
   ]
  },
  {
   "cell_type": "markdown",
   "id": "1fa99deb",
   "metadata": {},
   "source": [
    "Количество памяти, выделяемой под CharStruct:"
   ]
  },
  {
   "cell_type": "code",
   "execution_count": 8,
   "id": "1ab30ed2",
   "metadata": {},
   "outputs": [
    {
     "name": "stdout",
     "output_type": "stream",
     "text": [
      "5"
     ]
    }
   ],
   "source": [
    "cout << sizeof(CharStruct);"
   ]
  },
  {
   "cell_type": "markdown",
   "id": "22f89bbe",
   "metadata": {},
   "source": [
    "Теперь рассмотрим структуру ShortAndCharStruct, в которой содержатся поля типов short и char."
   ]
  },
  {
   "cell_type": "code",
   "execution_count": 11,
   "id": "14c7843b",
   "metadata": {},
   "outputs": [],
   "source": [
    "struct ShortAndCharStruct {\n",
    "    short a;\n",
    "    char b;\n",
    "}"
   ]
  },
  {
   "cell_type": "markdown",
   "id": "74845bc2",
   "metadata": {},
   "source": [
    "Зная, что short занимает в памяти 2 байта, а char - 1 байт, то путём сложных расчётов можно понять, \n",
    "что эта структура данных будет занимать в памяти (2 + 1) байт = 3 байт."
   ]
  },
  {
   "cell_type": "markdown",
   "id": "05436d0a",
   "metadata": {},
   "source": [
    "Вызовем оператор *sizeof()* и посмотрим, сколько памяти требуется для хранения данного объекта"
   ]
  },
  {
   "cell_type": "code",
   "execution_count": 12,
   "id": "063eb1be",
   "metadata": {},
   "outputs": [
    {
     "name": "stdout",
     "output_type": "stream",
     "text": [
      "4"
     ]
    }
   ],
   "source": [
    "cout << sizeof(ShortAndCharStruct);"
   ]
  },
  {
   "cell_type": "markdown",
   "id": "d3d76188",
   "metadata": {},
   "source": [
    "Структуре требуется 4 байта для хранения, а не 3. Почему?"
   ]
  },
  {
   "cell_type": "markdown",
   "id": "116a08eb",
   "metadata": {},
   "source": [
    "Структура будет считываться с машинным словом в 2 байта.\n",
    "\n",
    "Если бы мы инициализировали массив, состоящий из нескольких таких структур, \n",
    "то, т. к. все элементы массива стоят в памяти друг за другом, усложнилось бы считывание 2, 3 и последующих позиций в массиве, ведь они бы располагались на пересечении двух машинных слов."
   ]
  },
  {
   "cell_type": "markdown",
   "id": "29b74071",
   "metadata": {},
   "source": [
    "Посмотрим, как будет храниться структура в памяти:"
   ]
  },
  {
   "cell_type": "markdown",
   "id": "38cc8638",
   "metadata": {},
   "source": [
    "```\n",
    "[byte 0] [byte 1] [byte 2] [byte 3]...\n",
    "[    short a    ] [char b] [ PAD 0]...\n",
    "```"
   ]
  },
  {
   "cell_type": "markdown",
   "id": "3f9ca3d0",
   "metadata": {},
   "source": [
    "Здесь оставшийся 1 байт занимает паддинг (англ. padding - набивка), который считывается, но никак не влияет на обработку данных процессором. \n",
    "\n",
    "Если бы это дополнение отсутствовало, то следующие данные в оперативной памяти должны были бы начинаться с 3-го байта, что могло бы привести к проблемам с производительностью при считывании, если бы там лежали данные, занимающие более 1-го байта (случай со \"сдвинутым\" машинным словом)."
   ]
  },
  {
   "cell_type": "markdown",
   "id": "5479a0e9",
   "metadata": {},
   "source": [
    "Размер машинного слова для структуры ShortAndCharStruct:"
   ]
  },
  {
   "cell_type": "code",
   "execution_count": 17,
   "id": "55166eca",
   "metadata": {},
   "outputs": [
    {
     "name": "stdout",
     "output_type": "stream",
     "text": [
      "2"
     ]
    }
   ],
   "source": [
    "cout << alignof(ShortAndCharStruct);"
   ]
  },
  {
   "cell_type": "markdown",
   "id": "514e788f",
   "metadata": {},
   "source": [
    "**Итог:** \n",
    "\n",
    "Размер структуры данных будет кратен размеру её поля, тип данных которого занимает максимальное количество байт по сравнению с типами других полей этой структуры."
   ]
  },
  {
   "cell_type": "markdown",
   "id": "30d412c1",
   "metadata": {},
   "source": [
    "### Рубрика \"Техномагия и оптимизации\""
   ]
  },
  {
   "cell_type": "markdown",
   "id": "9e77d1a6",
   "metadata": {},
   "source": [
    "Рассмотрим структуру MagicStruct, состоящую из двух полей типа char и одного поля типа int."
   ]
  },
  {
   "cell_type": "code",
   "execution_count": 13,
   "id": "e5a6d380",
   "metadata": {},
   "outputs": [],
   "source": [
    "struct MagicStruct {\n",
    "    char a;\n",
    "    char b;\n",
    "    int c;\n",
    "}"
   ]
  },
  {
   "cell_type": "markdown",
   "id": "170ffabb",
   "metadata": {},
   "source": [
    "Зная, что int занимает в памяти 4 байта, а два типа char - 2 байта, получим, \n",
    "что, как минимум, это структуре данных нужно 6 байт.\n",
    "\n",
    "Зная про выравнивание, мы теперь осознаём, что эта структура данных в памяти будет занимать 8 байт.\n",
    "\n",
    "Проверим это:"
   ]
  },
  {
   "cell_type": "code",
   "execution_count": 14,
   "id": "f2c5ef7f",
   "metadata": {},
   "outputs": [
    {
     "name": "stdout",
     "output_type": "stream",
     "text": [
      "8"
     ]
    }
   ],
   "source": [
    "cout << sizeof(MagicStruct);"
   ]
  },
  {
   "cell_type": "markdown",
   "id": "b3d5d5b5",
   "metadata": {},
   "source": [
    "А теперь немного изменим нашу структуру и поменяем местами поля *b* и *c*:"
   ]
  },
  {
   "cell_type": "code",
   "execution_count": 15,
   "id": "001bbadc",
   "metadata": {},
   "outputs": [],
   "source": [
    "struct MagicStructRebuild {\n",
    "    char a;\n",
    "    int c;\n",
    "    char b;\n",
    "}"
   ]
  },
  {
   "cell_type": "markdown",
   "id": "58150983",
   "metadata": {},
   "source": [
    "С виду структура не изменилась, но посмотрим, сколько памяти они занимает теперь:"
   ]
  },
  {
   "cell_type": "code",
   "execution_count": 16,
   "id": "dea142a4",
   "metadata": {},
   "outputs": [
    {
     "name": "stdout",
     "output_type": "stream",
     "text": [
      "12"
     ]
    }
   ],
   "source": [
    "cout << sizeof(MagicStructRebuild);"
   ]
  },
  {
   "cell_type": "markdown",
   "id": "16440f03",
   "metadata": {},
   "source": [
    "**!?!??!?!?!?!?**"
   ]
  },
  {
   "cell_type": "markdown",
   "id": "ff81b0ef",
   "metadata": {},
   "source": [
    "Вспоминаем про выравнивание."
   ]
  },
  {
   "cell_type": "markdown",
   "id": "a4049e87",
   "metadata": {},
   "source": [
    "Считываться эта структура данных будет с машинным словом в 4 байта, т. к. в ней есть поле типа int.\n",
    "\n",
    "Поля структуры в памяти записываются друг за другом, соответственно, сначала будет записано поле *a*, потом *c*, потом *b*.\n",
    "\n",
    "Т. к. поле *int c* должно считаться за одно обращение, то оно будет выравнено.\n",
    "Но перед ним стоит поле *char a*, которое тоже выравнено, соответственно, 3 байта после *a* будут являться паддингами, потом будет записано поле *c*, а после него поле *b*, которое занимает 1 байт, но, т. к. машинное слово представлено 4-мя байтами, то после поля *c* также будет 3 байта паддинга:"
   ]
  },
  {
   "cell_type": "markdown",
   "id": "f5941b24",
   "metadata": {},
   "source": [
    "```\n",
    "[byte 0] [byte 1] [byte 2] [byte 3] [byte 4] [byte 5] [byte 6] [byte 7]\n",
    "[char a] [ PAD a] [ PAD a] [ PAD a] [              int c              ]\n",
    "[          machine word 0         ] [          machine word 1         ]\n",
    "\n",
    "\n",
    "[byte 8] [byte 9] [byte A] [byte B] [byte C] [byte D] [byte E] [byte F]\n",
    "[char b] [ PAD b] [ PAD b] [ PAD b]\n",
    "[          machine word 2         ] [          machine word 3         ]\n",
    "```"
   ]
  },
  {
   "cell_type": "markdown",
   "id": "5ddd137a",
   "metadata": {},
   "source": [
    "**Итог:**\n",
    "\n",
    "Нужно в правильном порядке выставлять поля в структуре данных, \n",
    "т. к. это может повлиять на количество памяти, занимаемой этой структурой."
   ]
  },
  {
   "cell_type": "markdown",
   "id": "9afb69d4",
   "metadata": {},
   "source": [
    "## Выравнивание при структуре в структуре"
   ]
  },
  {
   "cell_type": "markdown",
   "id": "339f1d0e",
   "metadata": {},
   "source": [
    "Пусть есть структура A с полями типа int и char и структура B с полями типа A и short."
   ]
  },
  {
   "cell_type": "code",
   "execution_count": 18,
   "id": "977ef3a0",
   "metadata": {},
   "outputs": [],
   "source": [
    "struct A {\n",
    "    int a;\n",
    "    char b;\n",
    "}"
   ]
  },
  {
   "cell_type": "code",
   "execution_count": 19,
   "id": "daf8ebf5",
   "metadata": {},
   "outputs": [],
   "source": [
    "struct B {\n",
    "    A a;\n",
    "    short b;\n",
    "}"
   ]
  },
  {
   "cell_type": "markdown",
   "id": "61423475",
   "metadata": {},
   "source": [
    "Размер структуры A равен 8 байтам. \n",
    "Выравнивание структуры A - 4 байта."
   ]
  },
  {
   "cell_type": "code",
   "execution_count": 22,
   "id": "b403d1ef",
   "metadata": {},
   "outputs": [
    {
     "name": "stdout",
     "output_type": "stream",
     "text": [
      "8\n",
      "4"
     ]
    }
   ],
   "source": [
    "cout << sizeof(A) << endl;\n",
    "cout << alignof(A);"
   ]
  },
  {
   "cell_type": "markdown",
   "id": "06ec95a8",
   "metadata": {},
   "source": [
    "В структуре B поле *a* занимает 8 байт, поле *b* - 2 байта.\n",
    "\n",
    "Получается, минимальный размер B - 10 байт."
   ]
  },
  {
   "cell_type": "markdown",
   "id": "75661d96",
   "metadata": {},
   "source": [
    "Посмотрим результат sizeof(B):"
   ]
  },
  {
   "cell_type": "code",
   "execution_count": 27,
   "id": "78a442c4",
   "metadata": {},
   "outputs": [
    {
     "name": "stdout",
     "output_type": "stream",
     "text": [
      "12\n"
     ]
    }
   ],
   "source": [
    "cout << sizeof(B) << endl;"
   ]
  },
  {
   "cell_type": "markdown",
   "id": "4f038c43",
   "metadata": {},
   "source": [
    "И размер машинного слова структуры B:"
   ]
  },
  {
   "cell_type": "code",
   "execution_count": 30,
   "id": "49b057ad",
   "metadata": {},
   "outputs": [
    {
     "name": "stdout",
     "output_type": "stream",
     "text": [
      "4\n"
     ]
    }
   ],
   "source": [
    "cout << alignof(B) << endl;"
   ]
  },
  {
   "cell_type": "markdown",
   "id": "af5e31fa",
   "metadata": {},
   "source": [
    "Размер машинного слова равен 4, т. к. максимальный объём памяти из всех полей B и всех полей A - int (A::a)."
   ]
  },
  {
   "cell_type": "markdown",
   "id": "95dfa5e9",
   "metadata": {},
   "source": [
    "Соответственно, ближайшее число, которое больше или равно минимального объёма памяти (10), необходимого структуре B, и кратно размеру машинного слова структуры (4), это 12 байт."
   ]
  },
  {
   "cell_type": "markdown",
   "id": "5e7e9c04",
   "metadata": {},
   "source": [
    "В памяти структура B будет храниться так:"
   ]
  },
  {
   "cell_type": "markdown",
   "id": "25933a41",
   "metadata": {},
   "source": [
    "```\n",
    "[byte 0] [byte 1] [byte 2] [byte 3] [byte 4] [byte 5] [byte 6] [byte 7] \n",
    "[              int a              ] [char b] [ PAD b] [ PAD b] [ PAD b]\n",
    "[                              struct A                               ]\n",
    "[~~~~~~~~~~~~~~~~~~~~~~~~~~~~~~~~~~~~~~~~~~~~~~~~~~~~~~~~~~~~~~~~~stru-\n",
    "\n",
    "[byte 8] [byte 9] [byte A] [byte B] [byte C] [byte D] [byte E] [byte F]...\n",
    "[  short B::b   ] [PAD Bb] [PAD Bb]\n",
    "[           short B::b            ]\n",
    "-ct B~~~~~~~~~~~~~~~~~~~~~~~~~~~~~]\n",
    "```"
   ]
  },
  {
   "cell_type": "markdown",
   "id": "3767a491",
   "metadata": {},
   "source": [
    "### Ещё немного техномагии"
   ]
  },
  {
   "cell_type": "markdown",
   "id": "bb0b88a1",
   "metadata": {},
   "source": [
    "Если создать такую структуру, которая по полям похожа на предыдущую, но без вложения структуры A:"
   ]
  },
  {
   "cell_type": "code",
   "execution_count": 31,
   "id": "d89250d9",
   "metadata": {},
   "outputs": [],
   "source": [
    "struct BWithoutA {\n",
    "    // A begin\n",
    "    int a;\n",
    "    char b;\n",
    "    // A end\n",
    "    short B_b;\n",
    "}"
   ]
  },
  {
   "cell_type": "markdown",
   "id": "3d555a86",
   "metadata": {},
   "source": [
    "И вывести её размер:"
   ]
  },
  {
   "cell_type": "code",
   "execution_count": 32,
   "id": "bcf4c8ec",
   "metadata": {},
   "outputs": [
    {
     "name": "stdout",
     "output_type": "stream",
     "text": [
      "8\n"
     ]
    }
   ],
   "source": [
    "cout << sizeof(BWithoutA) << endl;"
   ]
  },
  {
   "cell_type": "markdown",
   "id": "c5de2186",
   "metadata": {},
   "source": [
    "То получится 8 байт, т. к. в памяти она будет храниться так:"
   ]
  },
  {
   "cell_type": "markdown",
   "id": "252c68cd",
   "metadata": {},
   "source": [
    "```\n",
    "[byte 0] [byte 1] [byte 2] [byte 3] [byte 4] [byte 5] [byte 6] [byte 7]...\n",
    "[              int a              ] [char b] [ PAD b] [   short B_b   ]\n",
    "```"
   ]
  },
  {
   "cell_type": "markdown",
   "id": "29ae39c3",
   "metadata": {},
   "source": [
    "## Выравнивание при наследовании"
   ]
  },
  {
   "cell_type": "markdown",
   "id": "ead37347",
   "metadata": {},
   "source": [
    "Теперь у нас есть структура B с полем short c, которая наследуется от структуры A с полями int a и char b:"
   ]
  },
  {
   "cell_type": "code",
   "execution_count": 33,
   "id": "ede88caf",
   "metadata": {},
   "outputs": [],
   "source": [
    "struct A {\n",
    "    int a;\n",
    "    char b;\n",
    "}"
   ]
  },
  {
   "cell_type": "code",
   "execution_count": 34,
   "id": "0532d0af",
   "metadata": {},
   "outputs": [],
   "source": [
    "struct B : A {\n",
    "    short c;\n",
    "}"
   ]
  },
  {
   "cell_type": "markdown",
   "id": "cd933b4b",
   "metadata": {},
   "source": [
    "Размер и размер машинного слова B:"
   ]
  },
  {
   "cell_type": "code",
   "execution_count": 35,
   "id": "9b1f8fc2",
   "metadata": {},
   "outputs": [
    {
     "name": "stdout",
     "output_type": "stream",
     "text": [
      "12\n",
      "4\n"
     ]
    }
   ],
   "source": [
    "cout << sizeof(B) << endl;\n",
    "cout << alignof(B) << endl;"
   ]
  },
  {
   "cell_type": "markdown",
   "id": "7904ad7d",
   "metadata": {},
   "source": [
    "Получилось то же самое, что и при вложении структуры A в структуру B."
   ]
  },
  {
   "cell_type": "markdown",
   "id": "9ac63b93",
   "metadata": {},
   "source": [
    "При наследовании сначала выделяется память для структуры-родителя, после для полей самой структуры."
   ]
  },
  {
   "cell_type": "markdown",
   "id": "9ef475ed",
   "metadata": {},
   "source": [
    "При множественном наследовании ситуация аналогична: сначала выделяется память для структур-родителей в порядке их указания, после для полей самой струтуры:"
   ]
  },
  {
   "cell_type": "markdown",
   "id": "226128fb",
   "metadata": {},
   "source": [
    "```\n",
    "[byte 0] ... ... ... ... ... ... ... ... ... ... ... ... ... ... ... [byte N]\n",
    "[struct-parent 0] ... [struct-parent P] [struct-field 0] ... [struct field M]\n",
    "```"
   ]
  }
 ],
 "metadata": {
  "kernelspec": {
   "display_name": "C++14",
   "language": "C++14",
   "name": "xcpp14"
  },
  "language_info": {
   "codemirror_mode": "text/x-c++src",
   "file_extension": ".cpp",
   "mimetype": "text/x-c++src",
   "name": "c++",
   "version": "14"
  }
 },
 "nbformat": 4,
 "nbformat_minor": 5
}
