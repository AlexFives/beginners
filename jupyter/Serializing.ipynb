{
 "cells": [
  {
   "cell_type": "markdown",
   "id": "f79e642f",
   "metadata": {},
   "source": [
    "# Сериализация и десериализация данных в C++"
   ]
  },
  {
   "cell_type": "markdown",
   "id": "ee32b446",
   "metadata": {},
   "source": [
    "Сериализация данных - процесс преобразования данных, хранящихся в оперативной памяти, в текстовый или бинарный формат.\n",
    "\n",
    "Десериализация (структурирование) данных - обратный процесс: преобразование данных, хранящихся в текстовом или бинарном формате, в структуру в оперативной памяти."
   ]
  },
  {
   "cell_type": "markdown",
   "id": "5c673f11",
   "metadata": {},
   "source": [
    "Бинарный формат сериализации подразумевает под собой преобразование данных в последовательность байтов. \n",
    "Как правило, данный формат сериализации будет занимать меньший объём памяти по сравнении с текстовым, \n",
    "но при этом будет абсолютно нечитаемым для человека."
   ]
  },
  {
   "cell_type": "markdown",
   "id": "57372dbb",
   "metadata": {},
   "source": [
    "Текстовый формат сериализации подразумает под собой преобразование данных в текстовые данные, которые удобно воспринимать человеку."
   ]
  },
  {
   "cell_type": "markdown",
   "id": "d7dae4a0",
   "metadata": {},
   "source": [
    "Например переменная, \n",
    "```cpp\n",
    "char x = 10;\n",
    "```\n",
    "\n",
    "в бинарном формате будет записана как байт 0xA, а в текстовом, как 2 символа: '1' и '0' - \"10\".\n",
    "\n",
    "Соответственно, в бинарном формате данная переменная займёт 1 байт в памяти, а в текстовом - 2 байта."
   ]
  },
  {
   "cell_type": "markdown",
   "id": "a8d5cff1",
   "metadata": {},
   "source": [
    "## Бинарная сериализация данных"
   ]
  },
  {
   "cell_type": "markdown",
   "id": "3d0a2c85",
   "metadata": {},
   "source": [
    "Для начала научимся сериализовать переменную в бинарный формат и сохранять её в файл."
   ]
  },
  {
   "cell_type": "code",
   "execution_count": 1,
   "id": "ec1153cd",
   "metadata": {},
   "outputs": [],
   "source": [
    "#include <iostream>\n",
    "// для записи в файл включим fstream\n",
    "#include <fstream>\n",
    "\n",
    "using namespace std;"
   ]
  },
  {
   "cell_type": "code",
   "execution_count": 2,
   "id": "3e2a74a8",
   "metadata": {},
   "outputs": [],
   "source": [
    "char x = 123;"
   ]
  },
  {
   "cell_type": "markdown",
   "id": "b9e346be",
   "metadata": {},
   "source": [
    "Открываем файл для записи"
   ]
  },
  {
   "cell_type": "code",
   "execution_count": 3,
   "id": "67842798",
   "metadata": {},
   "outputs": [],
   "source": [
    "ofstream out(\"file.bin\");"
   ]
  },
  {
   "cell_type": "markdown",
   "id": "c3863955",
   "metadata": {},
   "source": [
    "Для записи последовательности байтов в файл используется метод\n",
    "```cpp\n",
    "ofstream.write(const char* data, size_t size);\n",
    "```\n",
    "где data - данные, а size - размер данных в байтах."
   ]
  },
  {
   "cell_type": "markdown",
   "id": "59225148",
   "metadata": {},
   "source": [
    "Записываем данные в файл."
   ]
  },
  {
   "cell_type": "code",
   "execution_count": 4,
   "id": "95ec064b",
   "metadata": {},
   "outputs": [
    {
     "data": {
      "text/plain": [
       "@0x7f41583fc030"
      ]
     },
     "execution_count": 4,
     "metadata": {},
     "output_type": "execute_result"
    }
   ],
   "source": [
    "out.write(&x, sizeof(x));\n",
    "// оператор sizeof(T) позволяет получить размер T в байтах"
   ]
  },
  {
   "cell_type": "markdown",
   "id": "8b13b2f9",
   "metadata": {},
   "source": [
    "Обязательно закрываем файл и сохраняем его"
   ]
  },
  {
   "cell_type": "code",
   "execution_count": 5,
   "id": "ea34a7e7",
   "metadata": {},
   "outputs": [],
   "source": [
    "out.close();"
   ]
  },
  {
   "cell_type": "markdown",
   "id": "4bd42177",
   "metadata": {},
   "source": [
    "Теперь в файле \"file.bin\" записано значение переменной **x** в байтах."
   ]
  },
  {
   "cell_type": "markdown",
   "id": "02dbc431",
   "metadata": {},
   "source": [
    "Теперь структурируем эту переменную из файла."
   ]
  },
  {
   "cell_type": "markdown",
   "id": "d7769879",
   "metadata": {},
   "source": [
    "Открываем файл для чтения"
   ]
  },
  {
   "cell_type": "code",
   "execution_count": 6,
   "id": "941fa35a",
   "metadata": {},
   "outputs": [],
   "source": [
    "ifstream in(\"file.bin\");"
   ]
  },
  {
   "cell_type": "markdown",
   "id": "a46cba6e",
   "metadata": {},
   "source": [
    "Для чтения последовательности байтов из файла исползуется метод\n",
    "```cpp\n",
    "ifstream.read(char* to, size_t size);\n",
    "```\n",
    "где to - переменная для чтения, а size - количество читаемых байтов."
   ]
  },
  {
   "cell_type": "markdown",
   "id": "a9787664",
   "metadata": {},
   "source": [
    "Читаем данные из файла"
   ]
  },
  {
   "cell_type": "code",
   "execution_count": 7,
   "id": "3a8a52da",
   "metadata": {},
   "outputs": [],
   "source": [
    "char value;\n",
    "in.read(&value, sizeof(char));"
   ]
  },
  {
   "cell_type": "markdown",
   "id": "e90b5fac",
   "metadata": {},
   "source": [
    "Также закрываем файл и сохраняем его"
   ]
  },
  {
   "cell_type": "code",
   "execution_count": 8,
   "id": "56b32aa9",
   "metadata": {},
   "outputs": [],
   "source": [
    "in.close();"
   ]
  },
  {
   "cell_type": "markdown",
   "id": "3bb400a1",
   "metadata": {},
   "source": [
    "Проверим, совпадает ли значение **value** со значением **x**."
   ]
  },
  {
   "cell_type": "code",
   "execution_count": 9,
   "id": "0874dbda",
   "metadata": {},
   "outputs": [
    {
     "name": "stdout",
     "output_type": "stream",
     "text": [
      "{ { 1\n"
     ]
    }
   ],
   "source": [
    "cout << x << ' ' << value << ' ' << (x == value) << endl;"
   ]
  },
  {
   "cell_type": "markdown",
   "id": "f912b44a",
   "metadata": {},
   "source": [
    "Данные сопадают, соответственно, сериализация данных прошла успешно."
   ]
  },
  {
   "cell_type": "markdown",
   "id": "5e99f027",
   "metadata": {},
   "source": [
    "### Сериализация других типов данных"
   ]
  },
  {
   "cell_type": "markdown",
   "id": "72dc61a8",
   "metadata": {},
   "source": [
    "Что делать, если нужно сериализовать данные типа, отличного от char?"
   ]
  },
  {
   "cell_type": "markdown",
   "id": "03155f04",
   "metadata": {},
   "source": [
    "Алгоритм действий тот же, но, т. к. методы write и read принимают указатель на тип char, то необходимо преобразовать сериализуемый тип в char."
   ]
  },
  {
   "cell_type": "markdown",
   "id": "d2501e65",
   "metadata": {},
   "source": [
    "Это можно сделать с помощью оператора reinterpret_cast."
   ]
  },
  {
   "cell_type": "markdown",
   "id": "2742cefd",
   "metadata": {},
   "source": [
    "Оператор reinterpret_cast\\<NewType>(data) сообщает компилятору о том, data, теперь нужно воспринимать как тип данных NewType.\n",
    "\n",
    "Аналогом этого оператора является преобразование типов из языка *C*: __(NewType) data__.\n",
    "\n",
    "**Данный оператор никак не преобразует данные!\n",
    "После его применения последовательность байтов, на которые ссылается data, будет обрабатываться, как последовательность байтов типа NewType!**"
   ]
  },
  {
   "cell_type": "code",
   "execution_count": 10,
   "id": "476943a5",
   "metadata": {},
   "outputs": [],
   "source": [
    "int value = 10;"
   ]
  },
  {
   "cell_type": "code",
   "execution_count": 11,
   "id": "a9ffe561",
   "metadata": {},
   "outputs": [],
   "source": [
    "ofstream out(\"file2.bin\");\n",
    "out.write(reinterpret_cast<char*>(&value), sizeof(value));\n",
    "out.close();"
   ]
  },
  {
   "cell_type": "markdown",
   "id": "9fe2a4f4",
   "metadata": {},
   "source": [
    "Теперь считаем данные из файла \"file2.bin\""
   ]
  },
  {
   "cell_type": "code",
   "execution_count": 12,
   "id": "e0ea9268",
   "metadata": {},
   "outputs": [
    {
     "data": {
      "text/plain": [
       "@0x7f41583fc658"
      ]
     },
     "execution_count": 12,
     "metadata": {},
     "output_type": "execute_result"
    }
   ],
   "source": [
    "int x;\n",
    "ifstream in(\"file2.bin\");\n",
    "in.read((char*)&x, sizeof(x)); // (char*)&x аналогично reinterpret_cast<char*>(&x)\n",
    "in.close();"
   ]
  },
  {
   "cell_type": "code",
   "execution_count": 13,
   "id": "93f74142",
   "metadata": {},
   "outputs": [
    {
     "name": "stdout",
     "output_type": "stream",
     "text": [
      "10 10 1\n"
     ]
    }
   ],
   "source": [
    "cout << x << ' ' << value << ' ' << (x == value) << endl;"
   ]
  },
  {
   "cell_type": "markdown",
   "id": "e2cf856a",
   "metadata": {},
   "source": [
    "Всё совпадает"
   ]
  },
  {
   "cell_type": "markdown",
   "id": "0367321b",
   "metadata": {},
   "source": [
    "### Способы открытия файла"
   ]
  },
  {
   "cell_type": "markdown",
   "id": "e634c79c",
   "metadata": {},
   "source": [
    "При инициализации объекта ifstream или ofstream в качестве второго аргумента можно выбрать способ открытия этого файла.\n",
    "\n",
    "```cpp\n",
    "fstream f(const char* file, ios_base::openmode open_mode);\n",
    "```"
   ]
  },
  {
   "cell_type": "markdown",
   "id": "dec946fc",
   "metadata": {},
   "source": [
    "#### ios::app"
   ]
  },
  {
   "cell_type": "markdown",
   "id": "cc4bf629",
   "metadata": {},
   "source": [
    "При таком режиме открытия данные всегда будут записываться в конец файла."
   ]
  },
  {
   "cell_type": "markdown",
   "id": "909fba32",
   "metadata": {},
   "source": [
    "#### ios::ate"
   ]
  },
  {
   "cell_type": "markdown",
   "id": "bfd6fbd6",
   "metadata": {},
   "source": [
    "При открытии файла указатель на запись ставится в конец файла, но его можно передвинуть с помощью метода seek."
   ]
  },
  {
   "cell_type": "markdown",
   "id": "dd558b50",
   "metadata": {},
   "source": [
    "#### ios::binary"
   ]
  },
  {
   "cell_type": "markdown",
   "id": "28f44086",
   "metadata": {},
   "source": [
    "При таком режиме открытия все байты будут записаны без изменений.\n",
    "\n",
    "*Пояснение:*\n",
    "\n",
    "На Linux переход на новую строку обозначается символом '\\n'.\n",
    "На Windows - двумя символами \"\\r\\n\".\n",
    "\n",
    "Если открыть без указания этого способа, то на Windows при записи байта, отвечающего за '\\n', перед ним автоматически добавится байт, отвечающий за символ '\\r'.\n",
    "\n",
    "Если открыть этот файл для чтения на Linux, то данные могут считаться неверно, т. к. перед каждым символом '\\n' будет добавлен символ '\\r'."
   ]
  },
  {
   "cell_type": "markdown",
   "id": "73f18319",
   "metadata": {},
   "source": [
    "#### ios::in"
   ]
  },
  {
   "cell_type": "markdown",
   "id": "28e13d37",
   "metadata": {},
   "source": [
    "Открытие файла для чтения из него данных."
   ]
  },
  {
   "cell_type": "markdown",
   "id": "d441cda8",
   "metadata": {},
   "source": [
    "#### ios::out"
   ]
  },
  {
   "cell_type": "markdown",
   "id": "c8e8cae0",
   "metadata": {},
   "source": [
    "Открытие файла для записи в него данных."
   ]
  },
  {
   "cell_type": "markdown",
   "id": "863127c7",
   "metadata": {},
   "source": [
    "#### ios::trunc"
   ]
  },
  {
   "cell_type": "markdown",
   "id": "0b3d65d1",
   "metadata": {},
   "source": [
    "Очищает файл при открытии."
   ]
  },
  {
   "cell_type": "markdown",
   "id": "4e8e4e1c",
   "metadata": {},
   "source": [
    "Сочетать способы открытия можно с помощью оператора **|**, например **ios::out | ios::trunc | ios::binary** - открытие файла на запись с предварительной очисткой данных в нём + бинарный режим."
   ]
  },
  {
   "cell_type": "markdown",
   "id": "1898ad0b",
   "metadata": {},
   "source": [
    "### Сериализация объектов"
   ]
  },
  {
   "cell_type": "markdown",
   "id": "594dc697",
   "metadata": {},
   "source": [
    "Как правило сериализуют не отдельные переменные, а целые структуры данных."
   ]
  },
  {
   "cell_type": "markdown",
   "id": "2704b469",
   "metadata": {},
   "source": [
    "Попробуем сериализовать небольшой контейнер, основанный на std::vector."
   ]
  },
  {
   "cell_type": "code",
   "execution_count": 14,
   "id": "6cfb2738",
   "metadata": {},
   "outputs": [],
   "source": [
    "template<class T>\n",
    "class List {\n",
    "    vector<T> _data;\n",
    "\n",
    "public:\n",
    "    List() = default;\n",
    "\n",
    "    List(size_t size) : _data(size) {}\n",
    "\n",
    "    List(const char *file) {\n",
    "        // конструктор из файла (десериализация)\n",
    "        ifstream f(file, ios::binary);\n",
    "        size_t size;\n",
    "        f.read((char *) &size, sizeof(size_t));\n",
    "        for (size_t i = 0; i < size; i++) {\n",
    "            T tmp;\n",
    "            f.read((char *) &tmp, sizeof(T));\n",
    "            _data.push_back(tmp);\n",
    "        }\n",
    "        f.close();\n",
    "    }\n",
    "\n",
    "    void append(T &data) {\n",
    "        _data.push_back(data);\n",
    "    }\n",
    "\n",
    "    void append(T &&data) {\n",
    "        _data.push_back(data);\n",
    "    }\n",
    "\n",
    "    T pop() {\n",
    "        return _data.pop_back();\n",
    "    }\n",
    "    \n",
    "    void print() {\n",
    "    for (T &item : _data) cout << item << ' ';\n",
    "        cout << endl;\n",
    "    }\n",
    "\n",
    "    void serialize(const char *file) {\n",
    "        // метод сериализации структуры (сохранения её в файл)\n",
    "        ofstream out(file, ios::binary | ios::trunc);\n",
    "        serialize(out);\n",
    "        out.close();\n",
    "    }\n",
    "\n",
    "    void serialize(ostream &out) {\n",
    "        // метод сериализации структуры (сохранение в выходной буфер)\n",
    "        size_t size = _data.size();\n",
    "        out.write((char *) &size, sizeof(size_t)); // сохранение длины списка\n",
    "        for (T &item: _data) // сохранение данных\n",
    "            out.write((char *) &item, sizeof(T));\n",
    "    }\n",
    "\n",
    "    static List<T> deserialize(const char *file) {\n",
    "        // метод десериализации данных (получение структуры данных из файла)\n",
    "        ifstream in(file, ios::binary);\n",
    "        auto object = deserialize(in);\n",
    "        in.close();\n",
    "        return object;\n",
    "    }\n",
    "\n",
    "    static List<T> deserialize(istream &in) {\n",
    "        // метод десериализации данных (получение структуры данных из входного буфера)\n",
    "        List<T> object;\n",
    "        size_t size;\n",
    "        in.read((char *) &size, sizeof(size));\n",
    "        for (size_t i = 0; i < size; i++) {\n",
    "            T tmp;\n",
    "            in.read((char *) &tmp, sizeof(T));\n",
    "            object.append(tmp);\n",
    "        }\n",
    "        return object;\n",
    "    }\n",
    "\n",
    "    T &operator[](size_t index) {\n",
    "        return _data[index];\n",
    "    }\n",
    "};"
   ]
  },
  {
   "cell_type": "markdown",
   "id": "ea847722",
   "metadata": {},
   "source": [
    "Инициализируем и \"заполним\" структуру"
   ]
  },
  {
   "cell_type": "code",
   "execution_count": 15,
   "id": "d4f133a6",
   "metadata": {},
   "outputs": [],
   "source": [
    "List<int> my_list;\n",
    "for (int i = 0; i < 10; i++) \n",
    "    my_list.append(i);"
   ]
  },
  {
   "cell_type": "markdown",
   "id": "f8396218",
   "metadata": {},
   "source": [
    "Просмотрим содержимое структуры"
   ]
  },
  {
   "cell_type": "code",
   "execution_count": 16,
   "id": "e521a0b0",
   "metadata": {},
   "outputs": [
    {
     "name": "stdout",
     "output_type": "stream",
     "text": [
      "0 1 2 3 4 5 6 7 8 9 \n"
     ]
    }
   ],
   "source": [
    "my_list.print();"
   ]
  },
  {
   "cell_type": "markdown",
   "id": "b28c0e5d",
   "metadata": {},
   "source": [
    "Сериализуем структуру в файл \"list.bin\""
   ]
  },
  {
   "cell_type": "code",
   "execution_count": 17,
   "id": "336706c8",
   "metadata": {},
   "outputs": [],
   "source": [
    "my_list.serialize(\"list.bin\");"
   ]
  },
  {
   "cell_type": "markdown",
   "id": "86212ee3",
   "metadata": {},
   "source": [
    "Попробуем загрузить структуру из файла несколькими способами"
   ]
  },
  {
   "cell_type": "markdown",
   "id": "72543812",
   "metadata": {},
   "source": [
    "1) Через конструктор"
   ]
  },
  {
   "cell_type": "code",
   "execution_count": 18,
   "id": "a051807a",
   "metadata": {},
   "outputs": [
    {
     "name": "stdout",
     "output_type": "stream",
     "text": [
      "0 1 2 3 4 5 6 7 8 9 \n"
     ]
    }
   ],
   "source": [
    "List<int> my_list2(\"list.bin\");\n",
    "my_list2.print();"
   ]
  },
  {
   "cell_type": "markdown",
   "id": "5c9204b1",
   "metadata": {},
   "source": [
    "Сработало"
   ]
  },
  {
   "cell_type": "markdown",
   "id": "53cf86b9",
   "metadata": {},
   "source": [
    "2) Через статичный метод deserialize"
   ]
  },
  {
   "cell_type": "code",
   "execution_count": 19,
   "id": "1bc0eb42",
   "metadata": {},
   "outputs": [
    {
     "name": "stdout",
     "output_type": "stream",
     "text": [
      "0 1 2 3 4 5 6 7 8 9 \n"
     ]
    }
   ],
   "source": [
    "auto my_list3 = List<int>::deserialize(\"list.bin\");\n",
    "my_list3.print();"
   ]
  },
  {
   "cell_type": "markdown",
   "id": "6ba907bd",
   "metadata": {},
   "source": [
    "Тоже сработало, данные не исказились"
   ]
  },
  {
   "cell_type": "markdown",
   "id": "7e402040",
   "metadata": {},
   "source": [
    "## Текстовая сериализация"
   ]
  },
  {
   "cell_type": "markdown",
   "id": "79686149",
   "metadata": {},
   "source": [
    "Для того, чтобы сериализовать данные в файл в текстовом виде, нужно использовать оператор **<<**, чтобы десериализовать данные из файла - оператор **>>**."
   ]
  },
  {
   "cell_type": "code",
   "execution_count": 20,
   "id": "ca5cf035",
   "metadata": {},
   "outputs": [],
   "source": [
    "ofstream out(\"text.txt\");"
   ]
  },
  {
   "cell_type": "code",
   "execution_count": 21,
   "id": "4290be6e",
   "metadata": {},
   "outputs": [],
   "source": [
    "int x = 10;"
   ]
  },
  {
   "cell_type": "code",
   "execution_count": 22,
   "id": "6dbdb1c6",
   "metadata": {},
   "outputs": [],
   "source": [
    "out << x << endl;"
   ]
  },
  {
   "cell_type": "code",
   "execution_count": 23,
   "id": "43e7feb3",
   "metadata": {},
   "outputs": [],
   "source": [
    "out.close();"
   ]
  },
  {
   "cell_type": "markdown",
   "id": "1dc2b61c",
   "metadata": {},
   "source": [
    "В файле записана строка \"10\"."
   ]
  },
  {
   "cell_type": "markdown",
   "id": "d53bafca",
   "metadata": {},
   "source": [
    "Считаем данные из файла."
   ]
  },
  {
   "cell_type": "code",
   "execution_count": 24,
   "id": "af396563",
   "metadata": {},
   "outputs": [],
   "source": [
    "ifstream in(\"text.txt\");"
   ]
  },
  {
   "cell_type": "code",
   "execution_count": 25,
   "id": "c64cf7f9",
   "metadata": {},
   "outputs": [],
   "source": [
    "int value;\n",
    "in >> value;"
   ]
  },
  {
   "cell_type": "code",
   "execution_count": 26,
   "id": "d4fbe874",
   "metadata": {},
   "outputs": [],
   "source": [
    "in.close();"
   ]
  },
  {
   "cell_type": "code",
   "execution_count": 27,
   "id": "7df55524",
   "metadata": {},
   "outputs": [
    {
     "name": "stdout",
     "output_type": "stream",
     "text": [
      "10\n"
     ]
    }
   ],
   "source": [
    "cout << value << endl;"
   ]
  }
 ],
 "metadata": {
  "kernelspec": {
   "display_name": "C++14",
   "language": "C++14",
   "name": "xcpp14"
  },
  "language_info": {
   "codemirror_mode": "text/x-c++src",
   "file_extension": ".cpp",
   "mimetype": "text/x-c++src",
   "name": "c++",
   "version": "14"
  }
 },
 "nbformat": 4,
 "nbformat_minor": 5
}
