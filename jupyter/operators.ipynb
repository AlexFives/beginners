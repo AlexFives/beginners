{
 "cells": [
  {
   "cell_type": "markdown",
   "id": "289e5082",
   "metadata": {},
   "source": [
    "## Операторы в C++"
   ]
  },
  {
   "cell_type": "code",
   "execution_count": 1,
   "id": "22b75ea4",
   "metadata": {},
   "outputs": [],
   "source": [
    "#include <iostream>\n",
    "\n",
    "using namespace std;"
   ]
  },
  {
   "cell_type": "markdown",
   "id": "9f14d43a",
   "metadata": {},
   "source": [
    "### Оператор присваивания: =\n",
    "Присваивает значение переменной.\n",
    "\n",
    "Выполняется для всех стандартных типов."
   ]
  },
  {
   "cell_type": "code",
   "execution_count": 2,
   "id": "4a3e6536",
   "metadata": {},
   "outputs": [],
   "source": [
    "int a = 1;\n",
    "int b = 2;\n",
    "\n",
    "float fa = 12.34;\n",
    "float fb = 23.45;\n",
    "\n",
    "char ca = 'a';\n",
    "char cb = 'b';\n",
    "\n",
    "bool ba = true;\n",
    "bool bb = false;"
   ]
  },
  {
   "cell_type": "markdown",
   "id": "81e32e82",
   "metadata": {},
   "source": [
    "### Арифметические операторы:"
   ]
  },
  {
   "cell_type": "markdown",
   "id": "a13f4bb0",
   "metadata": {},
   "source": [
    "#### Оператор сложения: +\n",
    "Выполняется для всех стандартных типов данных."
   ]
  },
  {
   "cell_type": "code",
   "execution_count": 3,
   "id": "af5d33e2",
   "metadata": {},
   "outputs": [
    {
     "name": "stdout",
     "output_type": "stream",
     "text": [
      "3\n",
      "35.79\n",
      "195\n",
      "1\n"
     ]
    }
   ],
   "source": [
    "cout << a + b << endl;\n",
    "\n",
    "cout << fa + fb << endl;\n",
    "\n",
    "cout << ca + cb << endl;\n",
    "\n",
    "cout << ba + bb << endl;"
   ]
  },
  {
   "cell_type": "markdown",
   "id": "3a329763",
   "metadata": {},
   "source": [
    "#### Оператор вычитания: -\n",
    "Выполняется для всех стандартных типов данных."
   ]
  },
  {
   "cell_type": "code",
   "execution_count": 4,
   "id": "9f335732",
   "metadata": {},
   "outputs": [
    {
     "name": "stdout",
     "output_type": "stream",
     "text": [
      "-1\n",
      "-11.11\n",
      "-1\n",
      "1\n"
     ]
    }
   ],
   "source": [
    "cout << a - b << endl;\n",
    "\n",
    "cout << fa - fb << endl;\n",
    "\n",
    "cout << ca - cb << endl;\n",
    "\n",
    "cout << ba - bb << endl;"
   ]
  },
  {
   "cell_type": "markdown",
   "id": "d60ad41b",
   "metadata": {},
   "source": [
    "#### Оператор умножения: *\n",
    "Выполняется для всех стандартных типов данных."
   ]
  },
  {
   "cell_type": "code",
   "execution_count": 5,
   "id": "2e041697",
   "metadata": {},
   "outputs": [
    {
     "name": "stdout",
     "output_type": "stream",
     "text": [
      "2\n",
      "289.373\n",
      "9506\n",
      "0\n"
     ]
    }
   ],
   "source": [
    "cout << a * b << endl;\n",
    "\n",
    "cout << fa * fb << endl;\n",
    "\n",
    "cout << ca * cb << endl;\n",
    "\n",
    "cout << ba * bb << endl;"
   ]
  },
  {
   "cell_type": "markdown",
   "id": "6f11421e",
   "metadata": {},
   "source": [
    "#### Оператор деления: /\n",
    "Выполняется для численных типов данных (целые числа и числа с плавающей точкой).\n",
    "\n",
    "Для целых чисел выполняется целочисленное деление: 10 / 3 = 3."
   ]
  },
  {
   "cell_type": "code",
   "execution_count": 6,
   "id": "d5682263",
   "metadata": {},
   "outputs": [
    {
     "name": "stdout",
     "output_type": "stream",
     "text": [
      "0\n",
      "10 / 2 = 5\n",
      "10 / 3 = 3\n",
      "0.526226\n"
     ]
    }
   ],
   "source": [
    "cout << a / b << endl;\n",
    "\n",
    "cout << \"10 / 2 = \" << 10 / 2 << endl;\n",
    "\n",
    "cout << \"10 / 3 = \" << 10 / 3 << endl;\n",
    "\n",
    "cout << fa / fb << endl;"
   ]
  },
  {
   "cell_type": "markdown",
   "id": "49d344cb",
   "metadata": {},
   "source": [
    "#### Оператор деления по модулю: %\n",
    "10 % 2 = 0, 10 % 3 = 1, 10 % 4 = 2, 10 % 11 = 10;\n",
    "\n",
    "Выполняется только для целых чисел."
   ]
  },
  {
   "cell_type": "code",
   "execution_count": 7,
   "id": "842463a7",
   "metadata": {},
   "outputs": [
    {
     "name": "stdout",
     "output_type": "stream",
     "text": [
      "1\n",
      "10 % 3 = 1\n"
     ]
    }
   ],
   "source": [
    "cout << a % b << endl;\n",
    "\n",
    "cout << \"10 % 3 = \" << 10 % 3 << endl;"
   ]
  },
  {
   "cell_type": "markdown",
   "id": "2882ea53",
   "metadata": {},
   "source": [
    "#### Оператор унарного +: +\n",
    "a = 3;\n",
    "+a = 3;\n",
    "\n",
    "Выполняется для всех стандартных типов данных."
   ]
  },
  {
   "cell_type": "code",
   "execution_count": 8,
   "id": "4aa2edeb",
   "metadata": {},
   "outputs": [
    {
     "name": "stdout",
     "output_type": "stream",
     "text": [
      "1 2\n",
      "12.34 23.45\n",
      "97 98\n",
      "1 0\n"
     ]
    }
   ],
   "source": [
    "cout << +a << ' ' << +b << endl;\n",
    "\n",
    "cout << +fa << ' ' << +fb << endl;\n",
    "\n",
    "cout << +ca << ' ' << +cb << endl;\n",
    "\n",
    "cout << +ba << ' ' << +bb << endl;"
   ]
  },
  {
   "cell_type": "markdown",
   "id": "9cc65c66",
   "metadata": {},
   "source": [
    "#### Оператор унарного -: -\n",
    "a = 3;\n",
    "-a = -3;\n",
    "\n",
    "Выполняется для всех стандартных типов данных."
   ]
  },
  {
   "cell_type": "code",
   "execution_count": 9,
   "id": "ccb5008c",
   "metadata": {},
   "outputs": [
    {
     "name": "stdout",
     "output_type": "stream",
     "text": [
      "-1 -2\n",
      "-12.34 -23.45\n",
      "-97 -98\n",
      "-1 0\n"
     ]
    }
   ],
   "source": [
    "cout << -a << ' ' << -b << endl;\n",
    "\n",
    "cout << -fa << ' ' << -fb << endl;\n",
    "\n",
    "cout << -ca << ' ' << -cb << endl;\n",
    "\n",
    "cout << -ba << ' ' << -bb << endl;"
   ]
  },
  {
   "cell_type": "markdown",
   "id": "24c819a5",
   "metadata": {},
   "source": [
    "#### Операторы инкремента и декремента: ++ и --\n",
    "++ - инкремент\n",
    "\n",
    "\\-\\- - декремент\n",
    "\n",
    "Оператор инкремента увеличивает значение переменной на 1. \n",
    "Оператор декремента уменьшает значение переменной на 1.\n",
    "\n",
    "Данные операторы бывают префиксными и постфиксными:\n",
    "++a или \\-\\-a - префиксные, а a++ или a\\-\\- - постфиксные.\n",
    "\n",
    "Префиксный оператор увеличивает/уменьшает значение переменной, а после возвращает эту переменную:\n",
    "\n",
    "a = 10;\n",
    "\n",
    "b = ++a;\n",
    "\n",
    "b = 11;\n",
    "\n",
    "\n",
    "Постфиксный оператор увеличивает/уменьшает значение переменной, но возвращает её предыдущее значение:\n",
    "\n",
    "a = 10;\n",
    "\n",
    "b = a--;\n",
    "\n",
    "b = 10;\n",
    "\n",
    "Выполняются только для целых чисел."
   ]
  },
  {
   "cell_type": "code",
   "execution_count": 10,
   "id": "a97d6e3f",
   "metadata": {},
   "outputs": [
    {
     "name": "stdout",
     "output_type": "stream",
     "text": [
      "Prefix increment: a = 1 ++a = 2 a = 2\n",
      "Prefix decrement: a = 2 --a = 1 a = 1\n",
      "Postfix increment: b = 2 b++ = 2 b = 3\n",
      "Postfix decrement: b = 3 b-- = 3 b = 2\n"
     ]
    }
   ],
   "source": [
    "cout << \"Prefix increment: \" << \"a = \" << a << ' ';\n",
    "cout << \"++a = \" << ++a << ' ';\n",
    "cout << \"a = \" << a << endl;\n",
    "\n",
    "cout << \"Prefix decrement: \" << \"a = \" << a << ' ';\n",
    "cout << \"--a = \" << --a << ' ';\n",
    "cout << \"a = \" << a << endl;\n",
    "\n",
    "cout << \"Postfix increment: \" << \"b = \" << b << ' ';\n",
    "cout << \"b++ = \" << b++ << ' ';\n",
    "cout << \"b = \" << b << endl;\n",
    "\n",
    "cout << \"Postfix decrement: \" << \"b = \" << b << ' ';\n",
    "cout << \"b-- = \" << b-- << ' ';\n",
    "cout << \"b = \" << b << endl;"
   ]
  },
  {
   "cell_type": "markdown",
   "id": "3063c49c",
   "metadata": {},
   "source": [
    "### Операторы сравнения:\n",
    "Сравнивают 2 объекта.\n",
    "\n",
    "Результатом выполнения этих операторов является логический тип данных."
   ]
  },
  {
   "cell_type": "markdown",
   "id": "3375587f",
   "metadata": {},
   "source": [
    "#### Оператор равенства: ==\n",
    "Результатом является true, если объекты равны, иначе false."
   ]
  },
  {
   "cell_type": "code",
   "execution_count": 11,
   "id": "8a26efea",
   "metadata": {},
   "outputs": [
    {
     "name": "stdout",
     "output_type": "stream",
     "text": [
      "a == b = 0\n",
      "a == 1 = 1\n"
     ]
    }
   ],
   "source": [
    "bool eq_res1 = a == b;\n",
    "bool eq_res2 = a == 1;\n",
    "\n",
    "cout << \"a == b = \" << eq_res1 << endl;\n",
    "cout << \"a == 1 = \" << eq_res2 << endl;"
   ]
  },
  {
   "cell_type": "markdown",
   "id": "a6403961",
   "metadata": {},
   "source": [
    "#### Оператор неравенства: !=\n",
    "Результатом является true, если объекты не равно, иначе false."
   ]
  },
  {
   "cell_type": "code",
   "execution_count": 12,
   "id": "5d6f3338",
   "metadata": {},
   "outputs": [
    {
     "name": "stdout",
     "output_type": "stream",
     "text": [
      "a != b = 1\n",
      "a != 1 = 0\n"
     ]
    }
   ],
   "source": [
    "bool ne_res1 = a != b;\n",
    "bool ne_res2 = a != 1;\n",
    "\n",
    "cout << \"a != b = \" << ne_res1 << endl;\n",
    "cout << \"a != 1 = \" << ne_res2 << endl;"
   ]
  },
  {
   "cell_type": "markdown",
   "id": "50392e6a",
   "metadata": {},
   "source": [
    "#### Оператор меньше: <\n",
    "Результатом является true, если объект 1 меньше объекта 2."
   ]
  },
  {
   "cell_type": "code",
   "execution_count": 13,
   "id": "9e3dcf03",
   "metadata": {},
   "outputs": [
    {
     "name": "stdout",
     "output_type": "stream",
     "text": [
      "a < b = 1\n",
      "a < 1 = 0\n",
      "1 < 2 = 1\n",
      "1 < 1 = 0\n"
     ]
    }
   ],
   "source": [
    "bool lt_res1 = a < b;\n",
    "bool lt_res2 = a < 1;\n",
    "bool lt_res3 = 1 < 2;\n",
    "bool lt_res4 = 1 < 1;\n",
    "\n",
    "cout << \"a < b = \" << (a < b) << endl;\n",
    "cout << \"a < 1 = \" << (a < 1) << endl;\n",
    "cout << \"1 < 2 = \" << (1 < 2) << endl;\n",
    "cout << \"1 < 1 = \" << (1 < 1) << endl;"
   ]
  },
  {
   "cell_type": "markdown",
   "id": "fe5b01f3",
   "metadata": {},
   "source": [
    "#### Оператор больше: >\n",
    "Результатом является true, если объект 1 больше объекта 2."
   ]
  },
  {
   "cell_type": "code",
   "execution_count": 14,
   "id": "fbce027a",
   "metadata": {},
   "outputs": [
    {
     "name": "stdout",
     "output_type": "stream",
     "text": [
      "a > b = 0\n",
      "a > 1 = 0\n",
      "1 > 2 = 0\n",
      "1 > 1 = 0\n"
     ]
    }
   ],
   "source": [
    "bool gt_res1 = a > b;\n",
    "bool gt_res2 = a > 1;\n",
    "bool gt_res3 = 1 > 2;\n",
    "bool gt_res4 = 1 > 1;\n",
    "\n",
    "cout << \"a > b = \" << (a > b) << endl;\n",
    "cout << \"a > 1 = \" << (a > 1) << endl;\n",
    "cout << \"1 > 2 = \" << (1 > 2) << endl;\n",
    "cout << \"1 > 1 = \" << (1 > 1) << endl;"
   ]
  },
  {
   "cell_type": "markdown",
   "id": "e9511702",
   "metadata": {},
   "source": [
    "#### Оператор меньше или равно: <=\n",
    "Результатом является true, если объект 1 меньше объекта 2 или равен ему."
   ]
  },
  {
   "cell_type": "code",
   "execution_count": 15,
   "id": "fff3ac21",
   "metadata": {},
   "outputs": [
    {
     "name": "stdout",
     "output_type": "stream",
     "text": [
      "a <= b = 1\n",
      "a <= 1 = 1\n",
      "1 <= 2 = 1\n",
      "1 <= 1 = 1\n"
     ]
    }
   ],
   "source": [
    "bool le_res1 = a <= b;\n",
    "bool le_res2 = a <= 1;\n",
    "bool le_res3 = 1 <= 2;\n",
    "bool le_res4 = 1 <= 1;\n",
    "\n",
    "cout << \"a <= b = \" << (a <= b) << endl;\n",
    "cout << \"a <= 1 = \" << (a <= 1) << endl;\n",
    "cout << \"1 <= 2 = \" << (1 <= 2) << endl;\n",
    "cout << \"1 <= 1 = \" << (1 <= 1) << endl;"
   ]
  },
  {
   "cell_type": "markdown",
   "id": "be100e70",
   "metadata": {},
   "source": [
    "#### Оператор больше или равно: >=\n",
    "Результатом является true, если объект 1 больше объекта 2 или равен ему."
   ]
  },
  {
   "cell_type": "code",
   "execution_count": 16,
   "id": "c82b1186",
   "metadata": {},
   "outputs": [
    {
     "name": "stdout",
     "output_type": "stream",
     "text": [
      "a >= b = 0\n",
      "a >= 1 = 1\n",
      "1 >= 2 = 0\n",
      "1 >= 1 = 1\n"
     ]
    }
   ],
   "source": [
    "bool ge_res1 = a >= b;\n",
    "bool ge_res2 = a >= 1;\n",
    "bool ge_res3 = 1 >= 2;\n",
    "bool ge_res4 = 1 >= 1;\n",
    "\n",
    "cout << \"a >= b = \" << (a >= b) << endl;\n",
    "cout << \"a >= 1 = \" << (a >= 1) << endl;\n",
    "cout << \"1 >= 2 = \" << (1 >= 2) << endl;\n",
    "cout << \"1 >= 1 = \" << (1 >= 1) << endl;"
   ]
  },
  {
   "cell_type": "markdown",
   "id": "41f07d70",
   "metadata": {},
   "source": [
    "### Логические операторы:\n",
    "Выполняются над объектами логического типа."
   ]
  },
  {
   "cell_type": "code",
   "execution_count": 17,
   "id": "0a9d9bb9",
   "metadata": {},
   "outputs": [],
   "source": [
    "bool true_var = true;\n",
    "bool false_var = false;"
   ]
  },
  {
   "cell_type": "markdown",
   "id": "aa432018",
   "metadata": {},
   "source": [
    "#### Оператор логического отрицания: not или !\n",
    "true обращает в false, false в true."
   ]
  },
  {
   "cell_type": "code",
   "execution_count": 18,
   "id": "c08bdb52",
   "metadata": {},
   "outputs": [
    {
     "name": "stdout",
     "output_type": "stream",
     "text": [
      "not true = 0\n",
      "not false = 1\n"
     ]
    }
   ],
   "source": [
    "cout << \"not true = \" << not true_var << endl;\n",
    "cout << \"not false = \" << !false_var << endl;"
   ]
  },
  {
   "cell_type": "markdown",
   "id": "4ade604e",
   "metadata": {},
   "source": [
    "#### Оператор логического умножения (логическое и): and или &&\n",
    "false && false = false;\n",
    "\n",
    "false && true = false;\n",
    "\n",
    "true && false = false;\n",
    "\n",
    "true && true = true;"
   ]
  },
  {
   "cell_type": "code",
   "execution_count": 19,
   "id": "8ddae414",
   "metadata": {},
   "outputs": [
    {
     "name": "stdout",
     "output_type": "stream",
     "text": [
      "false and false = 0\n",
      "false and true = 0\n",
      "true and false = 0\n",
      "true and true = 1\n"
     ]
    }
   ],
   "source": [
    "cout << \"false and false = \" << (false_var and false_var) << endl;\n",
    "cout << \"false and true = \" << (false_var && true_var) << endl;\n",
    "cout << \"true and false = \" << (true_var and false_var) << endl;\n",
    "cout << \"true and true = \" << (true_var && true_var) << endl;"
   ]
  },
  {
   "cell_type": "markdown",
   "id": "2fe95ffa",
   "metadata": {},
   "source": [
    "#### Оператор логического сложения (логическое или): or или ||\n",
    "false || false = false;\n",
    "\n",
    "false || true = true;\n",
    "\n",
    "true || false = true;\n",
    "\n",
    "true || true = true;"
   ]
  },
  {
   "cell_type": "code",
   "execution_count": 20,
   "id": "826392eb",
   "metadata": {},
   "outputs": [
    {
     "name": "stdout",
     "output_type": "stream",
     "text": [
      "false or false = 0\n",
      "false or true = 1\n",
      "true or false = 1\n",
      "true or true = 1\n"
     ]
    }
   ],
   "source": [
    "cout << \"false or false = \" << (false_var or false_var) << endl;\n",
    "cout << \"false or true = \" << (false_var || true_var) << endl;\n",
    "cout << \"true or false = \" << (true_var or false_var) << endl;\n",
    "cout << \"true or true = \" << (true_var || true_var) << endl;"
   ]
  },
  {
   "cell_type": "markdown",
   "id": "ee99d03e",
   "metadata": {},
   "source": [
    "### Битовые операторы:\n",
    "Выполняются для целочисленных переменных."
   ]
  },
  {
   "cell_type": "code",
   "execution_count": 21,
   "id": "29d3f795",
   "metadata": {},
   "outputs": [],
   "source": [
    "int a = 10;"
   ]
  },
  {
   "cell_type": "markdown",
   "id": "c98fdb08",
   "metadata": {},
   "source": [
    "#### Оператор битового отрицания: ~ или compl\n",
    "$10_{10} = 1010_2$\n",
    "\n",
    "$\\text{~}10_{10} = 0101_2 = 5_{10}$"
   ]
  },
  {
   "cell_type": "code",
   "execution_count": 22,
   "id": "cfdd188a",
   "metadata": {},
   "outputs": [
    {
     "name": "stdout",
     "output_type": "stream",
     "text": [
      "a = 10 ~a = -11 ~(compl a) = 10\n"
     ]
    }
   ],
   "source": [
    "cout << \"a = \" << a << ' ';\n",
    "cout << \"~a = \" << ~a << ' ';\n",
    "cout << \"~(compl a) = \" << ~(compl a) << endl;"
   ]
  },
  {
   "cell_type": "markdown",
   "id": "0ff30697",
   "metadata": {},
   "source": [
    "#### Оператор битового умножения (битовое и): & или bitand\n",
    "$\\text{a = }10_{10} = 1010_2$\n",
    "\n",
    "$\\text{b = }15_{10} = 1111_2$\n",
    "\n",
    "$\\text{a & b = }10_{10}\\text{ & }15_{10}\\text{ = }1010_2\\text{ & }1111_2\\text{ = }1010_2\\text{ = }10_{10}$"
   ]
  },
  {
   "cell_type": "code",
   "execution_count": 23,
   "id": "45af2421",
   "metadata": {},
   "outputs": [],
   "source": [
    "int b = 15;"
   ]
  },
  {
   "cell_type": "code",
   "execution_count": 24,
   "id": "8dcae7a1",
   "metadata": {},
   "outputs": [
    {
     "name": "stdout",
     "output_type": "stream",
     "text": [
      "a & b = 10\n",
      "b bitand a = 10\n"
     ]
    }
   ],
   "source": [
    "cout << \"a & b = \" << (a & b) << endl;\n",
    "cout << \"b bitand a = \" << (b bitand a) << endl;"
   ]
  },
  {
   "cell_type": "markdown",
   "id": "5d1f787c",
   "metadata": {},
   "source": [
    "#### Оператор битового сложения (битовое или): | или bitor\n",
    "$\\text{a = }10_{10} = 1010_2$\n",
    "\n",
    "$\\text{b = }15_{10} = 1111_2$\n",
    "\n",
    "$\\text{a | b = }10_{10}\\text{ | }15_{10}\\text{ = }1010_2\\text{ | }1111_2\\text{ = }1111_2\\text{ = }15_{10}$"
   ]
  },
  {
   "cell_type": "code",
   "execution_count": 25,
   "id": "ea7db0c9",
   "metadata": {},
   "outputs": [
    {
     "name": "stdout",
     "output_type": "stream",
     "text": [
      "a | b = 15\n",
      "b bitor a = 15\n"
     ]
    }
   ],
   "source": [
    "cout << \"a | b = \" << (a | b) << endl;\n",
    "cout << \"b bitor a = \" << (b bitor a) << endl;"
   ]
  },
  {
   "cell_type": "markdown",
   "id": "abb0070d",
   "metadata": {},
   "source": [
    "#### Оператор исключающего или (XOR): ^ или xor\n",
    "$\\text{a = }10_{10} = 1010_2$\n",
    "\n",
    "$\\text{b = }15_{10} = 1111_2$\n",
    "\n",
    "$\\text{a ^ b = }10_{10}\\text{ ^ }15_{10}\\text{ = }1010_2\\text{ ^ }1111_2\\text{ = }0101_2\\text{ = }5_{10}$"
   ]
  },
  {
   "cell_type": "code",
   "execution_count": 26,
   "id": "2ad3980f",
   "metadata": {},
   "outputs": [
    {
     "name": "stdout",
     "output_type": "stream",
     "text": [
      "a ^ b = 5\n",
      "b xor a = 5\n"
     ]
    }
   ],
   "source": [
    "cout << \"a ^ b = \" << (a ^ b) << endl;\n",
    "cout << \"b xor a = \" << (b xor a) << endl;"
   ]
  },
  {
   "cell_type": "markdown",
   "id": "106bd3a7",
   "metadata": {},
   "source": [
    "#### Оператор битового сдвига влево: <<\n",
    "Несмотря на схожее написание, оператор битового сдвига влево и оператор вывода cout - разные операторы.\n",
    "\n",
    "$\\text{a = }10_{10}\\text{ = }1010_2$\n",
    "\n",
    "$\\text{a << 2 = }101000_2\\text{ = }40_{10}$"
   ]
  },
  {
   "cell_type": "code",
   "execution_count": 27,
   "id": "6d8563fe",
   "metadata": {},
   "outputs": [],
   "source": [
    "char var = 10;"
   ]
  },
  {
   "cell_type": "code",
   "execution_count": 28,
   "id": "f7183ccb",
   "metadata": {},
   "outputs": [
    {
     "name": "stdout",
     "output_type": "stream",
     "text": [
      "var << 2 = 40\n"
     ]
    }
   ],
   "source": [
    "cout << \"var << 2 = \" << (var << 2) << endl;"
   ]
  },
  {
   "cell_type": "markdown",
   "id": "635e70c6",
   "metadata": {},
   "source": [
    "#### Оператор битового сдвига вправо: >>\n",
    "$\\text{a = }10_{10}\\text{ = }1010_2$\n",
    "\n",
    "$\\text{a >> 1 = }0101_2\\text{ = }5_{10}$"
   ]
  },
  {
   "cell_type": "code",
   "execution_count": 29,
   "id": "ae223700",
   "metadata": {},
   "outputs": [
    {
     "name": "stdout",
     "output_type": "stream",
     "text": [
      "var >> 1 = 5\n"
     ]
    }
   ],
   "source": [
    "cout << \"var >> 1 = \" << (var >> 1) << endl;"
   ]
  },
  {
   "cell_type": "markdown",
   "id": "39bb906d",
   "metadata": {},
   "source": [
    "### Операторы составного присваивания\n",
    "Операторы составного присваивания выглядят так: object1 @= object2, \n",
    "где @ - оператор из множества $\\text{\\{+, -, *, /, %, &, |, ^, <<, >>\\}}$.\n",
    "\n",
    "Оператор составного присваивания a @= b эквивалентен a = a @ b.\n",
    "\n",
    "Выполняются для объектов того типа, для которых выполняется оператор @."
   ]
  },
  {
   "cell_type": "code",
   "execution_count": 30,
   "id": "0a8a3a97",
   "metadata": {},
   "outputs": [
    {
     "name": "stdout",
     "output_type": "stream",
     "text": [
      "var = 10\n"
     ]
    }
   ],
   "source": [
    "int var = 10;\n",
    "cout << \"var = \" << var << endl;"
   ]
  },
  {
   "cell_type": "code",
   "execution_count": 31,
   "id": "874f9046",
   "metadata": {},
   "outputs": [
    {
     "name": "stdout",
     "output_type": "stream",
     "text": [
      "var += 1: 11\n"
     ]
    }
   ],
   "source": [
    "var += 1;\n",
    "cout << \"var += 1: \" << var << endl;"
   ]
  },
  {
   "cell_type": "code",
   "execution_count": 32,
   "id": "8a79895a",
   "metadata": {},
   "outputs": [
    {
     "name": "stdout",
     "output_type": "stream",
     "text": [
      "var -= 1: 10\n"
     ]
    }
   ],
   "source": [
    "var -= 1;\n",
    "cout << \"var -= 1: \" << var << endl;"
   ]
  },
  {
   "cell_type": "code",
   "execution_count": 33,
   "id": "f1d89133",
   "metadata": {},
   "outputs": [
    {
     "name": "stdout",
     "output_type": "stream",
     "text": [
      "var *= 2: 20\n"
     ]
    }
   ],
   "source": [
    "var *= 2;\n",
    "cout << \"var *= 2: \" << var << endl;"
   ]
  },
  {
   "cell_type": "code",
   "execution_count": 34,
   "id": "ad2e8062",
   "metadata": {},
   "outputs": [
    {
     "name": "stdout",
     "output_type": "stream",
     "text": [
      "var /= 2: 10\n"
     ]
    }
   ],
   "source": [
    "var /= 2;\n",
    "cout << \"var /= 2: \" << var << endl;"
   ]
  },
  {
   "cell_type": "code",
   "execution_count": 35,
   "id": "0431f808",
   "metadata": {},
   "outputs": [
    {
     "name": "stdout",
     "output_type": "stream",
     "text": [
      "var %= 7: 3\n"
     ]
    }
   ],
   "source": [
    "var %= 7;\n",
    "cout << \"var %= 7: \" << var << endl;"
   ]
  },
  {
   "cell_type": "code",
   "execution_count": 36,
   "id": "4f9bbb8e",
   "metadata": {},
   "outputs": [
    {
     "name": "stdout",
     "output_type": "stream",
     "text": [
      "var &= 10: 2\n"
     ]
    }
   ],
   "source": [
    "var &= 10;\n",
    "cout << \"var &= 10: \" << var << endl;"
   ]
  },
  {
   "cell_type": "code",
   "execution_count": 37,
   "id": "c9a522c0",
   "metadata": {},
   "outputs": [
    {
     "name": "stdout",
     "output_type": "stream",
     "text": [
      "var |= 10: 10\n"
     ]
    }
   ],
   "source": [
    "var |= 10;\n",
    "cout << \"var |= 10: \" << var << endl;"
   ]
  },
  {
   "cell_type": "code",
   "execution_count": 38,
   "id": "5c119d49",
   "metadata": {},
   "outputs": [
    {
     "name": "stdout",
     "output_type": "stream",
     "text": [
      "var <<= 2: 40\n"
     ]
    }
   ],
   "source": [
    "var <<= 2;\n",
    "cout << \"var <<= 2: \" << var << endl;"
   ]
  },
  {
   "cell_type": "code",
   "execution_count": 39,
   "id": "56553db8",
   "metadata": {},
   "outputs": [
    {
     "name": "stdout",
     "output_type": "stream",
     "text": [
      "var >>= 2: 10\n"
     ]
    }
   ],
   "source": [
    "var >>= 2;\n",
    "cout << \"var >>= 2: \" << var << endl;"
   ]
  },
  {
   "cell_type": "markdown",
   "id": "d2ce0d4e",
   "metadata": {},
   "source": [
    "### Другие операторы"
   ]
  },
  {
   "cell_type": "markdown",
   "id": "1f917e48",
   "metadata": {},
   "source": [
    "#### Оператор sizeof\n",
    "Возвращает размер переменной или типа данных в байтах.\n",
    "\n",
    "sizeof(int) = 4."
   ]
  },
  {
   "cell_type": "code",
   "execution_count": 40,
   "id": "c613cf56",
   "metadata": {},
   "outputs": [
    {
     "name": "stdout",
     "output_type": "stream",
     "text": [
      "4\n"
     ]
    }
   ],
   "source": [
    "cout << sizeof(int) << endl;"
   ]
  },
  {
   "cell_type": "code",
   "execution_count": 41,
   "id": "e82f2e01",
   "metadata": {},
   "outputs": [
    {
     "name": "stdout",
     "output_type": "stream",
     "text": [
      "4\n"
     ]
    }
   ],
   "source": [
    "int var = 10;\n",
    "cout << sizeof(var) << endl;"
   ]
  },
  {
   "cell_type": "markdown",
   "id": "886749d4",
   "metadata": {},
   "source": [
    "#### Оператор области видимости: ::\n",
    "Предназначен для указания области видимости объекта."
   ]
  },
  {
   "cell_type": "code",
   "execution_count": 42,
   "id": "4ca406d1",
   "metadata": {},
   "outputs": [
    {
     "name": "stdout",
     "output_type": "stream",
     "text": [
      "::\n"
     ]
    }
   ],
   "source": [
    "std::cout << \"::\" << std::endl;"
   ]
  },
  {
   "cell_type": "markdown",
   "id": "45582d08",
   "metadata": {},
   "source": [
    "#### Оператор обращения к элементу массива: [ ]\n",
    "Используется для получения значения по индексу массива и для переназначения данных по индексу массива.\n",
    "\n",
    "array = {1, 2, 3};\n",
    "\n",
    "array[0]: 1;\n",
    "\n",
    "array[0] = 10;\n",
    "\n",
    "array: {10, 2, 3};"
   ]
  },
  {
   "cell_type": "code",
   "execution_count": 43,
   "id": "85843590",
   "metadata": {},
   "outputs": [
    {
     "name": "stdout",
     "output_type": "stream",
     "text": [
      "array[0]: 0\n",
      "array[0]: 10\n"
     ]
    }
   ],
   "source": [
    "int array[5] {0, 1, 2, 3, 4};\n",
    "\n",
    "cout << \"array[0]: \" << array[0] << endl;\n",
    "\n",
    "array[0] = 10;\n",
    "\n",
    "cout << \"array[0]: \" << array[0] << endl;"
   ]
  }
 ],
 "metadata": {
  "kernelspec": {
   "display_name": "C++14",
   "language": "C++14",
   "name": "xcpp14"
  },
  "language_info": {
   "codemirror_mode": "text/x-c++src",
   "file_extension": ".cpp",
   "mimetype": "text/x-c++src",
   "name": "c++",
   "version": "14"
  }
 },
 "nbformat": 4,
 "nbformat_minor": 5
}
