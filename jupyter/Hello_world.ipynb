{
 "cells": [
  {
   "cell_type": "markdown",
   "id": "38d36b10",
   "metadata": {},
   "source": [
    "# Hello, world! на С++"
   ]
  },
  {
   "cell_type": "code",
   "execution_count": 1,
   "id": "1623d770",
   "metadata": {},
   "outputs": [],
   "source": [
    "// однострочный комментарий\n",
    "/*\n",
    "многострочный\n",
    "комментарий\n",
    "*/\n",
    "\n",
    "#include <iostream>\n",
    "/* #include - сообщение компилятору о добавлении модуля.\n",
    "Если модуль находится в стандартной библиотеке шаблонов (STL), то используется <module>.\n",
    "Если модуль находится в какой-либо директории проекта, то используется \"file_name\".\n",
    "*/\n",
    "\n",
    "using namespace std;\n",
    "/* iostream является частью стандартной библиотеки шаблонов (stl), \n",
    "которая находится в пространстве имён (namespace) \"std\".\n",
    "Если не прописать данную строку, то функционал модуля iostream необходимо \n",
    "использовать с указанием области видимости функционала (std::some_functional).\n",
    "\n",
    "После данной строки весь конфликтующий функционал будет\n",
    "автоматически использоваться из пространства имён std.\n",
    "*/"
   ]
  },
  {
   "cell_type": "code",
   "execution_count": 2,
   "id": "ff03bf2b",
   "metadata": {},
   "outputs": [],
   "source": [
    "int main() {\n",
    "    // функция int main() - точка входа, именно из неё компилятор начинает выполнение программы.\n",
    "    /*\n",
    "    int - тип данных, который возвращает эта функция.\n",
    "    main - название функции.\n",
    "    () - здесь необходимо указать параметры, которые будут переданы в функцию,\n",
    "    если ничего не указано, то функция не принимает параметры.\n",
    "    {} - тело функции, её реализация. Здесь описывается алгоритм работы функции.\n",
    "    */\n",
    "    cout << \"Hello, world!\" << endl;\n",
    "    /*\n",
    "    cout << - оператор вывода чего-либо в терминалю.\n",
    "    \"Hello, world!\" - непосредственно то, что необходимо вывести в терминал.\n",
    "    endl - end line или же конец строки, символ новой строки (\\n).\n",
    "    \n",
    "    Если необходимо вывести несколько объектов, то cout следует использовать так:\n",
    "    cout << object1 << object2 << ... << objectN;\n",
    "    \n",
    "    endl, как и cout является частью iostream и, соответственно, \n",
    "    находится в пространстве имён std.\n",
    "    \n",
    "    Пример использования вывода без указания области видимости (без using namespace std;):\n",
    "    int main() {\n",
    "        std::cout << \"Hello, world!\" << std::endl;\n",
    "    }\n",
    "    */\n",
    "    return 0;\n",
    "    /*\n",
    "    Возвращаемое функцией значение.\n",
    "    Ключевое слово return обозначает выход из функции и возвращает какое-либо значение, \n",
    "    соответствующее типу функции.\n",
    "    */\n",
    "}"
   ]
  },
  {
   "cell_type": "markdown",
   "id": "a5c4e2e0",
   "metadata": {},
   "source": [
    "Интерпретатор C++ для Jupyter Notebook работает отлично от компилятора C++, поэтому здесь необходимо вызвать функцию, к тому же для интерпретатора нет точки входа в программу, поэтому int main() здесь не обязателен, но в \"нормальных условиях\" без функции входа ничего не будет выполняться."
   ]
  },
  {
   "cell_type": "code",
   "execution_count": 3,
   "id": "54d676e6",
   "metadata": {},
   "outputs": [
    {
     "name": "stdout",
     "output_type": "stream",
     "text": [
      "Hello, world!\n"
     ]
    }
   ],
   "source": [
    "main();"
   ]
  },
  {
   "cell_type": "markdown",
   "id": "e61d170e",
   "metadata": {},
   "source": [
    "Также в C++ все алгоритмы выполняются в функциях.\n",
    "Код вне функций (за исключением некоторых переменных, сообщений компилятору и т. д.) приведёт к ошибке!\n",
    "\n",
    "Например, компилятор такое не распознает:"
   ]
  },
  {
   "cell_type": "code",
   "execution_count": 4,
   "id": "9ca57816",
   "metadata": {},
   "outputs": [
    {
     "name": "stdout",
     "output_type": "stream",
     "text": [
      "Hello, I am C++ interpreter\n",
      "And I can do this!\n",
      "Hello, world!\n",
      "some_func call\n"
     ]
    }
   ],
   "source": [
    "void some_func() {\n",
    "    cout << \"some_func call\" << endl;\n",
    "} // void - \"тип пустоты\", данная функция ничего не возвращает\n",
    "\n",
    "cout << \"Hello, I am C++ interpreter\" << endl;\n",
    "\n",
    "cout << \"And I can do this!\" << endl;\n",
    "\n",
    "cout << \"Hello, world!\" << endl;\n",
    "\n",
    "some_func();"
   ]
  },
  {
   "cell_type": "markdown",
   "id": "7917ad8e",
   "metadata": {},
   "source": [
    "Правильное оформление:"
   ]
  },
  {
   "cell_type": "code",
   "execution_count": 5,
   "id": "cde3da3d",
   "metadata": {},
   "outputs": [],
   "source": [
    "void some_func() {\n",
    "    cout << \"some_func call\" << endl;\n",
    "}"
   ]
  },
  {
   "cell_type": "code",
   "execution_count": 6,
   "id": "8d92a525",
   "metadata": {},
   "outputs": [],
   "source": [
    "int main() {\n",
    "    cout << \"Hello, I am C++ interpreter\" << endl;\n",
    "\n",
    "    cout << \"And I can do this!\" << endl;\n",
    "\n",
    "    cout << \"Hello, world!\" << endl;\n",
    "    \n",
    "    some_func();\n",
    "}"
   ]
  },
  {
   "cell_type": "code",
   "execution_count": 7,
   "id": "ed2133ce",
   "metadata": {},
   "outputs": [
    {
     "name": "stdout",
     "output_type": "stream",
     "text": [
      "Hello, I am C++ interpreter\n",
      "And I can do this!\n",
      "Hello, world!\n",
      "some_func call\n"
     ]
    },
    {
     "data": {
      "text/plain": [
       "0"
      ]
     },
     "execution_count": 7,
     "metadata": {},
     "output_type": "execute_result"
    }
   ],
   "source": [
    "main()"
   ]
  },
  {
   "cell_type": "markdown",
   "id": "38c4c880",
   "metadata": {},
   "source": [
    "## Немного о переменных в C++"
   ]
  },
  {
   "cell_type": "markdown",
   "id": "ad5ec7e9",
   "metadata": {},
   "source": [
    "type var; - объявление переменной var типа type\n",
    "\n",
    "var = something; - присвоение переменной var значения something (something должен иметь тип type)\n",
    "\n",
    "type var = something; - одновременное объявление переменной и присваивание ей значения"
   ]
  },
  {
   "cell_type": "code",
   "execution_count": 8,
   "id": "5a1321b5",
   "metadata": {},
   "outputs": [],
   "source": [
    "int main() {\n",
    "    int some_var = 10; // int - целочисленный тип данных\n",
    "    cout << some_var << endl;\n",
    "}"
   ]
  },
  {
   "cell_type": "code",
   "execution_count": 9,
   "id": "9b01dd8e",
   "metadata": {},
   "outputs": [
    {
     "name": "stdout",
     "output_type": "stream",
     "text": [
      "10\n"
     ]
    },
    {
     "data": {
      "text/plain": [
       "0"
      ]
     },
     "execution_count": 9,
     "metadata": {},
     "output_type": "execute_result"
    }
   ],
   "source": [
    "main()"
   ]
  },
  {
   "cell_type": "code",
   "execution_count": null,
   "id": "5c817bfd",
   "metadata": {},
   "outputs": [],
   "source": []
  }
 ],
 "metadata": {
  "kernelspec": {
   "display_name": "C++14",
   "language": "C++14",
   "name": "xcpp14"
  },
  "language_info": {
   "codemirror_mode": "text/x-c++src",
   "file_extension": ".cpp",
   "mimetype": "text/x-c++src",
   "name": "c++",
   "version": "14"
  }
 },
 "nbformat": 4,
 "nbformat_minor": 5
}
