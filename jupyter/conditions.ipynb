{
 "cells": [
  {
   "cell_type": "markdown",
   "id": "16f7746c",
   "metadata": {},
   "source": [
    "## Условия в C++"
   ]
  },
  {
   "cell_type": "markdown",
   "id": "293fa394",
   "metadata": {},
   "source": [
    "### if else\n",
    "Синтаксис:\n",
    "\n",
    "```\n",
    "if (условие) {\n",
    "    алгоритм\n",
    "}\n",
    "```\n",
    "\n",
    "или \n",
    "\n",
    "```\n",
    "if (условие) {\n",
    "    алгоритм\n",
    "}\n",
    "else {\n",
    "    алгоритм\n",
    "}\n",
    "```\n",
    "\n",
    "или \n",
    "\n",
    "```\n",
    "if (условие) {\n",
    "    алгоритм\n",
    "}\n",
    "else if (условие) {\n",
    "    алгоритм\n",
    "}\n",
    "else if (условие) {\n",
    "    алгоритм\n",
    "}\n",
    "...\n",
    "else {\n",
    "    алгоритм\n",
    "}\n",
    "```\n",
    "\n",
    "Если алгоритм состоит из одной команды, то { } не обязательны."
   ]
  },
  {
   "cell_type": "code",
   "execution_count": 1,
   "id": "64be8f85",
   "metadata": {},
   "outputs": [],
   "source": [
    "#include <iostream>\n",
    "\n",
    "using namespace std;"
   ]
  },
  {
   "cell_type": "code",
   "execution_count": 2,
   "id": "5f9590d4",
   "metadata": {},
   "outputs": [
    {
     "name": "stdout",
     "output_type": "stream",
     "text": [
      "a < b\n"
     ]
    }
   ],
   "source": [
    "int a = 10;\n",
    "int b = 20;\n",
    "\n",
    "if (a < b) cout << \"a < b\";\n",
    "else {\n",
    "    cout << \"a > b\";\n",
    "    cout << \"or\";\n",
    "    cout << \"a == b\";\n",
    "}\n",
    "cout << endl;"
   ]
  },
  {
   "cell_type": "code",
   "execution_count": 3,
   "id": "8a6a7373",
   "metadata": {},
   "outputs": [
    {
     "name": "stdout",
     "output_type": "stream",
     "text": [
      "a = 10. Middle. \n"
     ]
    }
   ],
   "source": [
    "int x = 10;\n",
    "\n",
    "cout << \"a = \";\n",
    "if (x == 1) cout << \"1. Low. \";\n",
    "else if (x == 10) {\n",
    "    cout << \"10. \";\n",
    "    cout << \"Middle. \";\n",
    "}\n",
    "else cout << \"100. High. \";\n",
    "cout << endl;"
   ]
  },
  {
   "cell_type": "markdown",
   "id": "5522200d",
   "metadata": {},
   "source": [
    "### switch case\n",
    "Синтаксис:\n",
    "\n",
    "```\n",
    "switch (переменная) {\n",
    "    case вариант1:\n",
    "        алгоритм\n",
    "    case вариант2:\n",
    "        алгоритм\n",
    "    case вариант3:\n",
    "    case вариант4:\n",
    "    ...\n",
    "        алгоритм\n",
    "}\n",
    "```\n",
    "\n",
    "В конце алгоритма case необходимо ставить ключевое слово break, если продолжение выполнения switch не нужно.\n",
    "\n",
    "Также можно указать стандартное выполнение switch:\n",
    "\n",
    "```\n",
    "switch (переменная) {\n",
    "    case вариант:\n",
    "        алгоритм\n",
    "    ...\n",
    "    default:\n",
    "        алгоритм\n",
    "}\n",
    "```"
   ]
  },
  {
   "cell_type": "code",
   "execution_count": 4,
   "id": "3ae36a1b",
   "metadata": {},
   "outputs": [
    {
     "name": "stdout",
     "output_type": "stream",
     "text": [
      "Too high.\n",
      "Print if standart or too high!\n"
     ]
    }
   ],
   "source": [
    "int x = 100;\n",
    "\n",
    "switch (x) {\n",
    "    case 1:\n",
    "        cout << 1 << endl;\n",
    "        break;\n",
    "    case 10:\n",
    "        cout << 10 << endl;\n",
    "        break;\n",
    "    case 100:\n",
    "    case 1000:\n",
    "        cout << \"Too high.\" << endl;\n",
    "    default:\n",
    "        cout << \"Print if standart or too high!\" << endl;\n",
    "}"
   ]
  }
 ],
 "metadata": {
  "kernelspec": {
   "display_name": "C++14",
   "language": "C++14",
   "name": "xcpp14"
  },
  "language_info": {
   "codemirror_mode": "text/x-c++src",
   "file_extension": ".cpp",
   "mimetype": "text/x-c++src",
   "name": "c++",
   "version": "14"
  }
 },
 "nbformat": 4,
 "nbformat_minor": 5
}
