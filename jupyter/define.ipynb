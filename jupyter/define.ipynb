{
 "cells": [
  {
   "cell_type": "markdown",
   "id": "a1ebde24",
   "metadata": {},
   "source": [
    "# Макросы в C++"
   ]
  },
  {
   "cell_type": "markdown",
   "id": "1ca6e7f1",
   "metadata": {},
   "source": [
    "С помощью директивы #define в C++ можно создавать макросы.\n",
    "\n",
    "Объявление макросы выглядит так:"
   ]
  },
  {
   "cell_type": "code",
   "execution_count": 1,
   "id": "6f597781",
   "metadata": {},
   "outputs": [],
   "source": [
    "#define macros expression"
   ]
  },
  {
   "cell_type": "markdown",
   "id": "1b02053e",
   "metadata": {},
   "source": [
    "После создания макроса компилятор при работе будет заменять все выражения macros на expression."
   ]
  },
  {
   "cell_type": "code",
   "execution_count": 2,
   "id": "43b42e31",
   "metadata": {},
   "outputs": [],
   "source": [
    "#include <iostream>\n",
    "using namespace std;"
   ]
  },
  {
   "cell_type": "code",
   "execution_count": 3,
   "id": "bf9c0279",
   "metadata": {},
   "outputs": [],
   "source": [
    "#define hello_world \"Hello, world!\""
   ]
  },
  {
   "cell_type": "code",
   "execution_count": 4,
   "id": "be98f588",
   "metadata": {},
   "outputs": [
    {
     "name": "stdout",
     "output_type": "stream",
     "text": [
      "Hello, world!\n"
     ]
    }
   ],
   "source": [
    "cout << hello_world << endl; // преобразуется в cout << \"Hello, world!\" << endl;"
   ]
  },
  {
   "cell_type": "code",
   "execution_count": 5,
   "id": "04736702",
   "metadata": {},
   "outputs": [],
   "source": [
    "#define INF_INT (1 << 30) // олимпиадный макрос"
   ]
  },
  {
   "cell_type": "code",
   "execution_count": 6,
   "id": "d90572d2",
   "metadata": {},
   "outputs": [
    {
     "name": "stdout",
     "output_type": "stream",
     "text": [
      "1073741824\n"
     ]
    }
   ],
   "source": [
    "cout << INF_INT << endl;"
   ]
  },
  {
   "cell_type": "code",
   "execution_count": 7,
   "id": "de63fdd2",
   "metadata": {},
   "outputs": [
    {
     "name": "stdout",
     "output_type": "stream",
     "text": [
      "1 1\n"
     ]
    }
   ],
   "source": [
    "cout << (1 < INF_INT) << \" \" << (1203 < INF_INT) << endl;"
   ]
  },
  {
   "cell_type": "markdown",
   "id": "b215b50c",
   "metadata": {},
   "source": [
    "Также можно создавать \"макросы-функции\"."
   ]
  },
  {
   "cell_type": "code",
   "execution_count": 8,
   "id": "554193dc",
   "metadata": {},
   "outputs": [],
   "source": [
    "#define MAX(a, b) a > b ? a : b\n",
    "#define MIN(a, b) a < b ? a : b"
   ]
  },
  {
   "cell_type": "code",
   "execution_count": 9,
   "id": "839589ea",
   "metadata": {},
   "outputs": [
    {
     "name": "stdout",
     "output_type": "stream",
     "text": [
      "2 5\n"
     ]
    }
   ],
   "source": [
    "cout << (MAX(1, 2)) << \" \" << (MIN(5, 10)) << endl;"
   ]
  },
  {
   "cell_type": "markdown",
   "id": "0a7e4dd1",
   "metadata": {},
   "source": [
    "Можно делать более сложные макросы."
   ]
  },
  {
   "cell_type": "code",
   "execution_count": 10,
   "id": "8210d865",
   "metadata": {},
   "outputs": [],
   "source": [
    "#define KeyValuePrint(key, value) key << \" = \" << value"
   ]
  },
  {
   "cell_type": "code",
   "execution_count": 11,
   "id": "7df9005e",
   "metadata": {},
   "outputs": [
    {
     "name": "stdout",
     "output_type": "stream",
     "text": [
      "x = 10"
     ]
    }
   ],
   "source": [
    "int x = 10;\n",
    "cout << KeyValuePrint(\"x\", x);"
   ]
  },
  {
   "cell_type": "code",
   "execution_count": 12,
   "id": "b2a72f24",
   "metadata": {},
   "outputs": [
    {
     "name": "stdout",
     "output_type": "stream",
     "text": [
      "x = 10!\n"
     ]
    }
   ],
   "source": [
    "cout << KeyValuePrint(\"x\", x) << '!' << endl;"
   ]
  },
  {
   "cell_type": "code",
   "execution_count": 13,
   "id": "54592c8a",
   "metadata": {},
   "outputs": [
    {
     "name": "stdout",
     "output_type": "stream",
     "text": [
      "Hello, x = 10!\n"
     ]
    }
   ],
   "source": [
    "cout << \"Hello, \" << KeyValuePrint(\"x\", x) << '!' << endl;"
   ]
  },
  {
   "cell_type": "markdown",
   "id": "c577210b",
   "metadata": {},
   "source": [
    "Многострочные макросы."
   ]
  },
  {
   "cell_type": "code",
   "execution_count": 14,
   "id": "40318878",
   "metadata": {},
   "outputs": [],
   "source": [
    "#define SUM_AND_LOG(a, b) \\\n",
    "cout << #a << \" = \" << (a) << \", \";\\\n",
    "cout << #b << \" = \" << (b) << \", \";\\\n",
    "cout << #a << \" + \" << #b << \" = \" << (a) + (b);"
   ]
  },
  {
   "cell_type": "code",
   "execution_count": 15,
   "id": "f7a6a4e5",
   "metadata": {},
   "outputs": [
    {
     "name": "stdout",
     "output_type": "stream",
     "text": [
      "x = 10, y = 20, x + y = 30"
     ]
    },
    {
     "data": {
      "text/plain": [
       "@0x7f37af553ba0"
      ]
     },
     "execution_count": 15,
     "metadata": {},
     "output_type": "execute_result"
    }
   ],
   "source": [
    "int x = 10, y = 20;\n",
    "SUM_AND_LOG(x, y)"
   ]
  },
  {
   "cell_type": "code",
   "execution_count": 16,
   "id": "b73627ac",
   "metadata": {},
   "outputs": [],
   "source": [
    "#define LOG_OPERATION(a, b, OPERATOR) \\\n",
    "cout << #a << \" = \" << (a) << \", \";\\\n",
    "cout << #b << \" = \" << (b) << \", \";\\\n",
    "cout << #a << ' ' << #OPERATOR << ' ' << #b << \" = \" << (a) OPERATOR (b);"
   ]
  },
  {
   "cell_type": "code",
   "execution_count": 17,
   "id": "1276e276",
   "metadata": {
    "scrolled": true
   },
   "outputs": [
    {
     "name": "stdout",
     "output_type": "stream",
     "text": [
      "10 = 10, 20 = 20, 10 + 20 = 30"
     ]
    },
    {
     "data": {
      "text/plain": [
       "@0x7f37af553ba0"
      ]
     },
     "execution_count": 17,
     "metadata": {},
     "output_type": "execute_result"
    }
   ],
   "source": [
    "LOG_OPERATION(10, 20, +)"
   ]
  },
  {
   "cell_type": "code",
   "execution_count": 18,
   "id": "281c0828",
   "metadata": {},
   "outputs": [
    {
     "name": "stdout",
     "output_type": "stream",
     "text": [
      "10 = 10, 20 = 20, 10 - 20 = -10"
     ]
    },
    {
     "data": {
      "text/plain": [
       "@0x7f37af553ba0"
      ]
     },
     "execution_count": 18,
     "metadata": {},
     "output_type": "execute_result"
    }
   ],
   "source": [
    "LOG_OPERATION(10, 20, -)"
   ]
  },
  {
   "cell_type": "markdown",
   "id": "aee14c76",
   "metadata": {},
   "source": [
    "## Оператор \\#"
   ]
  },
  {
   "cell_type": "markdown",
   "id": "ab0d5f8c",
   "metadata": {},
   "source": [
    "Данный оператор объект как текст."
   ]
  },
  {
   "cell_type": "code",
   "execution_count": 19,
   "id": "9146acb0",
   "metadata": {},
   "outputs": [],
   "source": [
    "#define KVPrint(x) #x << \" = \" << x"
   ]
  },
  {
   "cell_type": "code",
   "execution_count": 20,
   "id": "22c29192",
   "metadata": {},
   "outputs": [
    {
     "name": "stdout",
     "output_type": "stream",
     "text": [
      "x = 10\n"
     ]
    }
   ],
   "source": [
    "cout << KVPrint(x) << endl;"
   ]
  },
  {
   "cell_type": "code",
   "execution_count": 21,
   "id": "4e51b920",
   "metadata": {},
   "outputs": [],
   "source": [
    "int y = 20, z = 30;"
   ]
  },
  {
   "cell_type": "code",
   "execution_count": 22,
   "id": "64a43e8b",
   "metadata": {},
   "outputs": [
    {
     "name": "stdout",
     "output_type": "stream",
     "text": [
      "x = 10, y = 20, z = 30\n"
     ]
    }
   ],
   "source": [
    "cout << KVPrint(x) << \", \" << KVPrint(y) << \", \" << KVPrint(z) << endl;"
   ]
  },
  {
   "cell_type": "markdown",
   "id": "a20ac35a",
   "metadata": {},
   "source": [
    "## Макрос \\_\\_FILE__"
   ]
  },
  {
   "cell_type": "markdown",
   "id": "68272c60",
   "metadata": {},
   "source": [
    "Данный макрос возвращает путь от корневой директории до текущего файла."
   ]
  },
  {
   "cell_type": "code",
   "execution_count": 23,
   "id": "9858b3c1",
   "metadata": {},
   "outputs": [],
   "source": [
    "const char *this_file = __FILE__;"
   ]
  },
  {
   "cell_type": "code",
   "execution_count": 24,
   "id": "187e155d",
   "metadata": {
    "scrolled": true
   },
   "outputs": [
    {
     "name": "stdout",
     "output_type": "stream",
     "text": [
      "input_line_35\n"
     ]
    },
    {
     "data": {
      "text/plain": [
       "@0x7f37af553ba0"
      ]
     },
     "execution_count": 24,
     "metadata": {},
     "output_type": "execute_result"
    }
   ],
   "source": [
    "cout << this_file << endl;\n",
    "// смотреть в нормальном C++"
   ]
  },
  {
   "cell_type": "markdown",
   "id": "c9aa8115",
   "metadata": {},
   "source": [
    "## Макрос \\_\\_LINE__"
   ]
  },
  {
   "cell_type": "markdown",
   "id": "60df19cd",
   "metadata": {},
   "source": [
    "Данный макрос возвращает номер строки в файле, в которой он был вызван."
   ]
  },
  {
   "cell_type": "code",
   "execution_count": 25,
   "id": "dc4fa1a7",
   "metadata": {},
   "outputs": [],
   "source": [
    "int line = __LINE__;"
   ]
  },
  {
   "cell_type": "code",
   "execution_count": 26,
   "id": "4ab6489c",
   "metadata": {},
   "outputs": [
    {
     "name": "stdout",
     "output_type": "stream",
     "text": [
      "2\n"
     ]
    },
    {
     "data": {
      "text/plain": [
       "@0x7f37af553ba0"
      ]
     },
     "execution_count": 26,
     "metadata": {},
     "output_type": "execute_result"
    }
   ],
   "source": [
    "cout << line << endl;\n",
    "// смотреть в нормальном C++"
   ]
  },
  {
   "cell_type": "markdown",
   "id": "2d11b77f",
   "metadata": {},
   "source": [
    "## Почему макросы - зло?"
   ]
  },
  {
   "cell_type": "code",
   "execution_count": 27,
   "id": "e6524d43",
   "metadata": {},
   "outputs": [],
   "source": [
    "#define MAX(a, b) a > b ? a : b"
   ]
  },
  {
   "cell_type": "code",
   "execution_count": 28,
   "id": "4dcdba9e",
   "metadata": {},
   "outputs": [],
   "source": [
    "int a = 10, b = 20;"
   ]
  },
  {
   "cell_type": "code",
   "execution_count": 29,
   "id": "2a6b3398",
   "metadata": {},
   "outputs": [],
   "source": [
    "int max_num = MAX(a, b);"
   ]
  },
  {
   "cell_type": "code",
   "execution_count": 30,
   "id": "fb50117f",
   "metadata": {},
   "outputs": [
    {
     "name": "stdout",
     "output_type": "stream",
     "text": [
      "20"
     ]
    }
   ],
   "source": [
    "cout << max_num;"
   ]
  },
  {
   "cell_type": "markdown",
   "id": "06872c43",
   "metadata": {},
   "source": [
    "Всё работает правильно, но что будет, если передать b++?"
   ]
  },
  {
   "cell_type": "code",
   "execution_count": 31,
   "id": "9a78b171",
   "metadata": {},
   "outputs": [],
   "source": [
    "int max_num = MAX(a, b++);"
   ]
  },
  {
   "cell_type": "code",
   "execution_count": 32,
   "id": "2ef070bc",
   "metadata": {},
   "outputs": [
    {
     "name": "stdout",
     "output_type": "stream",
     "text": [
      "21"
     ]
    }
   ],
   "source": [
    "cout << max_num;"
   ]
  },
  {
   "cell_type": "markdown",
   "id": "3192a68b",
   "metadata": {},
   "source": [
    "И снова всё работает верно, но посмотрим на переменные a и b:"
   ]
  },
  {
   "cell_type": "code",
   "execution_count": 33,
   "id": "7fbe942a",
   "metadata": {},
   "outputs": [
    {
     "name": "stdout",
     "output_type": "stream",
     "text": [
      "10 22"
     ]
    }
   ],
   "source": [
    "printf(\"%d %d\", a, b);"
   ]
  },
  {
   "cell_type": "markdown",
   "id": "f1568f9e",
   "metadata": {},
   "source": [
    "b == 22! Но b++ должен был дать 21. Почему 22?"
   ]
  },
  {
   "cell_type": "markdown",
   "id": "0939f8d2",
   "metadata": {},
   "source": [
    "На самом деле макрос MAX(a, b) преобразуется в выражение a > b ? a : b, \n",
    "причём a и b не переменные, а какой-либо текст.\n",
    "\n",
    "Соответственно, выражение MAX(a, b++) преобразуется не в a > b ? a : b.\n",
    "Оно преобразуется в a > b++ ? a : b++.\n",
    "И тогда b++ вызывается 2 раза.\n",
    "Но т. к. используется постинкремент, то данный оператор увеличивает значение b на 1, а возвращает предыдущее значение b, поэтому результат выполнения макроса оказался верным, но его выполнение может привести к труднонаходимым ошибкам."
   ]
  },
  {
   "cell_type": "markdown",
   "id": "16bb0f66",
   "metadata": {},
   "source": [
    "**Как исправить?** -Использовать функцию."
   ]
  },
  {
   "cell_type": "code",
   "execution_count": 34,
   "id": "0d018bc9",
   "metadata": {},
   "outputs": [],
   "source": [
    "template<typename T>\n",
    "T max(T a, T b) { return a > b ? a : b; }"
   ]
  },
  {
   "cell_type": "markdown",
   "id": "695c048c",
   "metadata": {},
   "source": [
    "Данная функция будет работать корректно, т. к. сначала будет вычислены аргументы a и b, \n",
    "а только после этого начнётся выполнение функции."
   ]
  },
  {
   "cell_type": "markdown",
   "id": "33daea50",
   "metadata": {},
   "source": [
    "Также в \"макросах-функциях\" с аргументами желательно использовать скобки в выражении при действиях с аргументами."
   ]
  },
  {
   "cell_type": "code",
   "execution_count": 35,
   "id": "b86a3087",
   "metadata": {},
   "outputs": [],
   "source": [
    "#define LOG(expression) cout << expression << endl;"
   ]
  },
  {
   "cell_type": "code",
   "execution_count": 36,
   "id": "dc6a21e7",
   "metadata": {},
   "outputs": [
    {
     "name": "stdout",
     "output_type": "stream",
     "text": [
      "10\n"
     ]
    },
    {
     "data": {
      "text/plain": [
       "@0x7f37af553ba0"
      ]
     },
     "execution_count": 36,
     "metadata": {},
     "output_type": "execute_result"
    }
   ],
   "source": [
    "LOG(10); //  OK"
   ]
  },
  {
   "cell_type": "code",
   "execution_count": 37,
   "id": "9d40ea23",
   "metadata": {},
   "outputs": [
    {
     "name": "stdout",
     "output_type": "stream",
     "text": [
      "123.456\n"
     ]
    },
    {
     "data": {
      "text/plain": [
       "@0x7f37af553ba0"
      ]
     },
     "execution_count": 37,
     "metadata": {},
     "output_type": "execute_result"
    }
   ],
   "source": [
    "LOG(123.456); // OK"
   ]
  },
  {
   "cell_type": "code",
   "execution_count": 38,
   "id": "2747a8b1",
   "metadata": {},
   "outputs": [
    {
     "name": "stdout",
     "output_type": "stream",
     "text": [
      "14\n"
     ]
    },
    {
     "data": {
      "text/plain": [
       "@0x7f37af553ba0"
      ]
     },
     "execution_count": 38,
     "metadata": {},
     "output_type": "execute_result"
    }
   ],
   "source": [
    "LOG(1 << 4); // ? 1 << 4 == 16"
   ]
  },
  {
   "cell_type": "markdown",
   "id": "4bd23388",
   "metadata": {},
   "source": [
    "Компилятор подставил \"1 << 4\" в выражение \"cout << expression << endl;\".\n",
    "Итог: \"cout << 1 << 4 << endl;\".\n",
    "\n",
    "Здесь оператор битового сдвига влево был распознан компилятором, \n",
    "как оператор << объекта ostream для двух целых чисел,\n",
    "поэтому результатом является вывод 1 и 4, а не числа 14."
   ]
  },
  {
   "cell_type": "markdown",
   "id": "588a0e89",
   "metadata": {},
   "source": [
    "Чтобы решить данную проблему, нужно заключить expression в скобки:"
   ]
  },
  {
   "cell_type": "code",
   "execution_count": 39,
   "id": "13ca6feb",
   "metadata": {},
   "outputs": [],
   "source": [
    "#define LOG_FIXED(expression) cout << (expression) << endl;"
   ]
  },
  {
   "cell_type": "code",
   "execution_count": 40,
   "id": "8bc5412c",
   "metadata": {},
   "outputs": [
    {
     "name": "stdout",
     "output_type": "stream",
     "text": [
      "10\n"
     ]
    },
    {
     "data": {
      "text/plain": [
       "@0x7f37af553ba0"
      ]
     },
     "execution_count": 40,
     "metadata": {},
     "output_type": "execute_result"
    }
   ],
   "source": [
    "LOG_FIXED(10); // OK"
   ]
  },
  {
   "cell_type": "code",
   "execution_count": 41,
   "id": "449a89cb",
   "metadata": {},
   "outputs": [
    {
     "name": "stdout",
     "output_type": "stream",
     "text": [
      "123.456\n"
     ]
    },
    {
     "data": {
      "text/plain": [
       "@0x7f37af553ba0"
      ]
     },
     "execution_count": 41,
     "metadata": {},
     "output_type": "execute_result"
    }
   ],
   "source": [
    "LOG_FIXED(123.456); // OK"
   ]
  },
  {
   "cell_type": "code",
   "execution_count": 42,
   "id": "84d6bc04",
   "metadata": {},
   "outputs": [
    {
     "name": "stdout",
     "output_type": "stream",
     "text": [
      "16\n"
     ]
    },
    {
     "data": {
      "text/plain": [
       "@0x7f37af553ba0"
      ]
     },
     "execution_count": 42,
     "metadata": {},
     "output_type": "execute_result"
    }
   ],
   "source": [
    "LOG_FIXED(1 << 4); // OK"
   ]
  },
  {
   "cell_type": "markdown",
   "id": "6608fb83",
   "metadata": {},
   "source": [
    "## Итог"
   ]
  },
  {
   "cell_type": "markdown",
   "id": "0bcb1502",
   "metadata": {},
   "source": [
    "Если есть возможность не использовать макрос, то ей надо воспользоваться."
   ]
  }
 ],
 "metadata": {
  "kernelspec": {
   "display_name": "C++14",
   "language": "C++14",
   "name": "xcpp14"
  },
  "language_info": {
   "codemirror_mode": "text/x-c++src",
   "file_extension": ".cpp",
   "mimetype": "text/x-c++src",
   "name": "c++",
   "version": "14"
  }
 },
 "nbformat": 4,
 "nbformat_minor": 5
}
