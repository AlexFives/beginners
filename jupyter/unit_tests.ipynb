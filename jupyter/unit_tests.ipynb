{
 "cells": [
  {
   "cell_type": "markdown",
   "id": "b1387bb7",
   "metadata": {},
   "source": [
    "# Тестирование в C++"
   ]
  },
  {
   "cell_type": "code",
   "execution_count": 71,
   "id": "49237f35",
   "metadata": {},
   "outputs": [],
   "source": [
    "#include <iostream>\n",
    "\n",
    "using namespace std;"
   ]
  },
  {
   "cell_type": "markdown",
   "id": "2d6331e8",
   "metadata": {},
   "source": [
    "Unit-тестирование позволяет проверить на корректность выполнения определённые части программного продукта."
   ]
  },
  {
   "cell_type": "markdown",
   "id": "e84076a4",
   "metadata": {},
   "source": [
    "Здесь мы будем тестировать одну простую функцию:"
   ]
  },
  {
   "cell_type": "code",
   "execution_count": 72,
   "id": "353d5bfb",
   "metadata": {},
   "outputs": [],
   "source": [
    "int int_sum(int a, int b) {\n",
    "    return a + b;\n",
    "}"
   ]
  },
  {
   "cell_type": "markdown",
   "id": "f26b7425",
   "metadata": {},
   "source": [
    "## I. Банальный способ"
   ]
  },
  {
   "cell_type": "code",
   "execution_count": 73,
   "id": "edf0a1ce",
   "metadata": {},
   "outputs": [],
   "source": [
    "void banal_test(int a, int b, int result) {\n",
    "    int res = int_sum(a, b);\n",
    "    if (res != result) cout << \"BAD (int_sum): \" << result << \" != \" << res << \"; a = \" << a << \", b = \" << b << endl;\n",
    "}"
   ]
  },
  {
   "cell_type": "code",
   "execution_count": 74,
   "id": "007ba970",
   "metadata": {},
   "outputs": [
    {
     "name": "stdout",
     "output_type": "stream",
     "text": [
      "BAD (int_sum): 0 != 30; a = 10, b = 20\n"
     ]
    }
   ],
   "source": [
    "banal_test(10, 20, 30);\n",
    "banal_test(10, 20, 0);"
   ]
  },
  {
   "cell_type": "markdown",
   "id": "8399680c",
   "metadata": {},
   "source": [
    "### Минусы данного способа:"
   ]
  },
  {
   "cell_type": "markdown",
   "id": "665a5c27",
   "metadata": {},
   "source": [
    "1) Необходимо писать новую функцию тестирования для другого компоненты программы;\n",
    "\n",
    "2) Необходимо переписывать функцию при изменении объекта тестирования;\n",
    "\n",
    "3) Вывод в тот же поток ostream;"
   ]
  },
  {
   "cell_type": "markdown",
   "id": "0aef92e1",
   "metadata": {},
   "source": [
    "## II. Использование шаблонов"
   ]
  },
  {
   "cell_type": "code",
   "execution_count": 75,
   "id": "cab39271",
   "metadata": {},
   "outputs": [],
   "source": [
    "template<typename RES>\n",
    "void template_test(RES correct, RES func_result) {\n",
    "    if (correct != func_result)\n",
    "        cout << \"BAD: \" << correct << \" != \" << func_result << endl;\n",
    "    else cout << \"OK!\" << endl;\n",
    "}"
   ]
  },
  {
   "cell_type": "code",
   "execution_count": 76,
   "id": "4587fc73",
   "metadata": {},
   "outputs": [
    {
     "name": "stdout",
     "output_type": "stream",
     "text": [
      "OK!\n",
      "BAD: 0 != 30\n"
     ]
    }
   ],
   "source": [
    "template_test(30, int_sum(10, 20));\n",
    "template_test(0, int_sum(10, 20));"
   ]
  },
  {
   "cell_type": "markdown",
   "id": "7d27e97a",
   "metadata": {},
   "source": [
    "### Минусы данного способа:"
   ]
  },
  {
   "cell_type": "markdown",
   "id": "b444562a",
   "metadata": {},
   "source": [
    "1) Если функция принимает много параметров, то испортится красота кода;\n",
    "\n",
    "2) Не самый информативный вывод;\n",
    "\n",
    "3) Вывод также осуществляется в один поток ostream, вместе с программой;"
   ]
  },
  {
   "cell_type": "markdown",
   "id": "a5902202",
   "metadata": {},
   "source": [
    "### Плюсы данного способа:"
   ]
  },
  {
   "cell_type": "markdown",
   "id": "7fd09a31",
   "metadata": {},
   "source": [
    "1) Универсален (не нужно переписывать функцию тестирования)"
   ]
  },
  {
   "cell_type": "markdown",
   "id": "28919e9a",
   "metadata": {},
   "source": [
    "Исправим вывод результатов тестов. Будем использовать другой поток вывода ostream.\n",
    "\n",
    "Для этого импортируем библиотеку **stringstream** для вывода информации в данный поток и\n",
    "создадим глобальную переменную для вывода."
   ]
  },
  {
   "cell_type": "code",
   "execution_count": 77,
   "id": "a21dfee5",
   "metadata": {},
   "outputs": [],
   "source": [
    "#include <sstream>\n",
    "\n",
    "ostringstream tests_output;"
   ]
  },
  {
   "cell_type": "code",
   "execution_count": 78,
   "id": "56bc5a00",
   "metadata": {},
   "outputs": [],
   "source": [
    "template<typename RES>\n",
    "void template_test(RES correct, RES func_result) {\n",
    "    if (correct != func_result)\n",
    "        tests_output << \"BAD: \" << correct << \" != \" << func_result << '\\n';\n",
    "    else tests_output << \"OK!\\n\";\n",
    "}"
   ]
  },
  {
   "cell_type": "code",
   "execution_count": 79,
   "id": "7d41ee70",
   "metadata": {},
   "outputs": [],
   "source": [
    "template_test(10, int_sum(5, 5));\n",
    "template_test(20, int_sum(5, 5));"
   ]
  },
  {
   "cell_type": "markdown",
   "id": "9a9de71e",
   "metadata": {},
   "source": [
    "Тогда вывод результатов тестов можно сделать в любое удобное для нас время."
   ]
  },
  {
   "cell_type": "code",
   "execution_count": 80,
   "id": "d047f8b7",
   "metadata": {},
   "outputs": [
    {
     "name": "stdout",
     "output_type": "stream",
     "text": [
      "OK!\n",
      "BAD: 20 != 10\n",
      "\n"
     ]
    }
   ],
   "source": [
    "cout << tests_output.str() << endl;"
   ]
  },
  {
   "cell_type": "markdown",
   "id": "c8148a56",
   "metadata": {},
   "source": [
    "Оформим вывод результатов тестов в функцию."
   ]
  },
  {
   "cell_type": "code",
   "execution_count": 81,
   "id": "13dd0c5e",
   "metadata": {},
   "outputs": [],
   "source": [
    "void print_tests_result() {\n",
    "    cout << tests_output.str() << endl;\n",
    "}"
   ]
  },
  {
   "cell_type": "code",
   "execution_count": 82,
   "id": "0cb2f213",
   "metadata": {},
   "outputs": [
    {
     "name": "stdout",
     "output_type": "stream",
     "text": [
      "OK!\n",
      "BAD: 20 != 10\n",
      "\n"
     ]
    }
   ],
   "source": [
    "print_tests_result();"
   ]
  },
  {
   "cell_type": "markdown",
   "id": "7536e4db",
   "metadata": {},
   "source": [
    "Сделаем вывод функции информативнее."
   ]
  },
  {
   "cell_type": "markdown",
   "id": "d5fe0ce9",
   "metadata": {},
   "source": [
    "Можно передавать id в функцию в качестве аргумента, \n",
    "но добавление лишних параметров только усложнит код, поэтому\n",
    "сделаем автоматическую инкрементацию аргумента id."
   ]
  },
  {
   "cell_type": "code",
   "execution_count": 91,
   "id": "9bce6f31",
   "metadata": {},
   "outputs": [],
   "source": [
    "tests_output.str(\"\");\n",
    "tests_output.clear();\n",
    "// т. к. используем один поток вывода, но при разных реализациях тестов,\n",
    "// то очистим поток вывода"
   ]
  },
  {
   "cell_type": "code",
   "execution_count": 92,
   "id": "9ada60b6",
   "metadata": {},
   "outputs": [],
   "source": [
    "template<typename RES>\n",
    "void template_test(RES correct, RES func_result) {\n",
    "    static int test_id = 0;\n",
    "    test_id++;\n",
    "    if (correct != func_result)\n",
    "        tests_output << test_id << \" BAD: \" << correct << \" != \" << func_result << '\\n';\n",
    "    else tests_output << test_id << \" OK!\\n\";\n",
    "}"
   ]
  },
  {
   "cell_type": "code",
   "execution_count": 93,
   "id": "0f642464",
   "metadata": {},
   "outputs": [],
   "source": [
    "template_test(10, int_sum(5, 5));\n",
    "template_test(20, int_sum(5, 5));"
   ]
  },
  {
   "cell_type": "code",
   "execution_count": 94,
   "id": "3893b788",
   "metadata": {},
   "outputs": [
    {
     "name": "stdout",
     "output_type": "stream",
     "text": [
      "1 OK!\n",
      "2 BAD: 20 != 10\n",
      "\n"
     ]
    }
   ],
   "source": [
    "print_tests_result();"
   ]
  },
  {
   "cell_type": "markdown",
   "id": "6cd2233e",
   "metadata": {},
   "source": [
    "## III. Шаблоны с передачей параметров"
   ]
  },
  {
   "cell_type": "code",
   "execution_count": 100,
   "id": "856ff3be",
   "metadata": {},
   "outputs": [],
   "source": [
    "#include <tuple>\n",
    "#include <utility>"
   ]
  },
  {
   "cell_type": "code",
   "execution_count": 101,
   "id": "1e83c286",
   "metadata": {},
   "outputs": [],
   "source": [
    "tests_output.str(\"\");\n",
    "tests_output.clear();"
   ]
  },
  {
   "cell_type": "code",
   "execution_count": 111,
   "id": "201e041f",
   "metadata": {},
   "outputs": [],
   "source": [
    "template<typename CORRECT, typename FUNC, typename ...ARGS>\n",
    "void test_unpacking(CORRECT correct, FUNC func, ARGS... args) {\n",
    "    static int test_id = 0;\n",
    "    test_id++;\n",
    "    auto func_args = make_tuple(args...);\n",
    "    CORRECT result = apply(func, func_args); // C++17+ only\n",
    "    if (result != correct)\n",
    "        tests_output << test_id << \" BAD: \" << correct << \" != \" << result << '\\n';\n",
    "    else tests_output << test_id << \" OK!\\n\";\n",
    "}"
   ]
  },
  {
   "cell_type": "code",
   "execution_count": 112,
   "id": "b683dc1f",
   "metadata": {},
   "outputs": [],
   "source": [
    "test_unpacking(20, int_sum, 10, 10);"
   ]
  },
  {
   "cell_type": "code",
   "execution_count": null,
   "id": "6f9ff0c1",
   "metadata": {},
   "outputs": [],
   "source": []
  }
 ],
 "metadata": {
  "kernelspec": {
   "display_name": "C++14",
   "language": "C++14",
   "name": "xcpp14"
  },
  "language_info": {
   "codemirror_mode": "text/x-c++src",
   "file_extension": ".cpp",
   "mimetype": "text/x-c++src",
   "name": "c++",
   "version": "14"
  }
 },
 "nbformat": 4,
 "nbformat_minor": 5
}
