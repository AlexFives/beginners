{
 "cells": [
  {
   "cell_type": "markdown",
   "id": "bfc3d12f",
   "metadata": {},
   "source": [
    "# Функции в C++"
   ]
  },
  {
   "cell_type": "code",
   "execution_count": 1,
   "id": "488ed5ce",
   "metadata": {},
   "outputs": [],
   "source": [
    "#include <iostream>\n",
    "\n",
    "using namespace std;"
   ]
  },
  {
   "cell_type": "markdown",
   "id": "8211fb50",
   "metadata": {},
   "source": [
    "Функция (подпрограмма) -- фрагмент программного кода, к которому можно обратиться из другого места программы."
   ]
  },
  {
   "cell_type": "markdown",
   "id": "123e4fba",
   "metadata": {},
   "source": [
    "### Синтаксис:\n",
    "\n",
    "    [тип, возвращаемый функцией] [название функции]([тип аргумента] [имя аргумента]...) {\n",
    "        тело функции\n",
    "    }\n",
    "\n",
    "Если функция является процедурой (ничего не возвращает), то следует указать void, как возвращаемый ей тип.\n",
    "\n",
    "Если функция не принимает аргументы, то их не нужно указывать.\n",
    "\n",
    "Если функция имеет несколько аргументов, то они перечисляются через запятую."
   ]
  },
  {
   "cell_type": "markdown",
   "id": "0bad6b8c",
   "metadata": {},
   "source": [
    "Функцию можно сначала объявить, а после реализовать:"
   ]
  },
  {
   "cell_type": "code",
   "execution_count": 2,
   "id": "de156d00",
   "metadata": {},
   "outputs": [],
   "source": [
    "void print_Hello_world();"
   ]
  },
  {
   "cell_type": "code",
   "execution_count": 3,
   "id": "413127a4",
   "metadata": {},
   "outputs": [],
   "source": [
    "void print_Hello_world() {\n",
    "    cout << \"Hello, world!\" << endl;\n",
    "}"
   ]
  },
  {
   "cell_type": "code",
   "execution_count": 4,
   "id": "4fb60d55",
   "metadata": {},
   "outputs": [
    {
     "name": "stdout",
     "output_type": "stream",
     "text": [
      "Hello, world!\n"
     ]
    }
   ],
   "source": [
    "print_Hello_world()"
   ]
  },
  {
   "cell_type": "markdown",
   "id": "5eba992f",
   "metadata": {},
   "source": [
    "## Ключевое слово return"
   ]
  },
  {
   "cell_type": "markdown",
   "id": "32ed4e30",
   "metadata": {},
   "source": [
    "Ключевое слово **return** используется для возвращения значений из функции. *return* осуществляет выход из функции."
   ]
  },
  {
   "cell_type": "markdown",
   "id": "1086c064",
   "metadata": {},
   "source": [
    "### Синтаксис:\n",
    "    [тип функции] [имя функции]([тип аргумента] [имя аргумента]...) {\n",
    "        тело функции\n",
    "        return [значение типа, который должна вернуть функция];\n",
    "    }\n",
    "\n",
    "##### Если функция является процедурой, то при использовании *return* значение не указывается:\n",
    "    void [имя функции]([тип аргумента] [имя аргумента]...) {\n",
    "        тело функции\n",
    "        return;\n",
    "    }\n",
    "В процедурах *return*, как правило, используется для выхода из функции, \n",
    "т. к. процедуре не обязательно возвращать что-либо (см. print_Hello_world()).\n",
    "\n",
    "Функции (не void) обязательно должны возвращать указанный тип данных."
   ]
  },
  {
   "cell_type": "code",
   "execution_count": 5,
   "id": "ca460bf2",
   "metadata": {},
   "outputs": [],
   "source": [
    "int fact(int n) { // функция, вычисляющая факториал заданного числа\n",
    "    if (n < 1) return 1;\n",
    "    int result = 1;\n",
    "    for (int i = 2; i <= n; i++) result *= i;\n",
    "    return result;\n",
    "}"
   ]
  },
  {
   "cell_type": "code",
   "execution_count": 6,
   "id": "48855e7e",
   "metadata": {},
   "outputs": [
    {
     "data": {
      "text/plain": [
       "120"
      ]
     },
     "execution_count": 6,
     "metadata": {},
     "output_type": "execute_result"
    }
   ],
   "source": [
    "fact(5)"
   ]
  },
  {
   "cell_type": "markdown",
   "id": "eca9d9bd",
   "metadata": {},
   "source": [
    "## Аргументы в функциях:"
   ]
  },
  {
   "cell_type": "markdown",
   "id": "c9777bca",
   "metadata": {},
   "source": [
    "Функции могут как принимать один или более аргументов, так и не принимать их вовсе."
   ]
  },
  {
   "cell_type": "markdown",
   "id": "af90fdd3",
   "metadata": {},
   "source": [
    "Если функция принимает несколько аргументов, то их следует указать через запятую:"
   ]
  },
  {
   "cell_type": "code",
   "execution_count": 7,
   "id": "f7122c9e",
   "metadata": {},
   "outputs": [],
   "source": [
    "void some_func(int arg1, int arg2, int arg3) {\n",
    "    printf(\"%d %d %d\\n\", arg1, arg2, arg3);\n",
    "}"
   ]
  },
  {
   "cell_type": "code",
   "execution_count": 8,
   "id": "a788e741",
   "metadata": {},
   "outputs": [
    {
     "name": "stdout",
     "output_type": "stream",
     "text": [
      "1 2 3\n"
     ]
    }
   ],
   "source": [
    "some_func(1, 2, 3)"
   ]
  },
  {
   "cell_type": "markdown",
   "id": "6c61f1ee",
   "metadata": {},
   "source": [
    "Объявлять функции с одним или несколькими аргументами можно так:"
   ]
  },
  {
   "cell_type": "code",
   "execution_count": 9,
   "id": "085e14fa",
   "metadata": {},
   "outputs": [],
   "source": [
    "void some_func(int arg1, int arg2, int arg3);"
   ]
  },
  {
   "cell_type": "markdown",
   "id": "99a48aaa",
   "metadata": {},
   "source": [
    "или"
   ]
  },
  {
   "cell_type": "code",
   "execution_count": 10,
   "id": "78a422f4",
   "metadata": {},
   "outputs": [],
   "source": [
    "void some_func(int, int, int);"
   ]
  },
  {
   "cell_type": "markdown",
   "id": "3bd82497",
   "metadata": {},
   "source": [
    "Реализация some_func():"
   ]
  },
  {
   "cell_type": "code",
   "execution_count": 11,
   "id": "f3416965",
   "metadata": {},
   "outputs": [],
   "source": [
    "void some_func(int a, int b, int c) {\n",
    "    printf(\"%d %d %d\\n\", a, b, c);\n",
    "}"
   ]
  },
  {
   "cell_type": "markdown",
   "id": "ee65f1b7",
   "metadata": {},
   "source": [
    "Имена аргументов в объявлении и реализации могут отличаться."
   ]
  },
  {
   "cell_type": "code",
   "execution_count": 12,
   "id": "30379515",
   "metadata": {},
   "outputs": [
    {
     "name": "stdout",
     "output_type": "stream",
     "text": [
      "1 2 3\n"
     ]
    }
   ],
   "source": [
    "some_func(1, 2, 3)"
   ]
  },
  {
   "cell_type": "markdown",
   "id": "1cd1b13c",
   "metadata": {},
   "source": [
    "### Значения по умолчанию\n",
    "\n",
    "Аргументы могут иметь значения по умолчанию, \n",
    "тогда такие аргументы не обязательно указывать при вызове функции."
   ]
  },
  {
   "cell_type": "code",
   "execution_count": 13,
   "id": "c9fe3faf",
   "metadata": {},
   "outputs": [],
   "source": [
    "void print_range(int begin, int end, int step = 1) {\n",
    "    for (int i = begin; i < end; i += step) printf(\"%d \", i);\n",
    "    cout << endl;\n",
    "}"
   ]
  },
  {
   "cell_type": "code",
   "execution_count": 14,
   "id": "c4e6ccad",
   "metadata": {},
   "outputs": [
    {
     "name": "stdout",
     "output_type": "stream",
     "text": [
      "10 11 12 13 14 15 16 17 18 19 \n"
     ]
    }
   ],
   "source": [
    "print_range(10, 20)"
   ]
  },
  {
   "cell_type": "code",
   "execution_count": 15,
   "id": "7b652fa0",
   "metadata": {},
   "outputs": [
    {
     "name": "stdout",
     "output_type": "stream",
     "text": [
      "10 12 14 16 18 \n"
     ]
    }
   ],
   "source": [
    "print_range(10, 20, 2)"
   ]
  },
  {
   "cell_type": "markdown",
   "id": "c7ed5885",
   "metadata": {},
   "source": [
    "Установить значение по умолчанию можно как в объявлении, так и в реализации.\n",
    "\n",
    "**Но не и в объявлении, и в реализации!**"
   ]
  },
  {
   "cell_type": "markdown",
   "id": "980f9d8c",
   "metadata": {},
   "source": [
    "Данный фрагмент кода не интерпретируется в Jupyter Notebook, но успешно выолняется при работе с компилятором."
   ]
  },
  {
   "cell_type": "code",
   "execution_count": 16,
   "id": "6125ea7a",
   "metadata": {},
   "outputs": [],
   "source": [
    "// void print_range(int, int, int = 1);\n",
    "\n",
    "// void print_range(int begin, int end, int step) {\n",
    "//     for (int i = begin; i < end; i += step) printf(\"%d \", i);\n",
    "//     cout << endl;\n",
    "// }"
   ]
  },
  {
   "cell_type": "markdown",
   "id": "42bcf5e3",
   "metadata": {},
   "source": [
    "### Передача параметров в функцию"
   ]
  },
  {
   "cell_type": "markdown",
   "id": "f3138d7b",
   "metadata": {},
   "source": [
    "По умолчанию в функцию передаются копии указанных параметров.\n",
    "\n",
    "На создание копии тратятся время и память, поэтому, \n",
    "если это необходимо, в функцию можно передать непосредственно \n",
    "параметры, а не их копии.\n",
    "\n",
    "Для этого используется символ *&*, который сообщает компилятору о том, \n",
    "что в функцию передаётся ссылка на объект, а не его копия."
   ]
  },
  {
   "cell_type": "code",
   "execution_count": 17,
   "id": "6f81ac6f",
   "metadata": {},
   "outputs": [],
   "source": [
    "void some_func(int &arg) {\n",
    "    cout << arg << endl;\n",
    "}"
   ]
  },
  {
   "cell_type": "markdown",
   "id": "f65a227e",
   "metadata": {},
   "source": [
    "Но, т. к. в функцию передаётся ссылка на объект, то невозможно будет передать параметр, \n",
    "не содержащийся в памяти устройства.\n",
    "\n",
    "Например:"
   ]
  },
  {
   "cell_type": "code",
   "execution_count": 18,
   "id": "6adb355b",
   "metadata": {},
   "outputs": [
    {
     "name": "stderr",
     "output_type": "stream",
     "text": [
      "\u001b[1minput_line_28:2:2: \u001b[0m\u001b[0;1;31merror: \u001b[0m\u001b[1mno matching function for call to 'some_func'\u001b[0m\n",
      " some_func(1)\n",
      "\u001b[0;1;32m ^~~~~~~~~\n",
      "\u001b[0m\u001b[1minput_line_27:1:6: \u001b[0m\u001b[0;1;30mnote: \u001b[0mcandidate function not viable: expects an l-value for 1st argument\u001b[0m\n",
      "void some_func(int &arg) {\n",
      "\u001b[0;1;32m     ^\n",
      "\u001b[0m\u001b[1minput_line_21:1:6: \u001b[0m\u001b[0;1;30mnote: \u001b[0mcandidate function not viable: requires 3 arguments, but 1 was provided\u001b[0m\n",
      "void some_func(int a, int b, int c) {\n",
      "\u001b[0;1;32m     ^\n",
      "\u001b[0m"
     ]
    },
    {
     "ename": "Interpreter Error",
     "evalue": "",
     "output_type": "error",
     "traceback": [
      "Interpreter Error: "
     ]
    }
   ],
   "source": [
    "some_func(1)"
   ]
  },
  {
   "cell_type": "markdown",
   "id": "2d2b835f",
   "metadata": {},
   "source": [
    "Но сработает это:"
   ]
  },
  {
   "cell_type": "code",
   "execution_count": 19,
   "id": "dd7bc30a",
   "metadata": {},
   "outputs": [
    {
     "name": "stdout",
     "output_type": "stream",
     "text": [
      "10\n"
     ]
    }
   ],
   "source": [
    "int arg = 10;\n",
    "\n",
    "some_func(arg)"
   ]
  },
  {
   "cell_type": "markdown",
   "id": "faca3213",
   "metadata": {},
   "source": [
    "т. к. переменная arg хранится в оперативной памяти устройста."
   ]
  },
  {
   "cell_type": "markdown",
   "id": "2476d166",
   "metadata": {},
   "source": [
    "При передаче в качестве параметра в функцию ссылки на объект избегается копирование объекта, \n",
    "но при этом изменения данного аргумента затронут переданный объект."
   ]
  },
  {
   "cell_type": "code",
   "execution_count": 20,
   "id": "3532d8e6",
   "metadata": {},
   "outputs": [],
   "source": [
    "void some_func(int&);"
   ]
  },
  {
   "cell_type": "code",
   "execution_count": 21,
   "id": "66e34fe6",
   "metadata": {},
   "outputs": [],
   "source": [
    "void some_func(int &arg) {\n",
    "    arg += 10;\n",
    "    cout << arg << endl;\n",
    "}"
   ]
  },
  {
   "cell_type": "code",
   "execution_count": 22,
   "id": "ed253457",
   "metadata": {},
   "outputs": [
    {
     "name": "stdout",
     "output_type": "stream",
     "text": [
      "10\n",
      "20\n",
      "20\n"
     ]
    }
   ],
   "source": [
    "int arg = 10;\n",
    "\n",
    "cout << arg << endl;\n",
    "some_func(arg);\n",
    "cout << arg << endl;"
   ]
  },
  {
   "cell_type": "markdown",
   "id": "d56aef99",
   "metadata": {},
   "source": [
    "Чтобы этого избежать, можно использовать ключевое слово const при объявлении аргумента функции, \n",
    "которое запретит изменять данный параметр внутри функции:"
   ]
  },
  {
   "cell_type": "code",
   "execution_count": 23,
   "id": "48c1359e",
   "metadata": {},
   "outputs": [],
   "source": [
    "void some_func(const int&);"
   ]
  },
  {
   "cell_type": "code",
   "execution_count": 24,
   "id": "19c76a09",
   "metadata": {},
   "outputs": [
    {
     "name": "stderr",
     "output_type": "stream",
     "text": [
      "\u001b[1minput_line_34:2:9: \u001b[0m\u001b[0;1;31merror: \u001b[0m\u001b[1mcannot assign to variable 'arg' with const-qualified type 'const int &'\u001b[0m\n",
      "    arg += 10;\n",
      "\u001b[0;1;32m    ~~~ ^\n",
      "\u001b[0m\u001b[1minput_line_34:1:27: \u001b[0m\u001b[0;1;30mnote: \u001b[0mvariable 'arg' declared const here\u001b[0m\n",
      "void some_func(const int &arg) {\n",
      "\u001b[0;1;32m               ~~~~~~~~~~~^~~\n",
      "\u001b[0m"
     ]
    },
    {
     "ename": "Interpreter Error",
     "evalue": "",
     "output_type": "error",
     "traceback": [
      "Interpreter Error: "
     ]
    }
   ],
   "source": [
    "void some_func(const int &arg) {\n",
    "    arg += 10;\n",
    "    cout << arg << endl;\n",
    "}"
   ]
  },
  {
   "cell_type": "markdown",
   "id": "4042e106",
   "metadata": {},
   "source": [
    "#### LValues и RValues"
   ]
  },
  {
   "cell_type": "markdown",
   "id": "7e3cf7dd",
   "metadata": {},
   "source": [
    "В C++ существует два вида объектов: **LValues** и **RValues**.\n",
    "\n",
    "##### Простыми словами:\n",
    "    LValue - объект, находящийся в памяти.\n",
    "    RValue - путём исключения, то, что не находится в памяти.\n",
    "\n",
    "##### Ещё одно определение:\n",
    "    LValue может находиться как слева от оператора \"=\", так и справа от него.\n",
    "    RValue может находиться только справа от оператора \"=\"."
   ]
  },
  {
   "cell_type": "markdown",
   "id": "2d952a4d",
   "metadata": {},
   "source": [
    "#### Примеры:\n",
    "    int arg = 10;\n",
    "    arg - LValue, 10 - RValue.\n",
    "    \n",
    "    int arg2 = 20;\n",
    "    arg2 - LValue, 20 - RValue.\n",
    "    \n",
    "    arg = arg2;\n",
    "    arg, arg2 - LValues.\n",
    "    \n",
    "    \n",
    "    void some_func(int arg) {...}\n",
    "    \n",
    "    some_func(arg), some_func(arg2);\n",
    "    arg, arg2 - LValues.\n",
    "    \n",
    "    some_func(12345);\n",
    "    12345 - RValue."
   ]
  },
  {
   "cell_type": "markdown",
   "id": "30a61357",
   "metadata": {},
   "source": [
    "В C++ можно указать, что функция будет принимать только RValue параметр.\n",
    "\n",
    "Это можно указать, если поставить \"&&\" после типа аргумента."
   ]
  },
  {
   "cell_type": "code",
   "execution_count": 25,
   "id": "e5af90f3",
   "metadata": {},
   "outputs": [],
   "source": [
    "void some_func(int &&);"
   ]
  },
  {
   "cell_type": "code",
   "execution_count": 26,
   "id": "528131cc",
   "metadata": {},
   "outputs": [],
   "source": [
    "void some_func(int &&arg) {\n",
    "    cout << arg << endl;\n",
    "}"
   ]
  },
  {
   "cell_type": "code",
   "execution_count": 27,
   "id": "b52027e2",
   "metadata": {},
   "outputs": [
    {
     "name": "stdout",
     "output_type": "stream",
     "text": [
      "10\n"
     ]
    }
   ],
   "source": [
    "some_func(10);"
   ]
  },
  {
   "cell_type": "markdown",
   "id": "d9eee182",
   "metadata": {},
   "source": [
    "**Данный код работает некорректно в Jupyter Notebook!\n",
    "При компиляции бы произошла ошибка!**"
   ]
  },
  {
   "cell_type": "code",
   "execution_count": 30,
   "id": "4ab21205",
   "metadata": {},
   "outputs": [
    {
     "name": "stdout",
     "output_type": "stream",
     "text": [
      "20\n"
     ]
    }
   ],
   "source": [
    "// ошибка!\n",
    "int arg = 10;\n",
    "some_func(arg);"
   ]
  },
  {
   "cell_type": "markdown",
   "id": "48b1db66",
   "metadata": {},
   "source": [
    "Также можно указать, что данный RValue параметр является не изменяемым."
   ]
  },
  {
   "cell_type": "code",
   "execution_count": 31,
   "id": "dfd0a91d",
   "metadata": {},
   "outputs": [],
   "source": [
    "void some_func(const int &&);"
   ]
  },
  {
   "cell_type": "code",
   "execution_count": 32,
   "id": "f5b55d34",
   "metadata": {},
   "outputs": [],
   "source": [
    "void some_func(const int &&arg) {\n",
    "    cout << arg << endl;\n",
    "}"
   ]
  },
  {
   "cell_type": "markdown",
   "id": "151b35e6",
   "metadata": {},
   "source": [
    "## inline"
   ]
  },
  {
   "cell_type": "markdown",
   "id": "f8ce77a9",
   "metadata": {},
   "source": [
    "inline - ключевое слово, которое сообщает компилятору, \n",
    "что данную функцию необходимо подставить в место вызова.\n",
    "\n",
    "Если его не указать, то функция будет вызываться, на что расходуется время.\n",
    "\n",
    "Как правило, используется для коротких функций."
   ]
  },
  {
   "cell_type": "code",
   "execution_count": 34,
   "id": "bd064141",
   "metadata": {},
   "outputs": [],
   "source": [
    "inline int sum_2_int(int a, int b) {\n",
    "    return a + b;\n",
    "}"
   ]
  },
  {
   "cell_type": "code",
   "execution_count": 36,
   "id": "d92d99b3",
   "metadata": {},
   "outputs": [
    {
     "name": "stdout",
     "output_type": "stream",
     "text": [
      "30\n"
     ]
    }
   ],
   "source": [
    "cout << sum_2_int(10, 20) << endl;"
   ]
  },
  {
   "cell_type": "markdown",
   "id": "0d432fe6",
   "metadata": {},
   "source": [
    "## Область видимости"
   ]
  },
  {
   "cell_type": "markdown",
   "id": "3057e421",
   "metadata": {},
   "source": [
    "Существуют локальные и глобальные переменные.\n",
    "\n",
    "Обратиться к локальной переменной можно только оттуда, \n",
    "где она была объявлена.\n",
    "\n",
    "Получить доступ к глобальной переменной можно из любого места, \n",
    "после её объявления."
   ]
  },
  {
   "cell_type": "code",
   "execution_count": 41,
   "id": "1d9dce2d",
   "metadata": {},
   "outputs": [],
   "source": [
    "int global_var = 10;"
   ]
  },
  {
   "cell_type": "code",
   "execution_count": 42,
   "id": "8f49bc57",
   "metadata": {},
   "outputs": [
    {
     "name": "stdout",
     "output_type": "stream",
     "text": [
      "10 20\n"
     ]
    }
   ],
   "source": [
    "{\n",
    "    int local_var = 20;\n",
    "    printf(\"%d %d\\n\", global_var, local_var);\n",
    "}"
   ]
  },
  {
   "cell_type": "code",
   "execution_count": 43,
   "id": "4fd6e4db",
   "metadata": {},
   "outputs": [
    {
     "name": "stderr",
     "output_type": "stream",
     "text": [
      "\u001b[1minput_line_53:2:32: \u001b[0m\u001b[0;1;31merror: \u001b[0m\u001b[1muse of undeclared identifier 'local_var'; did you mean 'global_var'?\u001b[0m\n",
      " printf(\"%d %d\\n\", global_var, local_var);\n",
      "\u001b[0;1;32m                               ^~~~~~~~~\n",
      "\u001b[0m\u001b[0;32m                               global_var\n",
      "\u001b[0m\u001b[1minput_line_51:2:6: \u001b[0m\u001b[0;1;30mnote: \u001b[0m'global_var' declared here\u001b[0m\n",
      " int global_var = 10;\n",
      "\u001b[0;1;32m     ^\n",
      "\u001b[0m"
     ]
    },
    {
     "ename": "Interpreter Error",
     "evalue": "",
     "output_type": "error",
     "traceback": [
      "Interpreter Error: "
     ]
    }
   ],
   "source": [
    "printf(\"%d %d\\n\", global_var, local_var);"
   ]
  },
  {
   "cell_type": "markdown",
   "id": "61491e56",
   "metadata": {},
   "source": [
    "Переменные в функциях являются локальными, поэтому после завершения работы функции, \n",
    "используемые в ней переменные удаляются, к ним невозможно получить доступ извне."
   ]
  },
  {
   "cell_type": "markdown",
   "id": "d28ecb57",
   "metadata": {},
   "source": [
    "### Статическая переменная"
   ]
  },
  {
   "cell_type": "markdown",
   "id": "31f56324",
   "metadata": {},
   "source": [
    "Но есть способ сохранить значение переменной, однако, доступ к ней всё равно невозможно будет получить извне."
   ]
  },
  {
   "cell_type": "code",
   "execution_count": 46,
   "id": "0bd15009",
   "metadata": {},
   "outputs": [],
   "source": [
    "void static_var_func() {\n",
    "    static int counter = 1;\n",
    "    cout << counter++ << ' ';\n",
    "}"
   ]
  },
  {
   "cell_type": "code",
   "execution_count": 47,
   "id": "2e127a05",
   "metadata": {},
   "outputs": [
    {
     "name": "stdout",
     "output_type": "stream",
     "text": [
      "1 2 3 4 5 6 7 8 9 10 "
     ]
    }
   ],
   "source": [
    "for (int i = 0; i < 10; i++) static_var_func();"
   ]
  },
  {
   "cell_type": "markdown",
   "id": "38523d07",
   "metadata": {},
   "source": [
    "Статическая переменная в функции исчезает после завершения работы функции, но её значение сохраняется."
   ]
  },
  {
   "cell_type": "markdown",
   "id": "d658ec97",
   "metadata": {},
   "source": [
    "## Рекурсия"
   ]
  },
  {
   "cell_type": "markdown",
   "id": "4bf42dfd",
   "metadata": {},
   "source": [
    "Рекурсия в программировании - вызов функцией самой же себя."
   ]
  },
  {
   "cell_type": "markdown",
   "id": "bffc2ce4",
   "metadata": {},
   "source": [
    "##### Рекурсивная функция имеет 2 части: \n",
    "    1) Условие выхода\n",
    "    2) Рекурсивная частья\n",
    "\n",
    "В первой хранится условие, при котором вызов функции прекратится.\n",
    "Во второй части осуществляется вызов функции."
   ]
  },
  {
   "cell_type": "markdown",
   "id": "ffaab039",
   "metadata": {},
   "source": [
    "Рекурсивная функция нахождения факториала числа:"
   ]
  },
  {
   "cell_type": "code",
   "execution_count": 52,
   "id": "8506766c",
   "metadata": {},
   "outputs": [],
   "source": [
    "int rec_fact(int n) {\n",
    "    if (n < 2) return 1; // условие выхода\n",
    "    return n * rec_fact(n - 1); // рекурсивная часть\n",
    "}"
   ]
  },
  {
   "cell_type": "code",
   "execution_count": 54,
   "id": "54fc1f88",
   "metadata": {},
   "outputs": [
    {
     "name": "stdout",
     "output_type": "stream",
     "text": [
      "120\n"
     ]
    }
   ],
   "source": [
    "cout << rec_fact(5) << endl;"
   ]
  },
  {
   "cell_type": "markdown",
   "id": "bf244e4f",
   "metadata": {},
   "source": [
    "Рекурсивный поиск n-го члена последовательности Фиббоначчи:"
   ]
  },
  {
   "cell_type": "code",
   "execution_count": 55,
   "id": "c8bd4aad",
   "metadata": {},
   "outputs": [],
   "source": [
    "int rec_fib(int n) {\n",
    "    // условие выхода\n",
    "    if (n < 1) return 0;\n",
    "    if (n < 3) return 1;\n",
    "    // рекурсивная часть\n",
    "    return rec_fib(n - 1) + rec_fib(n - 2);\n",
    "}"
   ]
  },
  {
   "cell_type": "code",
   "execution_count": 57,
   "id": "d3b9063d",
   "metadata": {},
   "outputs": [
    {
     "name": "stdout",
     "output_type": "stream",
     "text": [
      "55\n"
     ]
    }
   ],
   "source": [
    "cout << rec_fib(10) << endl;"
   ]
  }
 ],
 "metadata": {
  "kernelspec": {
   "display_name": "C++14",
   "language": "C++14",
   "name": "xcpp14"
  },
  "language_info": {
   "codemirror_mode": "text/x-c++src",
   "file_extension": ".cpp",
   "mimetype": "text/x-c++src",
   "name": "c++",
   "version": "14"
  }
 },
 "nbformat": 4,
 "nbformat_minor": 5
}
