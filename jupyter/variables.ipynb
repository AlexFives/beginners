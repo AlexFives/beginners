{
 "cells": [
  {
   "cell_type": "markdown",
   "id": "daa6533f",
   "metadata": {},
   "source": [
    "## Переменные в C++"
   ]
  },
  {
   "cell_type": "code",
   "execution_count": 8,
   "id": "995fb733",
   "metadata": {},
   "outputs": [],
   "source": [
    "#include <iostream>\n",
    "\n",
    "using namespace std;"
   ]
  },
  {
   "cell_type": "code",
   "execution_count": 1,
   "id": "0894651d",
   "metadata": {},
   "outputs": [],
   "source": [
    "int _int = 10; // переменная _int типа int, содержащая 10;\n",
    "double _double = 123912.123912039; // переменная _double типа double, содержащая 123912.123912039"
   ]
  },
  {
   "cell_type": "markdown",
   "id": "e1291636",
   "metadata": {},
   "source": [
    "### auto"
   ]
  },
  {
   "cell_type": "markdown",
   "id": "4ba317fb",
   "metadata": {},
   "source": [
    "Если в качестве типа переменной указать auto, то компилятор сам определит тип этой переменной."
   ]
  },
  {
   "cell_type": "code",
   "execution_count": 2,
   "id": "d2e52211",
   "metadata": {},
   "outputs": [],
   "source": [
    "auto auto_var = 10; // auto_var имеет тип int\n",
    "// auto_var = \"C++\"; // error!"
   ]
  },
  {
   "cell_type": "markdown",
   "id": "e9d393a1",
   "metadata": {},
   "source": [
    "### const"
   ]
  },
  {
   "cell_type": "markdown",
   "id": "dc777ac3",
   "metadata": {},
   "source": [
    "Можно указать, что переменная является константой, т. е. не поддерживает перезапись."
   ]
  },
  {
   "cell_type": "code",
   "execution_count": 3,
   "id": "b2656a1d",
   "metadata": {},
   "outputs": [],
   "source": [
    "const float PI = 3.14;\n",
    "// PI = 3; // error!"
   ]
  },
  {
   "cell_type": "markdown",
   "id": "ca0651a8",
   "metadata": {},
   "source": [
    "### Массивы"
   ]
  },
  {
   "cell_type": "markdown",
   "id": "a2b04f28",
   "metadata": {},
   "source": [
    "Создать статический массив длиной N типа TYPE в C++ можно так: \n",
    "\n",
    "TYPE some_var[N];"
   ]
  },
  {
   "cell_type": "code",
   "execution_count": 4,
   "id": "08af9fd4",
   "metadata": {},
   "outputs": [],
   "source": [
    "int test_array[10];"
   ]
  },
  {
   "cell_type": "markdown",
   "id": "d939c2db",
   "metadata": {},
   "source": [
    "Инициализировать массив можно с помощью унифицированной инициализации."
   ]
  },
  {
   "cell_type": "code",
   "execution_count": 6,
   "id": "74460ede",
   "metadata": {},
   "outputs": [],
   "source": [
    "int array[10] {1, 2, 3, 4, 5, 6, 7, 8, 9, 10};"
   ]
  },
  {
   "cell_type": "markdown",
   "id": "60b0f865",
   "metadata": {},
   "source": [
    "Массив поддерживает оператор доступа по индексу ([ ]), индексация начинается с 0 (и до N - 1):"
   ]
  },
  {
   "cell_type": "code",
   "execution_count": 9,
   "id": "d9ecc110",
   "metadata": {},
   "outputs": [
    {
     "name": "stdout",
     "output_type": "stream",
     "text": [
      "At 0 pos: 0\n",
      "At 9 pos: 9\n",
      "At 9 pos after reassignment: 5555\n"
     ]
    }
   ],
   "source": [
    "int array[10] {0, 1, 2, 3, 4, 5, 6, 7, 8, 9};\n",
    "\n",
    "cout << \"At 0 pos: \" << array[0] << endl;\n",
    "cout << \"At 9 pos: \" << array[9] << endl;\n",
    "\n",
    "array[9] = 5555;\n",
    "\n",
    "cout << \"At 9 pos after reassignment: \" << array[9] << endl;"
   ]
  },
  {
   "cell_type": "markdown",
   "id": "9d95e98c",
   "metadata": {},
   "source": [
    "С помощью оператора sizeof(), который возвращает размер переменной в байтах, можно узнать размер массива:"
   ]
  },
  {
   "cell_type": "code",
   "execution_count": 10,
   "id": "d721a940",
   "metadata": {},
   "outputs": [
    {
     "name": "stdout",
     "output_type": "stream",
     "text": [
      "5\n"
     ]
    },
    {
     "data": {
      "text/plain": [
       "@0x7f7c2840bba0"
      ]
     },
     "execution_count": 10,
     "metadata": {},
     "output_type": "execute_result"
    }
   ],
   "source": [
    "int array[5] {1, 2, 3, 4, 5};\n",
    "\n",
    "cout << sizeof(array) / sizeof(array[0]) << endl; // / - оператор деления"
   ]
  },
  {
   "cell_type": "markdown",
   "id": "c6d9ef9a",
   "metadata": {},
   "source": [
    "sizeof(array) возвращает размер всего массива в байтах: *длина_массива* * *размер_типа_массива*. \n",
    "sizeof(array[0]) возвращает размер одного элемента массива: *размер_типа_элемента*.\n",
    "Тогда sizeof(array) / sizeof(array[0]) = *длина_массива* * *размер_типа_массива* / *размер_типа_элемента*.\n",
    "Т. к. *размер_типа_массива* и *размер_типа_элемента* равны, то в итоге это частное равняется длине массива."
   ]
  }
 ],
 "metadata": {
  "kernelspec": {
   "display_name": "C++14",
   "language": "C++14",
   "name": "xcpp14"
  },
  "language_info": {
   "codemirror_mode": "text/x-c++src",
   "file_extension": ".cpp",
   "mimetype": "text/x-c++src",
   "name": "c++",
   "version": "14"
  }
 },
 "nbformat": 4,
 "nbformat_minor": 5
}
