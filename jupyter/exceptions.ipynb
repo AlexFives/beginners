{
 "cells": [
  {
   "cell_type": "markdown",
   "id": "5283d13b",
   "metadata": {},
   "source": [
    "# Обработка исключений в C++"
   ]
  },
  {
   "cell_type": "markdown",
   "id": "872f612e",
   "metadata": {},
   "source": [
    "Обработка исключений в C++ реализуется с помощью конструкции try-catch, throw.\n",
    "\n",
    "try - область в которой может выполниться ошибка\n",
    "\n",
    "catch - область в которой ошибка обрабатывается\n",
    "\n",
    "throw - \"вброс\" ошибки"
   ]
  },
  {
   "cell_type": "code",
   "execution_count": 36,
   "id": "509e9002",
   "metadata": {},
   "outputs": [],
   "source": [
    "#include <iostream>\n",
    "\n",
    "using namespace std;"
   ]
  },
  {
   "cell_type": "markdown",
   "id": "4f0f5eab",
   "metadata": {},
   "source": [
    "```C++\n",
    "int a, b;\n",
    "cin >> a >> b;\n",
    "int c = a / b;\n",
    "cout << c << endl;\n",
    "// 1 0 - исключительная ситуация\n",
    "```"
   ]
  },
  {
   "cell_type": "code",
   "execution_count": 55,
   "id": "05fb8ec1",
   "metadata": {},
   "outputs": [
    {
     "name": "stdout",
     "output_type": "stream",
     "text": [
      "a b\n",
      "Zero division error\n"
     ]
    }
   ],
   "source": [
    "int a, b;\n",
    "cin >> a >> b;\n",
    "try {\n",
    "    if (b == 0) throw \"Zero division error\";\n",
    "    int c = a / b;\n",
    "    cout << \"c = \" << c << endl;\n",
    "    if (a == 0) throw -1;\n",
    "}\n",
    "catch (const char *error) {\n",
    "    cout << error << endl;\n",
    "}\n",
    "catch (...) {\n",
    "    // работает на любой throw, который не попал в предыдущие catch\n",
    "    cout << \"Exception!\" << endl;\n",
    "}"
   ]
  },
  {
   "cell_type": "markdown",
   "id": "e3f95458",
   "metadata": {},
   "source": [
    "Если throw использовать вне блока try-catch, то программа завершит свою работу, будет указана причина завершения процесса."
   ]
  },
  {
   "cell_type": "markdown",
   "id": "222feb90",
   "metadata": {},
   "source": [
    "```cpp\n",
    "void throw_func() {\n",
    "    throw 0;\n",
    "}\n",
    "\n",
    "throw_func();\n",
    "```"
   ]
  },
  {
   "cell_type": "markdown",
   "id": "2e822420",
   "metadata": {},
   "source": [
    "Вывод:\n",
    "\n",
    "$\\color{darkred}{\\text{terminate called after throwing an instance of 'int'}}$"
   ]
  },
  {
   "cell_type": "markdown",
   "id": "3626dd7b",
   "metadata": {},
   "source": [
    "## Пример реализации квадратного уравнения на C++"
   ]
  },
  {
   "cell_type": "code",
   "execution_count": 38,
   "id": "782fc518",
   "metadata": {},
   "outputs": [],
   "source": [
    "#include <cmath>"
   ]
  },
  {
   "cell_type": "code",
   "execution_count": 39,
   "id": "08b9e51a",
   "metadata": {},
   "outputs": [],
   "source": [
    "const int MAX_LENGTH = 100;"
   ]
  },
  {
   "cell_type": "code",
   "execution_count": 40,
   "id": "8fb151cb",
   "metadata": {},
   "outputs": [],
   "source": [
    "bool is_null(double x) {\n",
    "    const double delta = 1e-7;\n",
    "    return abs(x) <= delta;\n",
    "}"
   ]
  },
  {
   "cell_type": "code",
   "execution_count": 41,
   "id": "55924714",
   "metadata": {},
   "outputs": [],
   "source": [
    "struct QuadraticEquationError {\n",
    "    virtual void print() const = 0;\n",
    "};"
   ]
  },
  {
   "cell_type": "code",
   "execution_count": 42,
   "id": "9c581dc6",
   "metadata": {},
   "outputs": [],
   "source": [
    "struct LinearEquationException : QuadraticEquationError {\n",
    "    double x;\n",
    "\n",
    "    LinearEquationException(double b, double c) : x(-c / b) {}\n",
    "\n",
    "    void print() const override {\n",
    "        printf(\"x = %f\\n\", x);\n",
    "    }\n",
    "};"
   ]
  },
  {
   "cell_type": "code",
   "execution_count": 43,
   "id": "b53d6728",
   "metadata": {},
   "outputs": [],
   "source": [
    "struct DiscriminatorEqualsZeroException : QuadraticEquationError {\n",
    "    double x;\n",
    "\n",
    "    DiscriminatorEqualsZeroException(double a, double b) : x(-b / (2 * a)) {}\n",
    "\n",
    "    void print() const override {\n",
    "        printf(\"x1 = x2 = %f\\n\", x);\n",
    "    }\n",
    "};"
   ]
  },
  {
   "cell_type": "code",
   "execution_count": 44,
   "id": "2fdad928",
   "metadata": {},
   "outputs": [],
   "source": [
    "struct DiscriminatorLowerThatZeroException : QuadraticEquationError {\n",
    "    double real, img;\n",
    "\n",
    "    DiscriminatorLowerThatZeroException(double D, double a, double b) {\n",
    "        real = -b / (2 * a);\n",
    "        img = sqrt(abs(D)) / (2 * a);\n",
    "    }\n",
    "\n",
    "    void print() const override {\n",
    "        if (is_null(real)) {\n",
    "            printf(\"x1 = %fi\\nx2 = -%fi\\n\", img, img);\n",
    "            return;\n",
    "        }\n",
    "        printf(\"x1 = %f + %fi\\n\", real, img);\n",
    "        printf(\"x1 = %f - %fi\\n\", real, img);\n",
    "    }\n",
    "};"
   ]
  },
  {
   "cell_type": "code",
   "execution_count": 45,
   "id": "4c1e594c",
   "metadata": {},
   "outputs": [],
   "source": [
    "void read_char(char *ch) {\n",
    "    char tmp;\n",
    "    int i = 0;\n",
    "    cin.get(tmp);\n",
    "    while (tmp != ' ' and tmp != '\\n' and tmp != '\\0') {\n",
    "        ch[i] = tmp;\n",
    "        i++;\n",
    "        if (i >= MAX_LENGTH) throw -1;\n",
    "        cin.get(tmp);\n",
    "    }\n",
    "    cin.clear();\n",
    "}"
   ]
  },
  {
   "cell_type": "code",
   "execution_count": 46,
   "id": "e4282970",
   "metadata": {},
   "outputs": [],
   "source": [
    "double get_double(const char *input) {\n",
    "    bool point_state = false;\n",
    "    bool sign_state = false;\n",
    "    int i;\n",
    "    for (i = 0; i < MAX_LENGTH; i++) {\n",
    "        char tmp = input[i];\n",
    "        if (tmp == '\\0') break;\n",
    "        if (tmp == '+' or tmp == '-') {\n",
    "            if (sign_state) throw 1;\n",
    "            sign_state = true;\n",
    "        } else if (tmp == '.') {\n",
    "            if (point_state) throw 2;\n",
    "            point_state = true;\n",
    "        } else if (tmp < '0' or tmp > '9') throw 3;\n",
    "    }\n",
    "    return atof(input);\n",
    "}"
   ]
  },
  {
   "cell_type": "code",
   "execution_count": 47,
   "id": "e19995fb",
   "metadata": {},
   "outputs": [],
   "source": [
    "void solve(char *_a, char *_b, char *_c) {\n",
    "    try {\n",
    "        double a = get_double(_a);\n",
    "        double b = get_double(_b);\n",
    "        double c = get_double(_c);\n",
    "\n",
    "        if (is_null(a) and is_null(b) and is_null(c)) throw 4;\n",
    "        if (is_null(a) and is_null(b)) throw 5;\n",
    "        if (is_null(a)) throw LinearEquationException(b, c);\n",
    "\n",
    "        double D = b * b - 4 * a * c;\n",
    "        if (D == 0) throw DiscriminatorEqualsZeroException(a, b);\n",
    "        if (D <= 0) throw DiscriminatorLowerThatZeroException(D, a, b);\n",
    "        double x1 = (-b + sqrt(D)) / (2 * a);\n",
    "        double x2 = (-b - sqrt(D)) / (2 * a);\n",
    "        printf(\"x1 = %f\\n\", x1);\n",
    "        printf(\"x2 = %f\\n\", x2);\n",
    "    }\n",
    "    catch (const int error) {\n",
    "        if (error == 1) cout << \"Sign doubles in input!\" << endl;\n",
    "        else if (error == 2) cout << \"Point doubles in input!\" << endl;\n",
    "        else if (error == 3) cout << \"Not a number in input!\" << endl;\n",
    "        else if (error == 4) cout << \"x = R\" << endl;\n",
    "        else if (error == 5) cout << \"Solution doesn't exist!\" << endl;\n",
    "    }\n",
    "    catch (const QuadraticEquationError &error) {\n",
    "        error.print();\n",
    "    }\n",
    "    catch (...) {\n",
    "        cout << \"A error has occurred!\" << endl;\n",
    "    }\n",
    "}"
   ]
  },
  {
   "cell_type": "code",
   "execution_count": 48,
   "id": "e4874a0e",
   "metadata": {},
   "outputs": [],
   "source": [
    "void solve_qe() {\n",
    "    char *a = new char[MAX_LENGTH];\n",
    "    char *b = new char[MAX_LENGTH];\n",
    "    char *c = new char[MAX_LENGTH];\n",
    "    try {\n",
    "        read_char(a);\n",
    "        read_char(b);\n",
    "        read_char(c);\n",
    "    }\n",
    "    catch (int error) {\n",
    "        if (error == -1) cout << \"Too long number!\" << endl;\n",
    "        delete[] a, b, c;\n",
    "        return;\n",
    "    }\n",
    "    catch (...) {\n",
    "        delete[] a, b, c;\n",
    "        return;\n",
    "    }\n",
    "    solve(a, b, c);\n",
    "    delete[] a, b, c;\n",
    "}"
   ]
  }
 ],
 "metadata": {
  "kernelspec": {
   "display_name": "C++14",
   "language": "C++14",
   "name": "xcpp14"
  },
  "language_info": {
   "codemirror_mode": "text/x-c++src",
   "file_extension": ".cpp",
   "mimetype": "text/x-c++src",
   "name": "c++",
   "version": "14"
  }
 },
 "nbformat": 4,
 "nbformat_minor": 5
}
