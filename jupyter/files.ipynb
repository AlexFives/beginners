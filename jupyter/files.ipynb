{
 "cells": [
  {
   "cell_type": "markdown",
   "id": "31474ed3",
   "metadata": {},
   "source": [
    "# Работа с файлами C++"
   ]
  },
  {
   "cell_type": "markdown",
   "id": "42cef77f",
   "metadata": {},
   "source": [
    "Файл - последовательность байтов.\n",
    "\n",
    "С файлами можно работать двумя способами: читать файл и записывать в него данные.\n",
    "\n",
    "Для чтения данных из файла необходимо подключить заголовочный файл **<ifstream\\>**, а для записи данных в файл - **<ofstream\\>**.\n",
    "\n",
    "Заголовочный файл **<fstream\\>** совмещает в себе оба способа работы с файлом."
   ]
  },
  {
   "cell_type": "code",
   "execution_count": 81,
   "id": "a198af6a",
   "metadata": {},
   "outputs": [],
   "source": [
    "#include <fstream>\n",
    "#include <iostream>\n",
    "\n",
    "using namespace std;"
   ]
  },
  {
   "cell_type": "markdown",
   "id": "23f53ee7",
   "metadata": {},
   "source": [
    "Для работы с файлом необходимо создать соответствующий экземпляр класса: *ifstream* для чтения, *ofstream* для записи.\n",
    "\n",
    "**Также можно создать экземпляр класса *fstream* для чтения из файла и записи в него, но данный класс работает некорректно в xeus-cling для Jupyter notebook, поэтому способы работы будут показаны на двух ранее упомянутых классах. Но методы *fstream* совмещают в себе методы *ifstream* и *ofstream*.**\n",
    "\n",
    "В работе с файлом используется курсор, который указывает на байт в файле. При совершении какой-либо операции курсор переходит на следующий байт. Существуют 2 типа курсора: курсор для записи и курсор для чтения."
   ]
  },
  {
   "cell_type": "markdown",
   "id": "afe495d4",
   "metadata": {},
   "source": [
    "## Запись в файл"
   ]
  },
  {
   "cell_type": "code",
   "execution_count": 82,
   "id": "cbbe9a76",
   "metadata": {},
   "outputs": [],
   "source": [
    "ofstream fout; // экземпляр класса для работы с файловым выводом"
   ]
  },
  {
   "cell_type": "markdown",
   "id": "222af764",
   "metadata": {},
   "source": [
    "Чтобы открыть какой-либо файл, необходимо использовать метод **open(file_name, [open_mode])**.\n",
    "\n",
    "Виды открытия файла:\n",
    "1) in - ввод\n",
    "\n",
    "2) out - вывод\n",
    "\n",
    "3) binary - работа с бинарным файлом\n",
    "\n",
    "4) ate - при открытии курсор указывает на конец файла\n",
    "\n",
    "5) trunc - файл будет очищен при открытии"
   ]
  },
  {
   "cell_type": "code",
   "execution_count": 83,
   "id": "d3c0bbbe",
   "metadata": {},
   "outputs": [],
   "source": [
    "const char *file_name = \"test_file\""
   ]
  },
  {
   "cell_type": "code",
   "execution_count": 84,
   "id": "883d559c",
   "metadata": {},
   "outputs": [],
   "source": [
    "fout.open(file_name);"
   ]
  },
  {
   "cell_type": "markdown",
   "id": "54a2352e",
   "metadata": {},
   "source": [
    "Т. к. файл открывается для записи, то все данные в нём очищаются."
   ]
  },
  {
   "cell_type": "markdown",
   "id": "81d93431",
   "metadata": {},
   "source": [
    "### Способы записи в файл"
   ]
  },
  {
   "cell_type": "markdown",
   "id": "d88cf41a",
   "metadata": {},
   "source": [
    "Оператор вывода **\"<<\"**"
   ]
  },
  {
   "cell_type": "code",
   "execution_count": 85,
   "id": "03b8cf7d",
   "metadata": {},
   "outputs": [],
   "source": [
    "fout << \"Hello,\";"
   ]
  },
  {
   "cell_type": "markdown",
   "id": "df3a622d",
   "metadata": {},
   "source": [
    "Метод **put(char)**"
   ]
  },
  {
   "cell_type": "code",
   "execution_count": 86,
   "id": "2fa08812",
   "metadata": {},
   "outputs": [],
   "source": [
    "fout.put(' ');"
   ]
  },
  {
   "cell_type": "markdown",
   "id": "f5be95cd",
   "metadata": {},
   "source": [
    "Метод **write(chars, length)**"
   ]
  },
  {
   "cell_type": "code",
   "execution_count": 87,
   "id": "85a7aac5",
   "metadata": {},
   "outputs": [],
   "source": [
    "fout.write(\"world\", 5);\n",
    "fout.write(\"!\", 1);"
   ]
  },
  {
   "cell_type": "markdown",
   "id": "f3581878",
   "metadata": {},
   "source": [
    "По окончании работы с файлом необходимо вызвать метод **close()** для сохранения файла и его закрытия."
   ]
  },
  {
   "cell_type": "code",
   "execution_count": 88,
   "id": "67c12f26",
   "metadata": {},
   "outputs": [],
   "source": [
    "fout.close();"
   ]
  },
  {
   "cell_type": "markdown",
   "id": "15a38968",
   "metadata": {},
   "source": [
    "## Чтение из файла"
   ]
  },
  {
   "cell_type": "code",
   "execution_count": 89,
   "id": "9b7a8d0e",
   "metadata": {},
   "outputs": [],
   "source": [
    "ifstream fin; // экземпляр класса для работы с файловым вводом"
   ]
  },
  {
   "cell_type": "code",
   "execution_count": 90,
   "id": "c53e76a4",
   "metadata": {},
   "outputs": [],
   "source": [
    "fin.open(file_name);"
   ]
  },
  {
   "cell_type": "markdown",
   "id": "0f915180",
   "metadata": {},
   "source": [
    "Файл открывается для чтения, поэтому данные в файле при его открытии не очищаются."
   ]
  },
  {
   "cell_type": "markdown",
   "id": "bfb9353b",
   "metadata": {},
   "source": [
    "### Способы чтения из файла"
   ]
  },
  {
   "cell_type": "code",
   "execution_count": 91,
   "id": "4932f195",
   "metadata": {},
   "outputs": [],
   "source": [
    "const int N = 20;\n",
    "char data[N];"
   ]
  },
  {
   "cell_type": "markdown",
   "id": "3a6a6225",
   "metadata": {},
   "source": [
    "Оператор ввода **\">>\"**.\n",
    "\n",
    "Пропускает пробелы."
   ]
  },
  {
   "cell_type": "code",
   "execution_count": 92,
   "id": "d25fc6ca",
   "metadata": {},
   "outputs": [
    {
     "name": "stdout",
     "output_type": "stream",
     "text": [
      "Hello,world!\n"
     ]
    }
   ],
   "source": [
    "for (int i = 0; i < N; i++) {\n",
    "    fin >> data[i];\n",
    "    if (fin.eof()) {\n",
    "        // проверка на конец файла\n",
    "        // если курсор находится в конце файла, то fin.eof() возвращает true\n",
    "        data[i] = '\\0';\n",
    "        break;\n",
    "    }\n",
    "}\n",
    "\n",
    "cout << data << '\\n';"
   ]
  },
  {
   "cell_type": "markdown",
   "id": "78ca7657",
   "metadata": {},
   "source": [
    "После прочтения файла курсор находится в конце файла, поэтому дальнейшие операции чтения будут выполняться некорректно, т. к. они начнутся с конца файла.\n",
    "\n",
    "Для того, чтобы снова переставить курсор на начало файла, можно закрыть и снова открыть этот файл.\n",
    "Также можно переставить курсор, используя методы класса: **clear()** и **seekg(pos)**."
   ]
  },
  {
   "cell_type": "code",
   "execution_count": 93,
   "id": "14c00b20",
   "metadata": {},
   "outputs": [
    {
     "data": {
      "text/plain": [
       "@0x7f1cee15b608"
      ]
     },
     "execution_count": 93,
     "metadata": {},
     "output_type": "execute_result"
    }
   ],
   "source": [
    "fin.clear(); // очищает флаг конца файла\n",
    "fin.seekg(0); // перемещает курсор в начало файла"
   ]
  },
  {
   "cell_type": "markdown",
   "id": "d16c8300",
   "metadata": {},
   "source": [
    "Метод **get(char)**"
   ]
  },
  {
   "cell_type": "code",
   "execution_count": 94,
   "id": "f995b2e2",
   "metadata": {},
   "outputs": [
    {
     "name": "stdout",
     "output_type": "stream",
     "text": [
      "Hello, world!\n"
     ]
    }
   ],
   "source": [
    "for (int i = 0; i < N; i++) {\n",
    "    fin.get(data[i]);\n",
    "    if (fin.eof()) {\n",
    "        data[i] = '\\0';\n",
    "        break;\n",
    "    }\n",
    "}\n",
    "\n",
    "cout << data << '\\n';"
   ]
  },
  {
   "cell_type": "code",
   "execution_count": 95,
   "id": "7fed77d6",
   "metadata": {},
   "outputs": [
    {
     "data": {
      "text/plain": [
       "@0x7f1cee15b608"
      ]
     },
     "execution_count": 95,
     "metadata": {},
     "output_type": "execute_result"
    }
   ],
   "source": [
    "fin.clear(); // очищает флаг конца файла\n",
    "fin.seekg(0); // перемещает курсор в начало файла"
   ]
  },
  {
   "cell_type": "markdown",
   "id": "b5d3c341",
   "metadata": {},
   "source": [
    "Метод **getline(char[ ], lenth)**"
   ]
  },
  {
   "cell_type": "code",
   "execution_count": 96,
   "id": "f1580f06",
   "metadata": {},
   "outputs": [
    {
     "name": "stdout",
     "output_type": "stream",
     "text": [
      "Hello, world!\n"
     ]
    }
   ],
   "source": [
    "fin.getline(data, N);\n",
    "\n",
    "cout << data << '\\n';"
   ]
  },
  {
   "cell_type": "code",
   "execution_count": 97,
   "id": "25bb13f4",
   "metadata": {},
   "outputs": [],
   "source": [
    "fin.close();"
   ]
  },
  {
   "cell_type": "markdown",
   "id": "8e4ee186",
   "metadata": {},
   "source": [
    "Методами **tellg()** и **tellp()** можно получить текущую позицию курсоров чтения и записи соответственно. Счёт начинается с начала файла."
   ]
  },
  {
   "cell_type": "markdown",
   "id": "12fdb17c",
   "metadata": {},
   "source": [
    "Записывать, как и читать, можно не только тип char, но и другие, поддерживающие операцию ввода/вывода."
   ]
  },
  {
   "cell_type": "code",
   "execution_count": 98,
   "id": "6a7701be",
   "metadata": {},
   "outputs": [],
   "source": [
    "const char *file_name = \"bytes.file\";"
   ]
  },
  {
   "cell_type": "code",
   "execution_count": 99,
   "id": "d8acd7fd",
   "metadata": {},
   "outputs": [],
   "source": [
    "ofstream fout(file_name, fstream::binary);\n",
    "for (int i = 0; i < 10; i++) {\n",
    "    fout.write((char*)&i, sizeof(i));\n",
    "    // запись методом write\n",
    "    // т. к. в C++ нет типа байт, его заменяет тип char, \n",
    "    // поэтому необходимо сделать преобразование типов\n",
    "    // sizeof(i) указывает, сколько байтов необходимо записать\n",
    "}\n",
    "fout.close();"
   ]
  },
  {
   "cell_type": "code",
   "execution_count": 100,
   "id": "95aa2c49",
   "metadata": {},
   "outputs": [
    {
     "name": "stdout",
     "output_type": "stream",
     "text": [
      "0 1 2 3 4 5 6 7 8 9 "
     ]
    }
   ],
   "source": [
    "ifstream fin(file_name, fstream::binary);\n",
    "for (int i = 0; i < 10; i++) {\n",
    "    int tmp;\n",
    "    fin.read((char*)&tmp, sizeof(tmp));\n",
    "    // чтение методом read\n",
    "    // sizeof(tmp) указывает, сколько байтов необходимо прочитать из файла\n",
    "    // прочитанные байты сохраняются в переменную tmp, преобразуясь в тип tmp\n",
    "    cout << tmp << ' ';\n",
    "}\n",
    "fin.close();"
   ]
  },
  {
   "cell_type": "markdown",
   "id": "7d7ba407",
   "metadata": {},
   "source": [
    "В качестве пути к файлу в методе **open(file_path)** можно использовать абсолютный и относительный пути.\n",
    "\n",
    "Абсолютный путь - путь к файлу от корневой директории системы.\n",
    "\n",
    "Относительный путь - путь к файлу, относительно директории проекта."
   ]
  }
 ],
 "metadata": {
  "kernelspec": {
   "display_name": "C++14",
   "language": "C++14",
   "name": "xcpp14"
  },
  "language_info": {
   "codemirror_mode": "text/x-c++src",
   "file_extension": ".cpp",
   "mimetype": "text/x-c++src",
   "name": "c++",
   "version": "14"
  }
 },
 "nbformat": 4,
 "nbformat_minor": 5
}
