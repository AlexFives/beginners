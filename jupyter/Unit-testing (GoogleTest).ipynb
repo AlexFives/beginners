{
 "cells": [
  {
   "cell_type": "markdown",
   "id": "af91ed40",
   "metadata": {},
   "source": [
    "# Модульное тестирование (unit testing)"
   ]
  },
  {
   "cell_type": "markdown",
   "id": "09b0264a",
   "metadata": {},
   "source": [
    "Это процесс проверки отдельных модулей продукта на корректность исполнения."
   ]
  },
  {
   "cell_type": "markdown",
   "id": "f86b869e",
   "metadata": {},
   "source": [
    "Существует несколько фреймворков для юнит-тестирования C++.\n",
    "\n",
    "Мы будем использовать Google Test."
   ]
  },
  {
   "cell_type": "markdown",
   "id": "c517f764",
   "metadata": {},
   "source": [
    "## Установка Google Test на Ubuntu"
   ]
  },
  {
   "cell_type": "markdown",
   "id": "fa4e4932",
   "metadata": {},
   "source": [
    "1) Обновляем базу и устанавливаем фреймворк:\n",
    "```bash\n",
    "sudo apt update\n",
    "sudo apt install libgtest-dev\n",
    "```\n",
    "1.5) Ставим *cmake*, если ещё не установлен:\n",
    "```bash\n",
    "sudo apt install cmake\n",
    "```\n",
    "2) Переходим в папку c фреймворком:\n",
    "```bash\n",
    "cd /usr/src/gtest\n",
    "```\n",
    "3) Компилируем фреймворк:\n",
    "```bash\n",
    "sudo make\n",
    "```\n",
    "Чтобы получить возможность работать с *gtest*, включая заголовочный файл, \n",
    "нужно перенести файлы **libgtest.a** и **libgtest_main.a** в */usr/lib*.\n",
    "\n",
    "4) Находим эти файлы:\n",
    "```bash\n",
    "find -name \"libgtest*.a\"\n",
    "```\n",
    "После выполнения данной команды выведутся пути к данным файлам:\n",
    "```\n",
    "Пример:\n",
    "./lib/libgtest.a\n",
    "./lib/libgtest_main.a\n",
    "```\n",
    "5) Переносим данные файлы в */usr/lib*:\n",
    "```bash\n",
    "sudo cp ./lib/libgtest*.a /usr/lib\n",
    "```"
   ]
  },
  {
   "cell_type": "markdown",
   "id": "310b6d66",
   "metadata": {},
   "source": [
    "Далее необходимо правильно скомпилировать проект."
   ]
  },
  {
   "cell_type": "markdown",
   "id": "0b0cabd2",
   "metadata": {},
   "source": [
    "## Конфигурация CMakeLists.txt"
   ]
  },
  {
   "cell_type": "markdown",
   "id": "87300d6c",
   "metadata": {},
   "source": [
    "В файл **CmakeLists.txt** необходимо добавить строки:\n",
    "```cmake\n",
    "find_package(GTest REQUIRED)\n",
    "include_directories(${GTEST_INCLUDE_DIRS})\n",
    "\n",
    "target_link_libraries(${PROJECT_NAME} gtest gtest_main pthread)\n",
    "```"
   ]
  },
  {
   "cell_type": "markdown",
   "id": "e879be44",
   "metadata": {},
   "source": [
    "### Общий вид CMakeLists.txt (примерно)"
   ]
  },
  {
   "cell_type": "markdown",
   "id": "83c37b24",
   "metadata": {},
   "source": [
    "```cmake\n",
    "cmake_minimum_required(VERSION 3.21)\n",
    "project(my_project)\n",
    "\n",
    "set(CMAKE_CXX_STANDARD 17)\n",
    "\n",
    "find_package(GTest REQUIRED)\n",
    "include_directories(${GTEST_INCLUDE_DIRS})\n",
    "\n",
    "add_executable(${PROJECT_NAME} main.cpp)\n",
    "target_link_libraries(${PROJECT_NAME} gtest gtest_main pthread)\n",
    "```"
   ]
  },
  {
   "cell_type": "markdown",
   "id": "e71e79df",
   "metadata": {},
   "source": [
    "## Быстрый старт"
   ]
  },
  {
   "cell_type": "markdown",
   "id": "64e3a49c",
   "metadata": {},
   "source": [
    "Сначала нужно включить заголовочный файл тестов:"
   ]
  },
  {
   "cell_type": "code",
   "execution_count": 1,
   "id": "8623efe9",
   "metadata": {},
   "outputs": [
    {
     "name": "stderr",
     "output_type": "stream",
     "text": [
      "\u001b[1minput_line_7:1:10: \u001b[0m\u001b[0;1;31mfatal error: \u001b[0m\u001b[1m'gtest/gtest.h' file not found\u001b[0m\n",
      "#include <gtest/gtest.h>\n",
      "\u001b[0;1;32m         ^~~~~~~~~~~~~~~\n",
      "\u001b[0m"
     ]
    },
    {
     "ename": "Interpreter Error",
     "evalue": "",
     "output_type": "error",
     "traceback": [
      "Interpreter Error: "
     ]
    }
   ],
   "source": [
    "#include <gtest/gtest.h>"
   ]
  },
  {
   "cell_type": "markdown",
   "id": "da2c6465",
   "metadata": {},
   "source": [
    "В качестве объекта тестов будем использовать функцию, возвращающую сумму двух аргументов:"
   ]
  },
  {
   "cell_type": "code",
   "execution_count": 2,
   "id": "c229d0b1",
   "metadata": {},
   "outputs": [],
   "source": [
    "template<typename T>\n",
    "T sum(T a, T b) {\n",
    "    return a + b;\n",
    "}"
   ]
  },
  {
   "cell_type": "markdown",
   "id": "0e1253e7",
   "metadata": {},
   "source": [
    "Макрос TEST используется для создания теста.\n",
    "\n",
    "Этот макрос принимает 2 аргумента: *название набора тестов* и *название теста*.\n",
    "\n",
    "Далее в фигурных скобках прописываются выражения для проверки результата выполнения \n",
    "тестируемого объекта."
   ]
  },
  {
   "cell_type": "code",
   "execution_count": 3,
   "id": "7b625488",
   "metadata": {},
   "outputs": [
    {
     "name": "stderr",
     "output_type": "stream",
     "text": [
      "\u001b[1minput_line_9:2:34: \u001b[0m\u001b[0;1;31merror: \u001b[0m\u001b[1mexpected ';' after expression\u001b[0m\n",
      " TEST(test_suite_name, test_name) {\n",
      "\u001b[0;1;32m                                 ^\n",
      "\u001b[0m\u001b[0;32m                                 ;\n",
      "\u001b[0m\u001b[1minput_line_9:2:7: \u001b[0m\u001b[0;1;31merror: \u001b[0m\u001b[1muse of undeclared identifier 'test_suite_name'\u001b[0m\n",
      " TEST(test_suite_name, test_name) {\n",
      "\u001b[0;1;32m      ^\n",
      "\u001b[0m\u001b[1minput_line_9:2:24: \u001b[0m\u001b[0;1;31merror: \u001b[0m\u001b[1muse of undeclared identifier 'test_name'\u001b[0m\n",
      " TEST(test_suite_name, test_name) {\n",
      "\u001b[0;1;32m                       ^\n",
      "\u001b[0m\u001b[1minput_line_9:3:5: \u001b[0m\u001b[0;1;31merror: \u001b[0m\u001b[1muse of undeclared identifier 'ASSERT_EQ'\u001b[0m\n",
      "    ASSERT_EQ(sum(10, 20), 30);\n",
      "\u001b[0;1;32m    ^\n",
      "\u001b[0m"
     ]
    },
    {
     "ename": "Interpreter Error",
     "evalue": "",
     "output_type": "error",
     "traceback": [
      "Interpreter Error: "
     ]
    }
   ],
   "source": [
    "TEST(test_suite_name, test_name) {\n",
    "    ASSERT_EQ(sum(10, 20), 30);\n",
    "    // ASSERT_EQ - макрос для сравнения двух выражений. (expr1 == exrp2)\n",
    "}"
   ]
  },
  {
   "cell_type": "markdown",
   "id": "bf39e761",
   "metadata": {},
   "source": [
    "Запустить сразу все тесты можно из функции **main**:"
   ]
  },
  {
   "cell_type": "code",
   "execution_count": 9,
   "id": "3ef1e814",
   "metadata": {},
   "outputs": [
    {
     "name": "stderr",
     "output_type": "stream",
     "text": [
      "\u001b[1minput_line_15:2:2: \u001b[0m\u001b[0;1;31merror: \u001b[0m\u001b[1munknown type name 'GTEST_API_'\u001b[0m\n",
      " GTEST_API_ int main(int argc, char **argv) {\n",
      "\u001b[0;1;32m ^\n",
      "\u001b[0m\u001b[1minput_line_15:2:13: \u001b[0m\u001b[0;1;31merror: \u001b[0m\u001b[1mexpected unqualified-id\u001b[0m\n",
      " GTEST_API_ int main(int argc, char **argv) {\n",
      "\u001b[0;1;32m            ^\n",
      "\u001b[0m"
     ]
    },
    {
     "ename": "Interpreter Error",
     "evalue": "",
     "output_type": "error",
     "traceback": [
      "Interpreter Error: "
     ]
    }
   ],
   "source": [
    "GTEST_API_ int main(int argc, char **argv) {\n",
    "    // argc и **argv - дополнительные аргументы при запуске программы\n",
    "    // например, в команде *rm -r some_dir * -r и some_dir - дополнительные аргументы\n",
    "    testing::InitGoogleTest(&argc, argv); // данная функция позволяет \n",
    "    // выводить на экран результаты тестирования\n",
    "    return RUN_ALL_TESTS(); // запуск всех тестов\n",
    "}"
   ]
  },
  {
   "cell_type": "markdown",
   "id": "785ddb79",
   "metadata": {},
   "source": [
    "## Функционал GoogleTest"
   ]
  },
  {
   "cell_type": "markdown",
   "id": "43846b56",
   "metadata": {},
   "source": [
    "**Документация: https://google.github.io/googletest/**"
   ]
  },
  {
   "cell_type": "markdown",
   "id": "345a61cd",
   "metadata": {},
   "source": [
    "### Утверждения"
   ]
  },
  {
   "cell_type": "markdown",
   "id": "fcca71db",
   "metadata": {},
   "source": [
    "Это выражения, которые могут либо выполниться успешно, либо не выполниться совсем.\n",
    "\n",
    "Утверждения бывают критические (начинаются с ASSERT) и некритические (EXPECT).\n",
    "\n",
    "Если критическое утверждение не выполнилось успешно, выполнение данного теста прекращается. \n",
    "Некритическое утверждение не останавливает тестирование, а просто сообщает об ошибке."
   ]
  },
  {
   "cell_type": "markdown",
   "id": "881094b9",
   "metadata": {},
   "source": [
    "***Далее будут описаны виды утверждений. Их можно использовать как с ASSERT, так и с EXPECT.***\n",
    "***Поэтому в качестве названий будут только окончания. Например, \"EQ\" подразумевает использование \n",
    "как ASSERT_EQ, так и EXPECT_EQ.***"
   ]
  },
  {
   "cell_type": "markdown",
   "id": "b5e1c4d4",
   "metadata": {},
   "source": [
    "#### Логические утверждения"
   ]
  },
  {
   "cell_type": "markdown",
   "id": "c24d620e",
   "metadata": {},
   "source": [
    "1) TRUE(condition) - проверка condition == true\n",
    "\n",
    "2) FALSE(condition) - проверка condition == false"
   ]
  },
  {
   "cell_type": "markdown",
   "id": "3e9ccb15",
   "metadata": {},
   "source": [
    "#### Утверждения сравнения"
   ]
  },
  {
   "cell_type": "markdown",
   "id": "045e9421",
   "metadata": {},
   "source": [
    "1) EQ(value1, value2) - проверка value1 == value2\n",
    "\n",
    "2) NE(value1, value2) - проверка value1 != value2\n",
    "\n",
    "3) LT(value1, value2) - проверка value1 < value2\n",
    "\n",
    "4) GT(value1, value2) - проверка value1 > value2\n",
    "\n",
    "5) LE(value1, value2) - проверка value1 <= value2\n",
    "\n",
    "6) GE(value1, value2) - проверка value1 >= value2"
   ]
  },
  {
   "cell_type": "markdown",
   "id": "9e6202ba",
   "metadata": {},
   "source": [
    "#### Утверждения сравнения чисел с плавающей точкой"
   ]
  },
  {
   "cell_type": "markdown",
   "id": "5642a994",
   "metadata": {},
   "source": [
    "1) FLOAT_EQ(expected, actual) - неточное сравнение типа float\n",
    "\n",
    "2) DOUBLE_EQ(expected, actual) - неточное сравнение типа double\n",
    "\n",
    "3) NEAR(value1, value2, absolute_error) - проверка |value1 - value2| <= absolute_error"
   ]
  },
  {
   "cell_type": "markdown",
   "id": "241f6986",
   "metadata": {},
   "source": [
    "#### Утверждения сравнения строк"
   ]
  },
  {
   "cell_type": "markdown",
   "id": "544f60cb",
   "metadata": {},
   "source": [
    "1) STREQ(string1, string2) - проверка string1 == string2\n",
    "\n",
    "2) STRNE(string1, string2) - проверка string1 != string2\n",
    "\n",
    "3) STRCASEEQ(string1, string2) - проверка string1 == string2 без учёта регистра\n",
    "\n",
    "4) STRCASENE(string1, string2) - проверка string1 != string2 без учёта регистра"
   ]
  },
  {
   "cell_type": "markdown",
   "id": "bfe1779e",
   "metadata": {},
   "source": [
    "#### Утверждения проверки на исключение"
   ]
  },
  {
   "cell_type": "markdown",
   "id": "cb740215",
   "metadata": {},
   "source": [
    "1) THROW(statement, exception) - проверка, что statement выдаёт исключение exception\n",
    "\n",
    "2) ANY_THROW(statement) - проверка, что statement выдаёт любое исключение\n",
    "\n",
    "3) NO_THROW(statement) - проверка, что statement не выдаёт исключений"
   ]
  },
  {
   "cell_type": "markdown",
   "id": "58cbc661",
   "metadata": {},
   "source": [
    "#### Утверждения-предикаты"
   ]
  },
  {
   "cell_type": "markdown",
   "id": "9c2333bb",
   "metadata": {},
   "source": [
    "1) PRED1(func, var1) - проверка TRUE(func(var1))\n",
    "\n",
    "...\n",
    "\n",
    "PRED5(func, var1, var2, var3, var4, var5) - проверка TRUE(func(var1, var2, var3, var4, var5))\n",
    "\n",
    "2) PRED_FORMAT1(func, var1) - проверка TRUE(func(var1)) с возможностью контролирования вывода ошибки.\n",
    "\n",
    "...\n",
    "\n",
    "PRED_FORMAT5(func, var1, var2, var3, var4, var5) - проверка TRUE(func(var1, var2, var3, var4, var5))"
   ]
  },
  {
   "cell_type": "markdown",
   "id": "2d5acb9e",
   "metadata": {},
   "source": [
    "Например:\n",
    "```cpp\n",
    "testing::AssertionResult func(const char *expr1, const char *expr2,\n",
    "                              int a, int b) {\n",
    "    if (a + b > 10) return testing::AssertionSuccess(); // успех\n",
    "    return testing::AssertionFailure() << expr1 << \" & \" << expr2 << \" error!\"; // неудача\n",
    "}\n",
    "```\n",
    "\n",
    "Вызов:\n",
    "```cpp\n",
    "TEST(suite, name) {\n",
    "    ASSERT_PRED_FORMAT2(func, 1, 2);\n",
    "}\n",
    "```\n",
    "\n",
    "Вывод:\n",
    "```\n",
    "Failure\n",
    "1 & 2 error!\n",
    "```"
   ]
  },
  {
   "cell_type": "markdown",
   "id": "290381d8",
   "metadata": {},
   "source": [
    "#### Вызов успеха или ошибки"
   ]
  },
  {
   "cell_type": "markdown",
   "id": "7a529335",
   "metadata": {},
   "source": [
    "1) SUCCEED() - успех\n",
    "\n",
    "2) FAIL() - критическая ошибка (остановка выполнения теста)\n",
    "\n",
    "3) ADD_FAILURE() - некритическая ошибка\n",
    "\n",
    "4) ADD_FAILURE_AT(path_to_file, line_number) - некритическая ошибка в заданных файле и строке"
   ]
  },
  {
   "cell_type": "markdown",
   "id": "4d0c64d1",
   "metadata": {},
   "source": [
    "### Другое"
   ]
  },
  {
   "cell_type": "markdown",
   "id": "33e2e3da",
   "metadata": {},
   "source": [
    "С помощью\n",
    "```cpp\n",
    "testing::StaticAssertTypeEq<Type1, Type2>();\n",
    "```\n",
    "можно контролировать совпадения типов Type1 и Type2."
   ]
  },
  {
   "cell_type": "markdown",
   "id": "7ccda3c4",
   "metadata": {},
   "source": [
    "Если утверждение будет провалено, то можно оставить комментарий:\n",
    "```cpp\n",
    "ASSERT_EQ(a, b) << \"error!!!\";\n",
    "```\n",
    "Если тест будет провален, то выведется сообщение:\n",
    "```\n",
    "Expected equality of these values:\n",
    "    a\n",
    "    b\n",
    "error!!!\n",
    "```"
   ]
  },
  {
   "cell_type": "markdown",
   "id": "14200452",
   "metadata": {},
   "source": [
    "Если при создании теста название теста начинается с **DISABLED_**, то данный тест не будет выполняться, \n",
    "он будет помечен как неиспользуемый."
   ]
  },
  {
   "cell_type": "markdown",
   "id": "834b7a45",
   "metadata": {},
   "source": [
    "### Фиксации"
   ]
  },
  {
   "cell_type": "markdown",
   "id": "39a21c75",
   "metadata": {},
   "source": [
    "Если в тестировании используется сложная конструкция, то можно задать класс, \n",
    "наследуемый от **testing::Test**, и прописать в нём инициализацию данной конструкции.\n",
    "\n",
    "После этот класс можно использовать в качестве тестов без повторной инициализации."
   ]
  },
  {
   "cell_type": "code",
   "execution_count": 7,
   "id": "824e57d2",
   "metadata": {},
   "outputs": [
    {
     "name": "stderr",
     "output_type": "stream",
     "text": [
      "\u001b[1minput_line_13:6:37: \u001b[0m\u001b[0;1;31merror: \u001b[0m\u001b[1muse of undeclared identifier 'testing'\u001b[0m\n",
      " struct TrueHardStructTest : public testing::Test {\n",
      "\u001b[0;1;32m                                    ^\n",
      "\u001b[0m\u001b[1minput_line_13:6:46: \u001b[0m\u001b[0;1;31merror: \u001b[0m\u001b[1mexpected class name\u001b[0m\n",
      " struct TrueHardStructTest : public testing::Test {\n",
      "\u001b[0;1;32m                                             ^\n",
      "\u001b[0m"
     ]
    },
    {
     "ename": "Interpreter Error",
     "evalue": "",
     "output_type": "error",
     "traceback": [
      "Interpreter Error: "
     ]
    }
   ],
   "source": [
    "struct TrueHardStruct {\n",
    "    int x;\n",
    "    explicit TrueHardStruct(int x) : x(x) {}\n",
    "};\n",
    "\n",
    "struct TrueHardStructTest : public testing::Test {\n",
    "protected:\n",
    "    TrueHardStruct *truehardstruct;\n",
    "\n",
    "    void SetUp() {\n",
    "        // типа конструктор\n",
    "        truehardstruct = new TrueHardStruct{123};\n",
    "    }\n",
    "\n",
    "    void TearDown() {\n",
    "        // типа деструктор\n",
    "        delete truehardstruct;\n",
    "    }\n",
    "};"
   ]
  },
  {
   "cell_type": "markdown",
   "id": "64c066ee",
   "metadata": {},
   "source": [
    "Для тестирования фиксации используется отдельный макрос **TEST_F**.\n",
    "\n",
    "В качестве первого параметра в него передаётся фиксация, \n",
    "а в качестве второго - название теста."
   ]
  },
  {
   "cell_type": "code",
   "execution_count": 8,
   "id": "6d80cb9c",
   "metadata": {},
   "outputs": [
    {
     "name": "stderr",
     "output_type": "stream",
     "text": [
      "\u001b[1minput_line_14:2:35: \u001b[0m\u001b[0;1;31merror: \u001b[0m\u001b[1mexpected ';' after expression\u001b[0m\n",
      " TEST_F(TrueHardStructTest, test1) {\n",
      "\u001b[0;1;32m                                  ^\n",
      "\u001b[0m\u001b[0;32m                                  ;\n",
      "\u001b[0m\u001b[1minput_line_14:2:9: \u001b[0m\u001b[0;1;31merror: \u001b[0m\u001b[1muse of undeclared identifier 'TrueHardStructTest'\u001b[0m\n",
      " TEST_F(TrueHardStructTest, test1) {\n",
      "\u001b[0;1;32m        ^\n",
      "\u001b[0m\u001b[1minput_line_14:2:29: \u001b[0m\u001b[0;1;31merror: \u001b[0m\u001b[1muse of undeclared identifier 'test1'\u001b[0m\n",
      " TEST_F(TrueHardStructTest, test1) {\n",
      "\u001b[0;1;32m                            ^\n",
      "\u001b[0m\u001b[1minput_line_14:3:15: \u001b[0m\u001b[0;1;31merror: \u001b[0m\u001b[1muse of undeclared identifier 'truehardstruct'\u001b[0m\n",
      "    ASSERT_EQ(truehardstruct->x, 10);\n",
      "\u001b[0;1;32m              ^\n",
      "\u001b[0m"
     ]
    },
    {
     "ename": "Interpreter Error",
     "evalue": "",
     "output_type": "error",
     "traceback": [
      "Interpreter Error: "
     ]
    }
   ],
   "source": [
    "TEST_F(TrueHardStructTest, test1) {\n",
    "    ASSERT_EQ(truehardstruct->x, 10);\n",
    "}"
   ]
  },
  {
   "cell_type": "markdown",
   "id": "5f243966",
   "metadata": {},
   "source": [
    "### Флаги"
   ]
  },
  {
   "cell_type": "markdown",
   "id": "137a193b",
   "metadata": {},
   "source": [
    "При запуске тестирования можно передавать программе некоторые флаги."
   ]
  },
  {
   "cell_type": "markdown",
   "id": "18783809",
   "metadata": {},
   "source": [
    "1) **--gtest_repeat=n**, где *n* - натуральное число. Запуск тестов n раз.\n",
    "\n",
    "2) **--gtest_break_on_failure** - остановить тестирование при первой неудаче.\n",
    "\n",
    "3) **--gtest_shuffle** - тестирование в случайном порядке.\n",
    "\n",
    "4) **--gtest_output=\"xml:output_file.xml\"** - результаты тестирования будут сохранены в *output_file.xml*.\n",
    "\n",
    "5) **--gtest_filter=FILTER** - запуск тестов с фильтром. Например, если *FILTER* == _TestSuitName.*_, \n",
    "то запустятся все тесты из набора TestSuitName. \n",
    "Если *FILTER* == *TestSuitName.TestName*, то запустится тест с названием *TestName* из набора *TestSuitName*.\n",
    "Если перед FILTER стоит \"-\", то данные тесты не будут выполняться, например, при \n",
    "*FILTER* == *-TestSuitName.TestName* тест *TestName* из набора *testSuitName* не будет запущен."
   ]
  }
 ],
 "metadata": {
  "kernelspec": {
   "display_name": "C++14",
   "language": "C++14",
   "name": "xcpp14"
  },
  "language_info": {
   "codemirror_mode": "text/x-c++src",
   "file_extension": ".cpp",
   "mimetype": "text/x-c++src",
   "name": "c++",
   "version": "14"
  }
 },
 "nbformat": 4,
 "nbformat_minor": 5
}
