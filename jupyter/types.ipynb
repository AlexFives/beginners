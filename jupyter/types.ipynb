{
 "cells": [
  {
   "cell_type": "markdown",
   "id": "7fdc2913",
   "metadata": {},
   "source": [
    "## Типы данных в С++"
   ]
  },
  {
   "cell_type": "markdown",
   "id": "4a97f922",
   "metadata": {},
   "source": [
    "### Занимают в памяти 1 байт:"
   ]
  },
  {
   "cell_type": "markdown",
   "id": "c9eb6dc9",
   "metadata": {},
   "source": [
    "bool: логический тип данных, имеет значения true и false."
   ]
  },
  {
   "cell_type": "code",
   "execution_count": 2,
   "id": "1ee528f4",
   "metadata": {},
   "outputs": [],
   "source": [
    "#include <iostream>\n",
    "\n",
    "using namespace std;"
   ]
  },
  {
   "cell_type": "code",
   "execution_count": 3,
   "id": "5c608bd7",
   "metadata": {},
   "outputs": [],
   "source": [
    "bool true_var = true;\n",
    "bool false_var = false;"
   ]
  },
  {
   "cell_type": "code",
   "execution_count": 4,
   "id": "aed6675b",
   "metadata": {},
   "outputs": [
    {
     "name": "stdout",
     "output_type": "stream",
     "text": [
      "1 0\n"
     ]
    }
   ],
   "source": [
    "cout << true_var << ' ' << false_var << endl;"
   ]
  },
  {
   "cell_type": "markdown",
   "id": "c01d09d2",
   "metadata": {},
   "source": [
    "char (int8_t): символьный тип данных. Поддерживает символы кодировки ASCII.\n",
    "    \n",
    "Может принимать значения целочисленного типа в пределах: $[{-2^7, 2^7-1}]$ или $[-128, 127]$."
   ]
  },
  {
   "cell_type": "code",
   "execution_count": 5,
   "id": "742184ac",
   "metadata": {},
   "outputs": [
    {
     "name": "stdout",
     "output_type": "stream",
     "text": [
      "a < b\n"
     ]
    }
   ],
   "source": [
    "char char_var = 'a';\n",
    "char char_integer_var = 60;\n",
    "int8_t _int8_var = 'b';\n",
    "\n",
    "cout << char_var << ' ' << char_integer_var << ' ' << _int8_var << endl;"
   ]
  },
  {
   "cell_type": "markdown",
   "id": "57773fac",
   "metadata": {},
   "source": [
    "Для char типа cout автоматически переводит число в символ."
   ]
  },
  {
   "cell_type": "markdown",
   "id": "0090d32c",
   "metadata": {},
   "source": [
    "unsigned char (unsigned int8t, uint8_t): также символьный тип данных, поддерживает символы кодировки ASCII, но принимает значения целочисленного типа в пределах $[0, 2^8-1]$ или $[0, 255]$.\n",
    "\n",
    "Ключевое слово unsigned обозначает беззнаковый тип данных.\n",
    "Также существует ключевое слово signed, что обозначает знаковый тип данных.\n",
    "Они используются с типами, поддерживающими целые числа. Как правило, стандартно такие типы уже являются signed \n",
    "(signed char = char)."
   ]
  },
  {
   "cell_type": "code",
   "execution_count": 6,
   "id": "dca53cea",
   "metadata": {},
   "outputs": [
    {
     "name": "stdout",
     "output_type": "stream",
     "text": [
      "a < b\n"
     ]
    }
   ],
   "source": [
    "unsigned char uchar_var = 'a';\n",
    "unsigned char uchar_integer_var = 60;\n",
    "uint8_t _uint8_var = 'b';\n",
    "\n",
    "cout << uchar_var << ' ' << uchar_integer_var << ' ' << _uint8_var << endl;"
   ]
  },
  {
   "cell_type": "markdown",
   "id": "09cbfc7e",
   "metadata": {},
   "source": [
    "### Занимают в памяти 2 байта:"
   ]
  },
  {
   "cell_type": "markdown",
   "id": "388501a5",
   "metadata": {},
   "source": [
    "short (short int, int16_t): целочисленный тип данных. \n",
    "Может принимать значения в пределах: $[-2^{15}, 2^{15}-1]$ или $[32768, 32767]$."
   ]
  },
  {
   "cell_type": "code",
   "execution_count": 7,
   "id": "569bcb30",
   "metadata": {},
   "outputs": [
    {
     "name": "stdout",
     "output_type": "stream",
     "text": [
      "30000 -30000 10\n"
     ]
    }
   ],
   "source": [
    "short short_var = 30000;\n",
    "short int short_int_var = -30000;\n",
    "int16_t _int16_var = 10;\n",
    "\n",
    "cout << short_var << ' ' << short_int_var << ' ' << _int16_var << endl;"
   ]
  },
  {
   "cell_type": "markdown",
   "id": "6f4b5501",
   "metadata": {},
   "source": [
    "unsigned short (unsigned short int, uint16_t): целочисленный беззнаковый тип данных. \n",
    "Может принимать значения в пределах: $[0, 2^{16}-1]$ или $[0, 65535]$."
   ]
  },
  {
   "cell_type": "code",
   "execution_count": 8,
   "id": "9e6bc358",
   "metadata": {},
   "outputs": [
    {
     "name": "stdout",
     "output_type": "stream",
     "text": [
      "60000 0 12312\n"
     ]
    }
   ],
   "source": [
    "unsigned short u_short_var = 60000;\n",
    "unsigned short int u_short_int_var = 0;\n",
    "uint16_t uint16_var = 12312;\n",
    "\n",
    "cout << u_short_var << ' ' << u_short_int_var << ' ' << uint16_var << endl;"
   ]
  },
  {
   "cell_type": "markdown",
   "id": "8961e1de",
   "metadata": {},
   "source": [
    "wchar_t: символьный тип данных, поддерживает символы кодировки UTF-16.\n",
    "Может принимать целочисленные значения в пределах: $[0, 2^{16}-1]$ или $[0, 65535]$."
   ]
  },
  {
   "cell_type": "code",
   "execution_count": 9,
   "id": "9afb8f95",
   "metadata": {},
   "outputs": [
    {
     "name": "stdout",
     "output_type": "stream",
     "text": [
      "49\n"
     ]
    }
   ],
   "source": [
    "wchar_t wchar = '1';\n",
    "\n",
    "cout << wchar << endl;"
   ]
  },
  {
   "cell_type": "markdown",
   "id": "9037464a",
   "metadata": {},
   "source": [
    "Тут cout выводит не символ, а число."
   ]
  },
  {
   "cell_type": "markdown",
   "id": "16657569",
   "metadata": {},
   "source": [
    "### Занимают в памяти 4 байта:"
   ]
  },
  {
   "cell_type": "markdown",
   "id": "ddf9bad1",
   "metadata": {},
   "source": [
    "int (signed, int32_t): целочисленный тип данных. \n",
    "Может принимать значения в пределах: $[-2^{31}, 2^{31}-1]$ или $[-2 147 483 648, 2 147 483 647]$."
   ]
  },
  {
   "cell_type": "code",
   "execution_count": 10,
   "id": "319e7d1a",
   "metadata": {},
   "outputs": [
    {
     "name": "stdout",
     "output_type": "stream",
     "text": [
      "2000000 0 -2000000\n"
     ]
    }
   ],
   "source": [
    "int int_var = 2000000;\n",
    "signed signed_var = 0;\n",
    "int32_t int32_var = -2000000;\n",
    "\n",
    "cout << int_var << ' ' << signed_var << ' ' << int32_var << endl;"
   ]
  },
  {
   "cell_type": "markdown",
   "id": "7966f90d",
   "metadata": {},
   "source": [
    "unsigned int (unsigned, uint32_t): целочисленный беззнаковый тип данных. \n",
    "Может принимать значения в пределах: $[0, 2^{32}-1]$ или $[0, 4294967295]$."
   ]
  },
  {
   "cell_type": "code",
   "execution_count": 11,
   "id": "4af2f721",
   "metadata": {},
   "outputs": [
    {
     "name": "stdout",
     "output_type": "stream",
     "text": [
      "4000000 2000000 0\n"
     ]
    }
   ],
   "source": [
    "unsigned int u_int_var = 4000000;\n",
    "unsigned unsigned_var = 2000000;\n",
    "uint32_t uint32_var = 0;\n",
    "\n",
    "cout << u_int_var << ' ' << unsigned_var << ' ' << uint32_var << endl;"
   ]
  },
  {
   "cell_type": "markdown",
   "id": "844278b2",
   "metadata": {},
   "source": [
    "float: тип данных для чисел с плавающей точкой. \n",
    "Может принимать значения в пределах: $[-3.4\\mathrm{E}{+38}, -3.4\\mathrm{E}{-38}] \\cup [3.4\\mathrm{E}{-38}, 3.4\\mathrm{E}{+38}]$."
   ]
  },
  {
   "cell_type": "code",
   "execution_count": 12,
   "id": "aa137650",
   "metadata": {},
   "outputs": [
    {
     "name": "stdout",
     "output_type": "stream",
     "text": [
      "12345.7 1e+10 -0.022\n"
     ]
    }
   ],
   "source": [
    "float float_var1 = 12345.6789;\n",
    "float float_var2 = 1e10;\n",
    "float float_var3 = -22e-3;\n",
    "\n",
    "cout << float_var1 << ' ' << float_var2 << ' ' << float_var3 << endl;"
   ]
  },
  {
   "cell_type": "markdown",
   "id": "60c1649e",
   "metadata": {},
   "source": [
    "### Занимают в памяти 8 байт:"
   ]
  },
  {
   "cell_type": "markdown",
   "id": "72edfdff",
   "metadata": {},
   "source": [
    "long long (int64_t): целочисленный тип данных. \n",
    "Может принимать значения в пределах: $[-2^{63}, 2^{63}-1]$ или $[-9223372036854775808, 9223372036854775807]."
   ]
  },
  {
   "cell_type": "code",
   "execution_count": 13,
   "id": "5aaa0443",
   "metadata": {},
   "outputs": [
    {
     "name": "stdout",
     "output_type": "stream",
     "text": [
      "900000000000000000 -9000000000000000000\n"
     ]
    }
   ],
   "source": [
    "long long long_long_var = 900000000000000000;\n",
    "int64_t int64_var = -9000000000000000000;\n",
    "\n",
    "cout << long_long_var << ' ' << int64_var << endl;"
   ]
  },
  {
   "cell_type": "markdown",
   "id": "6e347240",
   "metadata": {},
   "source": [
    "unsigned long long (uint64_t): целочисленный беззнаковый тип данных. \n",
    "Может принимать значения в пределах: $[0, 2^{64}-1]$ или $[0, 18446744073709551615]$."
   ]
  },
  {
   "cell_type": "code",
   "execution_count": 14,
   "id": "9904460d",
   "metadata": {},
   "outputs": [
    {
     "name": "stdout",
     "output_type": "stream",
     "text": [
      "1800000000000000000 0\n"
     ]
    }
   ],
   "source": [
    "unsigned long long u_long_long_var = 1800000000000000000;\n",
    "uint64_t uint64_var = 0;\n",
    "\n",
    "cout << u_long_long_var << ' ' << uint64_var << endl;"
   ]
  },
  {
   "cell_type": "markdown",
   "id": "0b932153",
   "metadata": {},
   "source": [
    "double (long double): тип данных для чисел с плавающей точкой. Может приниматься значения в пределах: \n",
    "$[-1.7\\mathrm{E}{+308}, -1.7\\mathrm{E}{-308}] \\cup [1.7\\mathrm{E}{-308}, 1.7\\mathrm{E}{+308}]$."
   ]
  },
  {
   "cell_type": "code",
   "execution_count": 15,
   "id": "03ba56db",
   "metadata": {},
   "outputs": [
    {
     "name": "stdout",
     "output_type": "stream",
     "text": [
      "1.23483e+10 1e+300 -1.9e-304\n"
     ]
    }
   ],
   "source": [
    "double double_var1 = 12348273487.76123876786;\n",
    "double double_var2 = 1e300;\n",
    "double double_var3 = -19e-305;\n",
    "\n",
    "cout << double_var1 << ' ' << double_var2 << ' ' << double_var3 << endl;"
   ]
  }
 ],
 "metadata": {
  "kernelspec": {
   "display_name": "C++14",
   "language": "C++14",
   "name": "xcpp14"
  },
  "language_info": {
   "codemirror_mode": "text/x-c++src",
   "file_extension": ".cpp",
   "mimetype": "text/x-c++src",
   "name": "c++",
   "version": "14"
  }
 },
 "nbformat": 4,
 "nbformat_minor": 5
}
