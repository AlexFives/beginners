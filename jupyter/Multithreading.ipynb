{
 "cells": [
  {
   "cell_type": "markdown",
   "id": "519fcfde",
   "metadata": {},
   "source": [
    "# Многопоточность в C++"
   ]
  },
  {
   "cell_type": "markdown",
   "id": "c4a06b87",
   "metadata": {},
   "source": [
    "Иногда необходимо, чтобы некоторые процессы в программе выполнялись параллельно. \n",
    "В осуществлении этого может пригодиться многопоточность."
   ]
  },
  {
   "cell_type": "markdown",
   "id": "97b4791d",
   "metadata": {},
   "source": [
    "**Многопоточность** - свойство платформы или программы, заключающееся в том, что \n",
    "процесс этой программы может состоять из нескольких потоков, которые выполняются \"параллельно\", \n",
    "т. е. не имея определённого порядка выполнения во времени."
   ]
  },
  {
   "cell_type": "markdown",
   "id": "3e0f9d00",
   "metadata": {},
   "source": [
    "**Процесс** - экземпляр программы во время выполнения.\n",
    "\n",
    "**Поток** - определённые части программы (кода), выполняющиеся без предаписанного порядка во времени."
   ]
  },
  {
   "cell_type": "markdown",
   "id": "94004dfa",
   "metadata": {},
   "source": [
    "## Как работает многопоточность?"
   ]
  },
  {
   "cell_type": "markdown",
   "id": "01706b0d",
   "metadata": {},
   "source": [
    "Пусть имеются две задачи: 1 и 2."
   ]
  },
  {
   "attachments": {
    "Screenshot%20from%202022-02-09%2016-27-10.png": {
     "image/png": "[encoded data removed]"
    }
   },
   "cell_type": "markdown",
   "id": "e9d38b2f",
   "metadata": {},
   "source": [
    "![Screenshot%20from%202022-02-09%2016-27-10.png](attachment:Screenshot%20from%202022-02-09%2016-27-10.png)"
   ]
  },
  {
   "cell_type": "markdown",
   "id": "8ac01631",
   "metadata": {},
   "source": [
    "Если их выполнять последовательно, то получим, что сначала выполнится задача 1, а потом задача 2."
   ]
  },
  {
   "attachments": {
    "Screenshot%20from%202022-02-09%2016-28-08.png": {
     "image/png": "[encoded data removed]"
    }
   },
   "cell_type": "markdown",
   "id": "4a9db233",
   "metadata": {},
   "source": [
    "![Screenshot%20from%202022-02-09%2016-28-08.png](attachment:Screenshot%20from%202022-02-09%2016-28-08.png)"
   ]
  },
  {
   "cell_type": "markdown",
   "id": "b258311f",
   "metadata": {},
   "source": [
    "Если же использовать многопоточность, то задачи будут выполняться постепенно: \n",
    "сначала часть 1, потом часть 2, снова часть 1, а за ней часть 2..."
   ]
  },
  {
   "attachments": {
    "Screenshot%20from%202022-02-09%2016-30-21.png": {
     "image/png": "[encoded data removed]"
    }
   },
   "cell_type": "markdown",
   "id": "96a06b2a",
   "metadata": {},
   "source": [
    "![Screenshot%20from%202022-02-09%2016-30-21.png](attachment:Screenshot%20from%202022-02-09%2016-30-21.png)"
   ]
  },
  {
   "cell_type": "markdown",
   "id": "32ba8cca",
   "metadata": {},
   "source": [
    "## Где используется многопоточность?"
   ]
  },
  {
   "cell_type": "markdown",
   "id": "f305776e",
   "metadata": {},
   "source": [
    "**Приложения с пользовательским интерфейсом.**\n",
    "\n",
    "За работу интерфейса отвечает один поток, за вычисления - другие. \n",
    "Это позволяет интерфейсу не зависать во время вычислений."
   ]
  },
  {
   "cell_type": "markdown",
   "id": "b919d34d",
   "metadata": {},
   "source": [
    "**Ожидание.**\n",
    "\n",
    "Пока одна часть программы ожидает чего-либо, другие могут выполняться, \n",
    "т. к. ожидаемая часть находится в другом потоке."
   ]
  },
  {
   "cell_type": "markdown",
   "id": "26897f4b",
   "metadata": {},
   "source": [
    "**Повышение производительности.**\n",
    "\n",
    "Некоторые задачи следует разбивать на потоки для повышения производительности. \n",
    "Например, фильтрация каких-то данных разными фильтрами."
   ]
  },
  {
   "cell_type": "markdown",
   "id": "ef0a97fb",
   "metadata": {},
   "source": [
    "## Проблемы многопоточности"
   ]
  },
  {
   "cell_type": "markdown",
   "id": "46b65a8d",
   "metadata": {},
   "source": [
    "Конечно же, не всё идеально, \n",
    "поэтому за скорость и удобство приходится расплачиваться проблемами с синхронизацией. \n",
    "Например, одновременным доступом к объекту разными потоками.\n",
    "\n",
    "Некоторые из проблем хорошо описаны на задачах, которые представлены ниже:\n",
    "\n",
    "1) [Задача об обедающих философах](https://ru.wikipedia.org/wiki/Задача_об_обедающих_философах)\n",
    "\n",
    "2) [Проблема спящего парикмахера](https://ru.wikipedia.org/wiki/Проблема_спящего_парикмахера)\n",
    "\n",
    "3) [Задача о курильщиках](https://ru.wikipedia.org/wiki/Задача_о_курильщиках)\n",
    "\n",
    "4) [Задача о читателях-писателях](https://ru.wikipedia.org/wiki/Задача_о_читателях-писателях)"
   ]
  },
  {
   "cell_type": "markdown",
   "id": "29387201",
   "metadata": {},
   "source": [
    "## Работа с многопоточностью в C++"
   ]
  },
  {
   "cell_type": "markdown",
   "id": "f625c26b",
   "metadata": {},
   "source": [
    "Наконец-то от теории перешли к практике.\n",
    "\n",
    "Для начала, чтобы работать с многопоточностью, необходимо добавить в файл CMakeLists.txt строки: \n",
    "```CMake\n",
    "find_package(Threads REQUIRED)\n",
    "target_link_libraries(${PROJECT_NAME} Threads::Threads)\n",
    "```"
   ]
  },
  {
   "cell_type": "markdown",
   "id": "ac9308b8",
   "metadata": {},
   "source": [
    "Далее необходимо включить модуль **thread**."
   ]
  },
  {
   "cell_type": "code",
   "execution_count": 2,
   "id": "d4867492",
   "metadata": {},
   "outputs": [],
   "source": [
    "#include <thread>"
   ]
  },
  {
   "cell_type": "markdown",
   "id": "c7b0ee7d",
   "metadata": {},
   "source": [
    "Чтобы создать поток, нужно инициализировать экземпляр класса **[std::thread](https://en.cppreference.com/w/cpp/thread/thread)**.\n",
    "\n",
    "Этот класс принимает функтор (то, что можно вызвать) и аргументы, которые передаются в этот функтор, если необходимо."
   ]
  },
  {
   "cell_type": "code",
   "execution_count": 7,
   "id": "23330f9d",
   "metadata": {},
   "outputs": [],
   "source": [
    "#include <iostream>\n",
    "using namespace std;"
   ]
  },
  {
   "cell_type": "code",
   "execution_count": 8,
   "id": "495be2c6",
   "metadata": {},
   "outputs": [],
   "source": [
    "void some_functor() {\n",
    "    cout << 123 << endl;\n",
    "}"
   ]
  },
  {
   "cell_type": "code",
   "execution_count": 9,
   "id": "94042559",
   "metadata": {},
   "outputs": [
    {
     "name": "stdout",
     "output_type": "stream",
     "text": [
      "123\n"
     ]
    }
   ],
   "source": [
    "thread some_thread(some_functor);"
   ]
  },
  {
   "cell_type": "code",
   "execution_count": 10,
   "id": "f95fc4e4",
   "metadata": {},
   "outputs": [],
   "source": [
    "some_thread.join();"
   ]
  },
  {
   "cell_type": "markdown",
   "id": "5f7df555",
   "metadata": {},
   "source": [
    "Вызов *some_thread.join()* блокирует текущий поток, пока вызываемый поток (some_thread) не выполнится. \n",
    "Она используется для контроля окончания работы потока.\n",
    "\n",
    "Как правило функции для потоков имеют тип *void*, \n",
    "т. к. возвращаемое ей значение в любом случае будет проигнорировано."
   ]
  },
  {
   "cell_type": "markdown",
   "id": "e12a3bde",
   "metadata": {},
   "source": [
    "Если функция имеет аргументы, то они передаются в конструктор класса *std::thread*."
   ]
  },
  {
   "cell_type": "code",
   "execution_count": 11,
   "id": "ecfedd79",
   "metadata": {},
   "outputs": [],
   "source": [
    "void thread_func(int arg1, int arg2) {\n",
    "    cout << arg1 + arg2 << endl;\n",
    "}"
   ]
  },
  {
   "cell_type": "code",
   "execution_count": 12,
   "id": "42ebefc7",
   "metadata": {},
   "outputs": [
    {
     "name": "stdout",
     "output_type": "stream",
     "text": [
      "5\n"
     ]
    }
   ],
   "source": [
    "thread my_thread(thread_func, 4, 1);"
   ]
  },
  {
   "cell_type": "code",
   "execution_count": 13,
   "id": "24168881",
   "metadata": {},
   "outputs": [],
   "source": [
    "my_thread.join();"
   ]
  },
  {
   "cell_type": "markdown",
   "id": "e706c714",
   "metadata": {},
   "source": [
    "Если функция принимает аргументы по ссылке, то в потом нужно передавать аргумент через \n",
    "**[std::ref или std::cref](https://en.cppreference.com/w/cpp/utility/functional/ref)**."
   ]
  },
  {
   "cell_type": "code",
   "execution_count": 18,
   "id": "52314e70",
   "metadata": {},
   "outputs": [],
   "source": [
    "void thread_func(int &x) {\n",
    "    cout << x << endl;\n",
    "}"
   ]
  },
  {
   "cell_type": "code",
   "execution_count": 19,
   "id": "d167a27b",
   "metadata": {},
   "outputs": [],
   "source": [
    "#include <functional> // для использования std::ref"
   ]
  },
  {
   "cell_type": "code",
   "execution_count": 20,
   "id": "aef2751d",
   "metadata": {},
   "outputs": [
    {
     "name": "stderr",
     "output_type": "stream",
     "text": [
      "\u001b[1minput_line_28:3:8: \u001b[0m\u001b[0;1;31merror: \u001b[0m\u001b[1mno matching constructor for initialization of 'std::thread'\u001b[0m\n",
      "thread thr(thread_func, std::ref(arg));\n",
      "\u001b[0;1;32m       ^   ~~~~~~~~~~~~~~~~~~~~~~~~~~\n",
      "\u001b[0m\u001b[1m/home/alexfives/anaconda3/envs/jupyter_cpp/bin/../lib/gcc/x86_64-conda-linux-gnu/9.3.0/../../../../x86_64-conda-linux-gnu/include/c++/9.3.0/thread:117:7: \u001b[0m\u001b[0;1;30mnote: \u001b[0mcandidate template ignored: couldn't infer template argument '_Callable'\u001b[0m\n",
      "      thread(_Callable&& __f, _Args&&... __args)\n",
      "\u001b[0;1;32m      ^\n",
      "\u001b[0m\u001b[1m/home/alexfives/anaconda3/envs/jupyter_cpp/bin/../lib/gcc/x86_64-conda-linux-gnu/9.3.0/../../../../x86_64-conda-linux-gnu/include/c++/9.3.0/thread:142:5: \u001b[0m\u001b[0;1;30mnote: \u001b[0mcandidate constructor not viable: requires 1 argument, but 2 were provided\u001b[0m\n",
      "    thread(const thread&) = delete;\n",
      "\u001b[0;1;32m    ^\n",
      "\u001b[0m\u001b[1m/home/alexfives/anaconda3/envs/jupyter_cpp/bin/../lib/gcc/x86_64-conda-linux-gnu/9.3.0/../../../../x86_64-conda-linux-gnu/include/c++/9.3.0/thread:144:5: \u001b[0m\u001b[0;1;30mnote: \u001b[0mcandidate constructor not viable: requires single argument '__t', but 2 arguments were provided\u001b[0m\n",
      "    thread(thread&& __t) noexcept\n",
      "\u001b[0;1;32m    ^\n",
      "\u001b[0m\u001b[1m/home/alexfives/anaconda3/envs/jupyter_cpp/bin/../lib/gcc/x86_64-conda-linux-gnu/9.3.0/../../../../x86_64-conda-linux-gnu/include/c++/9.3.0/thread:112:5: \u001b[0m\u001b[0;1;30mnote: \u001b[0mcandidate constructor not viable: requires 0 arguments, but 2 were provided\u001b[0m\n",
      "    thread() noexcept = default;\n",
      "\u001b[0;1;32m    ^\n",
      "\u001b[0m"
     ]
    },
    {
     "ename": "Interpreter Error",
     "evalue": "",
     "output_type": "error",
     "traceback": [
      "Interpreter Error: "
     ]
    }
   ],
   "source": [
    "int arg = 10;\n",
    "\n",
    "thread thr(thread_func, std::ref(arg));"
   ]
  },
  {
   "cell_type": "markdown",
   "id": "2290810e",
   "metadata": {},
   "source": [
    "Также поток можно \"отсоединить\" методом **detach()**. После вызова этого метода поток начинает работать \"на фоне\", пока не завершится. К нему уже нельзя подключиться методом *.join()*."
   ]
  },
  {
   "cell_type": "markdown",
   "id": "7c48a35b",
   "metadata": {},
   "source": [
    "Исключения в потоках не будут отправляться в основной поток, поэтому их необходимо обрабатывать внутри потока."
   ]
  },
  {
   "cell_type": "code",
   "execution_count": 21,
   "id": "e938afa6",
   "metadata": {},
   "outputs": [],
   "source": [
    "void thread_func() {\n",
    "    throw 1;\n",
    "}"
   ]
  },
  {
   "cell_type": "code",
   "execution_count": 26,
   "id": "cef65f77",
   "metadata": {},
   "outputs": [
    {
     "name": "stderr",
     "output_type": "stream",
     "text": [
      "\u001b[1minput_line_34:4:12: \u001b[0m\u001b[0;1;31merror: \u001b[0m\u001b[1mno matching constructor for initialization of 'std::thread'\u001b[0m\n",
      "    thread thr(thread_func);\n",
      "\u001b[0;1;32m           ^   ~~~~~~~~~~~\n",
      "\u001b[0m\u001b[1m/home/alexfives/anaconda3/envs/jupyter_cpp/bin/../lib/gcc/x86_64-conda-linux-gnu/9.3.0/../../../../x86_64-conda-linux-gnu/include/c++/9.3.0/thread:142:5: \u001b[0m\u001b[0;1;30mnote: \u001b[0mcandidate constructor not viable: no overload of 'thread_func' matching 'const std::thread' for 1st argument\u001b[0m\n",
      "    thread(const thread&) = delete;\n",
      "\u001b[0;1;32m    ^\n",
      "\u001b[0m\u001b[1m/home/alexfives/anaconda3/envs/jupyter_cpp/bin/../lib/gcc/x86_64-conda-linux-gnu/9.3.0/../../../../x86_64-conda-linux-gnu/include/c++/9.3.0/thread:144:5: \u001b[0m\u001b[0;1;30mnote: \u001b[0mcandidate constructor not viable: no overload of 'thread_func' matching 'std::thread' for 1st argument\u001b[0m\n",
      "    thread(thread&& __t) noexcept\n",
      "\u001b[0;1;32m    ^\n",
      "\u001b[0m\u001b[1m/home/alexfives/anaconda3/envs/jupyter_cpp/bin/../lib/gcc/x86_64-conda-linux-gnu/9.3.0/../../../../x86_64-conda-linux-gnu/include/c++/9.3.0/thread:117:7: \u001b[0m\u001b[0;1;30mnote: \u001b[0mcandidate template ignored: couldn't infer template argument '_Callable'\u001b[0m\n",
      "      thread(_Callable&& __f, _Args&&... __args)\n",
      "\u001b[0;1;32m      ^\n",
      "\u001b[0m\u001b[1m/home/alexfives/anaconda3/envs/jupyter_cpp/bin/../lib/gcc/x86_64-conda-linux-gnu/9.3.0/../../../../x86_64-conda-linux-gnu/include/c++/9.3.0/thread:112:5: \u001b[0m\u001b[0;1;30mnote: \u001b[0mcandidate constructor not viable: requires 0 arguments, but 1 was provided\u001b[0m\n",
      "    thread() noexcept = default;\n",
      "\u001b[0;1;32m    ^\n",
      "\u001b[0m\u001b[1minput_line_34:9:1: \u001b[0m\u001b[0;1;31merror: \u001b[0m\u001b[1muse of undeclared identifier 'thr'\u001b[0m\n",
      "thr.join();\n",
      "\u001b[0;1;32m^\n",
      "\u001b[0mIn file included from input_line_5:1:\n",
      "In file included from /home/alexfives/anaconda3/envs/jupyter_cpp/include/xeus/xinterpreter.hpp:17:\n",
      "In file included from /home/alexfives/anaconda3/envs/jupyter_cpp/include/xeus/xcomm.hpp:19:\n",
      "In file included from /home/alexfives/anaconda3/envs/jupyter_cpp/include/nlohmann/json.hpp:42:\n",
      "In file included from /home/alexfives/anaconda3/envs/jupyter_cpp/bin/../lib/gcc/x86_64-conda-linux-gnu/9.3.0/../../../../x86_64-conda-linux-gnu/include/c++/9.3.0/iterator:64:\n",
      "\u001b[1m/home/alexfives/anaconda3/envs/jupyter_cpp/bin/../lib/gcc/x86_64-conda-linux-gnu/9.3.0/../../../../x86_64-conda-linux-gnu/include/c++/9.3.0/ostream:568:8: \u001b[0m\u001b[0;1;31merror: \u001b[0m\u001b[1mno member named 'setstate' in 'std::basic_ostream<char>'\u001b[0m\n",
      "        __out.setstate(ios_base::badbit);\n",
      "\u001b[0;1;32m        ~~~~~ ^\n",
      "\u001b[0m\u001b[1minput_line_34:7:10: \u001b[0m\u001b[0;1;30mnote: \u001b[0min instantiation of function template specialization 'std::operator<<<std::char_traits<char> >' requested here\u001b[0m\n",
      "    cout << \"exception\" << endl;\n",
      "\u001b[0;1;32m         ^\n",
      "\u001b[0m"
     ]
    },
    {
     "ename": "Interpreter Error",
     "evalue": "",
     "output_type": "error",
     "traceback": [
      "Interpreter Error: "
     ]
    }
   ],
   "source": [
    "// такое не работает\n",
    "try {\n",
    "    thread thr(thread_func);\n",
    "}\n",
    "catch (int) {\n",
    "    cout << \"exception\" << endl;\n",
    "}\n",
    "\n",
    "thr.join();"
   ]
  },
  {
   "cell_type": "code",
   "execution_count": 24,
   "id": "35cb189c",
   "metadata": {},
   "outputs": [
    {
     "name": "stderr",
     "output_type": "stream",
     "text": [
      "In file included from input_line_5:1:\n",
      "In file included from /home/alexfives/anaconda3/envs/jupyter_cpp/include/xeus/xinterpreter.hpp:17:\n",
      "In file included from /home/alexfives/anaconda3/envs/jupyter_cpp/include/xeus/xcomm.hpp:19:\n",
      "In file included from /home/alexfives/anaconda3/envs/jupyter_cpp/include/nlohmann/json.hpp:42:\n",
      "In file included from /home/alexfives/anaconda3/envs/jupyter_cpp/bin/../lib/gcc/x86_64-conda-linux-gnu/9.3.0/../../../../x86_64-conda-linux-gnu/include/c++/9.3.0/iterator:64:\n",
      "\u001b[1m/home/alexfives/anaconda3/envs/jupyter_cpp/bin/../lib/gcc/x86_64-conda-linux-gnu/9.3.0/../../../../x86_64-conda-linux-gnu/include/c++/9.3.0/ostream:568:8: \u001b[0m\u001b[0;1;31merror: \u001b[0m\u001b[1mno member named 'setstate' in 'std::basic_ostream<char>'\u001b[0m\n",
      "        __out.setstate(ios_base::badbit);\n",
      "\u001b[0;1;32m        ~~~~~ ^\n",
      "\u001b[0m\u001b[1minput_line_32:7:14: \u001b[0m\u001b[0;1;30mnote: \u001b[0min instantiation of function template specialization 'std::operator<<<std::char_traits<char> >' requested here\u001b[0m\n",
      "        cout << \"exception\" << endl;\n",
      "\u001b[0;1;32m             ^\n",
      "\u001b[0m"
     ]
    },
    {
     "ename": "Interpreter Error",
     "evalue": "",
     "output_type": "error",
     "traceback": [
      "Interpreter Error: "
     ]
    }
   ],
   "source": [
    "// правильное решение\n",
    "void thread_func() {\n",
    "    try {\n",
    "        throw 1;\n",
    "    }\n",
    "    catch (...) {\n",
    "        cout << \"exception\" << endl;\n",
    "    }\n",
    "}"
   ]
  },
  {
   "cell_type": "code",
   "execution_count": 27,
   "id": "e5fac398",
   "metadata": {},
   "outputs": [
    {
     "name": "stderr",
     "output_type": "stream",
     "text": [
      "\u001b[1minput_line_35:2:9: \u001b[0m\u001b[0;1;31merror: \u001b[0m\u001b[1mno matching constructor for initialization of 'std::thread'\u001b[0m\n",
      " thread thr(thread_func);\n",
      "\u001b[0;1;32m        ^   ~~~~~~~~~~~\n",
      "\u001b[0m\u001b[1m/home/alexfives/anaconda3/envs/jupyter_cpp/bin/../lib/gcc/x86_64-conda-linux-gnu/9.3.0/../../../../x86_64-conda-linux-gnu/include/c++/9.3.0/thread:142:5: \u001b[0m\u001b[0;1;30mnote: \u001b[0mcandidate constructor not viable: no overload of 'thread_func' matching 'const std::thread' for 1st argument\u001b[0m\n",
      "    thread(const thread&) = delete;\n",
      "\u001b[0;1;32m    ^\n",
      "\u001b[0m\u001b[1m/home/alexfives/anaconda3/envs/jupyter_cpp/bin/../lib/gcc/x86_64-conda-linux-gnu/9.3.0/../../../../x86_64-conda-linux-gnu/include/c++/9.3.0/thread:144:5: \u001b[0m\u001b[0;1;30mnote: \u001b[0mcandidate constructor not viable: no overload of 'thread_func' matching 'std::thread' for 1st argument\u001b[0m\n",
      "    thread(thread&& __t) noexcept\n",
      "\u001b[0;1;32m    ^\n",
      "\u001b[0m\u001b[1m/home/alexfives/anaconda3/envs/jupyter_cpp/bin/../lib/gcc/x86_64-conda-linux-gnu/9.3.0/../../../../x86_64-conda-linux-gnu/include/c++/9.3.0/thread:117:7: \u001b[0m\u001b[0;1;30mnote: \u001b[0mcandidate template ignored: couldn't infer template argument '_Callable'\u001b[0m\n",
      "      thread(_Callable&& __f, _Args&&... __args)\n",
      "\u001b[0;1;32m      ^\n",
      "\u001b[0m\u001b[1m/home/alexfives/anaconda3/envs/jupyter_cpp/bin/../lib/gcc/x86_64-conda-linux-gnu/9.3.0/../../../../x86_64-conda-linux-gnu/include/c++/9.3.0/thread:112:5: \u001b[0m\u001b[0;1;30mnote: \u001b[0mcandidate constructor not viable: requires 0 arguments, but 1 was provided\u001b[0m\n",
      "    thread() noexcept = default;\n",
      "\u001b[0;1;32m    ^\n",
      "\u001b[0m"
     ]
    },
    {
     "ename": "Interpreter Error",
     "evalue": "",
     "output_type": "error",
     "traceback": [
      "Interpreter Error: "
     ]
    }
   ],
   "source": [
    "thread thr(thread_func);\n",
    "\n",
    "thr.join();"
   ]
  },
  {
   "cell_type": "markdown",
   "id": "20892e9f",
   "metadata": {},
   "source": [
    "### Доступ к данным и блокировки"
   ]
  },
  {
   "cell_type": "markdown",
   "id": "67a70775",
   "metadata": {},
   "source": [
    "Предположим, у нас есть 2 потока, которые в цикле увеличивают значение одной переменной *X* на 1.\n",
    "\n",
    "Что может пойти не так?"
   ]
  },
  {
   "cell_type": "code",
   "execution_count": 52,
   "id": "dbd6a814",
   "metadata": {},
   "outputs": [],
   "source": [
    "int X = 0;"
   ]
  },
  {
   "cell_type": "code",
   "execution_count": 53,
   "id": "b15ce12d",
   "metadata": {},
   "outputs": [],
   "source": [
    "void incX(int n) {\n",
    "    for (int i = 0; i < n; i++) ::X++;\n",
    "}"
   ]
  },
  {
   "cell_type": "code",
   "execution_count": 54,
   "id": "6da89623",
   "metadata": {},
   "outputs": [],
   "source": [
    "thread t1(incX, 1'000'000);\n",
    "\n",
    "thread t2(incX, 2'000'000);\n",
    "\n",
    "t1.join();\n",
    "t2.join();"
   ]
  },
  {
   "cell_type": "markdown",
   "id": "8fddf759",
   "metadata": {},
   "source": [
    "1 000 000 + 2 000 000 = 3 000 000, значит, после завершения работы потоков значение переменной *X* должно равняться 3 000 000."
   ]
  },
  {
   "cell_type": "code",
   "execution_count": 55,
   "id": "675f9f3e",
   "metadata": {},
   "outputs": [
    {
     "name": "stdout",
     "output_type": "stream",
     "text": [
      "2043636"
     ]
    }
   ],
   "source": [
    "cout << X;"
   ]
  },
  {
   "cell_type": "markdown",
   "id": "e4b8f449",
   "metadata": {},
   "source": [
    "<font color='#EDF2F3'>~~С хуя ли?~~</font>\n",
    "\n",
    "**Почему не 3 000 000?**"
   ]
  },
  {
   "cell_type": "markdown",
   "id": "28d1ec27",
   "metadata": {},
   "source": [
    "Что происходит на самом деле:\n",
    "\n",
    "На каждом шаге цикла в *incX* происходят 3 действия:\n",
    "```\n",
    "1) Считывается значение X\n",
    "2) Значение X увеличивается на 1\n",
    "3) Записывается новое значение X\n",
    "```\n",
    "\n",
    "Выполнение потока может остановиться в любой момент, поэтому можем получить такую ситуацию:\n",
    "\n",
    "<font color='red'>Красный</font> - первый поток,\n",
    "<font color='blue'>синий</font> - второй поток.\n",
    "\n",
    "<font color='red'>1) Считал, увеличил, записал.</font>\n",
    "\n",
    "<font color='red'>1) Считал, увеличил, записал.</font>\n",
    "\n",
    "<font color='blue'>2) Считал, увеличил, записал.</font>\n",
    "\n",
    "<font color='blue'>2) Считал, увеличил, записал.</font>\n",
    "\n",
    "...\n",
    "\n",
    "...\n",
    "\n",
    "<font color='red'>1) Считал, увеличил, </font>\n",
    "\n",
    "<font color='blue'>2) Считал, увеличил, записал.</font>\n",
    "\n",
    "<font color='blue'>2) Считал, увеличил, записал.</font>\n",
    "\n",
    "...\n",
    "\n",
    "<font color='red'>1) записал.</font>\n",
    "\n",
    "...\n",
    "\n",
    "...\n",
    "\n",
    "Тогда, начиная с момента, на котором шаг цикла недовыполнился, начнётся сбой, \n",
    "т. к. в *X* запишутся изменения первого потока, а это значит, что те изменения, \n",
    "которые были внесены в *X* в результате выполнения второго потока исчезнут."
   ]
  },
  {
   "cell_type": "markdown",
   "id": "af281eb1",
   "metadata": {},
   "source": [
    "#### Как решить?"
   ]
  },
  {
   "cell_type": "markdown",
   "id": "d65ef3be",
   "metadata": {},
   "source": [
    "Для этого используются блокировки (примитивы синхронизации), \n",
    "самая простейшая - **[mutex](https://en.cppreference.com/w/cpp/thread/mutex)**.\n",
    "\n",
    "Смысл блокировок прост: если один поток получил доступ к какому-то объекту, \n",
    "то другие потоки не могут получить доступ к этому объекту, пока он заблокирован первым потоком."
   ]
  },
  {
   "cell_type": "markdown",
   "id": "0c4ca28e",
   "metadata": {},
   "source": [
    "Реализация той же задачи с блокировкой:"
   ]
  },
  {
   "cell_type": "code",
   "execution_count": 57,
   "id": "0b4b12c3",
   "metadata": {},
   "outputs": [],
   "source": [
    "#include <mutex> // включаем заголовочный файл блокировки mutex"
   ]
  },
  {
   "cell_type": "code",
   "execution_count": 63,
   "id": "fe5db859",
   "metadata": {},
   "outputs": [],
   "source": [
    "int X = 0;\n",
    "\n",
    "mutex BLOCK; // инициализируем глобальную переменную блокировки"
   ]
  },
  {
   "cell_type": "code",
   "execution_count": 64,
   "id": "df29144c",
   "metadata": {},
   "outputs": [],
   "source": [
    "void incX(int n) {\n",
    "    for (int i = 0; i < n; i++) {\n",
    "        ::BLOCK.lock(); // устанавливаем блокировку\n",
    "        ::X++;\n",
    "        ::BLOCK.unlock(); // снимаем блокировку\n",
    "    }\n",
    "}"
   ]
  },
  {
   "cell_type": "code",
   "execution_count": 65,
   "id": "f02a1216",
   "metadata": {},
   "outputs": [],
   "source": [
    "thread t1(incX, 1'000'000);\n",
    "\n",
    "thread t2(incX, 2'000'000);\n",
    "\n",
    "t1.join();\n",
    "t2.join();"
   ]
  },
  {
   "cell_type": "code",
   "execution_count": 66,
   "id": "1bec6174",
   "metadata": {},
   "outputs": [
    {
     "name": "stdout",
     "output_type": "stream",
     "text": [
      "3000000"
     ]
    }
   ],
   "source": [
    "cout << X;"
   ]
  },
  {
   "cell_type": "markdown",
   "id": "4abc1bc4",
   "metadata": {},
   "source": [
    "Получили 3 000 000, как и предполагалось."
   ]
  },
  {
   "cell_type": "markdown",
   "id": "958c714e",
   "metadata": {},
   "source": [
    "Также управлять блокировкой можно с помощью класса **lock_guard**.\n",
    "\n",
    "lock_guard устанавливает блокировку на мьютекс при инициализации \n",
    "и снимает с них блокировку при уничтожении объекта класса.\n",
    "\n",
    "На замену lock_guard пришёл новый усовершенствованный класс **scoped_lock**, \n",
    "который может блокировать произвольное количество мьютексов и работать \n",
    "с новыми типами блокировки (как recursive_mutex, timed_mutex...)."
   ]
  },
  {
   "cell_type": "code",
   "execution_count": 80,
   "id": "98270c8e",
   "metadata": {},
   "outputs": [],
   "source": [
    "int X = 0;\n",
    "\n",
    "mutex BLOCK;"
   ]
  },
  {
   "cell_type": "code",
   "execution_count": 81,
   "id": "5c5a0e84",
   "metadata": {},
   "outputs": [
    {
     "name": "stderr",
     "output_type": "stream",
     "text": [
      "\u001b[1minput_line_89:4:9: \u001b[0m\u001b[0;1;31merror: \u001b[0m\u001b[1munknown type name 'scoped_lock'; did you mean '__gnu_cxx::__scoped_lock'?\u001b[0m\n",
      "        scoped_lock lg{::BLOCK, BLOCK2};\n",
      "\u001b[0;1;32m        ^~~~~~~~~~~\n",
      "\u001b[0m\u001b[0;32m        __gnu_cxx::__scoped_lock\n",
      "\u001b[0m\u001b[1m/home/alexfives/anaconda3/envs/jupyter_cpp/bin/../lib/gcc/x86_64-conda-linux-gnu/9.3.0/../../../../x86_64-conda-linux-gnu/include/c++/9.3.0/ext/concurrence.h:228:9: \u001b[0m\u001b[0;1;30mnote: \u001b[0m'__gnu_cxx::__scoped_lock' declared here\u001b[0m\n",
      "  class __scoped_lock\n",
      "\u001b[0;1;32m        ^\n",
      "\u001b[0m\u001b[1minput_line_89:4:21: \u001b[0m\u001b[0;1;31merror: \u001b[0m\u001b[1mno matching constructor for initialization of '__gnu_cxx::__scoped_lock'\u001b[0m\n",
      "        scoped_lock lg{::BLOCK, BLOCK2};\n",
      "\u001b[0;1;32m                    ^ ~~~~~~~~~~~~~~~~~\n",
      "\u001b[0m\u001b[1m/home/alexfives/anaconda3/envs/jupyter_cpp/bin/../lib/gcc/x86_64-conda-linux-gnu/9.3.0/../../../../x86_64-conda-linux-gnu/include/c++/9.3.0/ext/concurrence.h:236:5: \u001b[0m\u001b[0;1;30mnote: \u001b[0mcandidate constructor not viable: requires 1 argument, but 2 were provided\u001b[0m\n",
      "    __scoped_lock(const __scoped_lock&);\n",
      "\u001b[0;1;32m    ^\n",
      "\u001b[0m\u001b[1m/home/alexfives/anaconda3/envs/jupyter_cpp/bin/../lib/gcc/x86_64-conda-linux-gnu/9.3.0/../../../../x86_64-conda-linux-gnu/include/c++/9.3.0/ext/concurrence.h:240:14: \u001b[0m\u001b[0;1;30mnote: \u001b[0mcandidate constructor not viable: requires single argument '__name', but 2 arguments were provided\u001b[0m\n",
      "    explicit __scoped_lock(__mutex_type& __name) : _M_device(__name)\n",
      "\u001b[0;1;32m             ^\n",
      "\u001b[0m"
     ]
    },
    {
     "ename": "Interpreter Error",
     "evalue": "",
     "output_type": "error",
     "traceback": [
      "Interpreter Error: "
     ]
    }
   ],
   "source": [
    "void incX(int n) {\n",
    "    mutex BLOCK2; // useless\n",
    "    for (int i = 0; i < n; i++) {\n",
    "        scoped_lock lg{::BLOCK, BLOCK2};\n",
    "        ::X++;\n",
    "    }\n",
    "}"
   ]
  },
  {
   "cell_type": "code",
   "execution_count": 82,
   "id": "68311e7e",
   "metadata": {},
   "outputs": [],
   "source": [
    "void incX(int n) {\n",
    "    for (int i = 0; i < n; i++) {\n",
    "        lock_guard<mutex> lg{::BLOCK};\n",
    "        ::X++;\n",
    "    }\n",
    "}"
   ]
  },
  {
   "cell_type": "code",
   "execution_count": 83,
   "id": "12da528a",
   "metadata": {},
   "outputs": [],
   "source": [
    "thread t1(incX, 1'000'000);\n",
    "\n",
    "thread t2(incX, 2'000'000);\n",
    "\n",
    "t1.join();\n",
    "t2.join();"
   ]
  },
  {
   "cell_type": "code",
   "execution_count": 84,
   "id": "79081629",
   "metadata": {},
   "outputs": [
    {
     "name": "stdout",
     "output_type": "stream",
     "text": [
      "3000000"
     ]
    }
   ],
   "source": [
    "cout << X;"
   ]
  },
  {
   "cell_type": "markdown",
   "id": "1618ec87",
   "metadata": {},
   "source": [
    "Но вместе с решением одной проблемы блокировка несёт новые."
   ]
  },
  {
   "cell_type": "markdown",
   "id": "cb8ed18b",
   "metadata": {},
   "source": [
    "#### Deadlock"
   ]
  },
  {
   "cell_type": "markdown",
   "id": "bb057dde",
   "metadata": {},
   "source": [
    "Это ситуация, при которой несколько потоков находятся в состоянии ожидания ресурсов, \n",
    "занятых друг другом, и ни один из них не может продолжать выполнение."
   ]
  },
  {
   "attachments": {
    "Screenshot%20from%202022-02-09%2019-04-10.png": {
     "image/png": "[encoded data removed]"
    }
   },
   "cell_type": "markdown",
   "id": "9ea72062",
   "metadata": {},
   "source": [
    "![Screenshot%20from%202022-02-09%2019-04-10.png](attachment:Screenshot%20from%202022-02-09%2019-04-10.png)"
   ]
  },
  {
   "cell_type": "markdown",
   "id": "a21d2c09",
   "metadata": {},
   "source": [
    "Получается ситуация:\n",
    "\n",
    "<font color=\"red\">ThreadX</font> перестанет работать с <font color=\"red\">obj1</font> \n",
    "и переключится на <font color=\"blue\">obj2</font>, \n",
    "когда <font color=\"blue\">ThreadY</font> перестанет работать с <font color=\"blue\">obj2</font> \n",
    "и переключится на <font color=\"red\">obj1</font>.\n",
    "\n",
    "А <font color=\"blue\">ThreadY</font> перестанет работать с <font color=\"blue\">obj2</font> \n",
    "и переключится на <font color=\"red\">obj1</font>, \n",
    "когда <font color=\"red\">ThreadX</font> перестанет работать с <font color=\"red\">obj1</font> \n",
    "и переключится на <font color=\"blue\">obj2</font>.\n",
    "\n",
    "..."
   ]
  },
  {
   "cell_type": "markdown",
   "id": "d5e4b6a8",
   "metadata": {},
   "source": [
    "Простой пример deadlock'a:"
   ]
  },
  {
   "cell_type": "code",
   "execution_count": 86,
   "id": "eb671d51",
   "metadata": {},
   "outputs": [],
   "source": [
    "mutex BLOCK1;\n",
    "mutex BLOCK2;\n",
    "\n",
    "mutex PRINT_BLOCK; // для нормального вывода, к deadlock'у отношения не имеет"
   ]
  },
  {
   "cell_type": "code",
   "execution_count": 89,
   "id": "0002de6f",
   "metadata": {},
   "outputs": [],
   "source": [
    "#include <string>"
   ]
  },
  {
   "cell_type": "code",
   "execution_count": 91,
   "id": "15190d4c",
   "metadata": {},
   "outputs": [],
   "source": [
    "void print_func(string str) {\n",
    "    // тоже к deadlock'у отношения не имеет, \n",
    "    // просто выводит то, что нужно в условиях многопоточности\n",
    "    ::PRINT_BLOCK.lock();\n",
    "    cout << str << endl;\n",
    "    ::PRINT_BLOCK.unlock();\n",
    "}"
   ]
  },
  {
   "cell_type": "markdown",
   "id": "2d25d661",
   "metadata": {},
   "source": [
    "Функции для потоков, здесь и происходят deadlock'и."
   ]
  },
  {
   "cell_type": "code",
   "execution_count": 92,
   "id": "5d515aae",
   "metadata": {},
   "outputs": [],
   "source": [
    "void func1() {\n",
    "    lock_guard<mutex> lg1{::BLOCK1};\n",
    "    print_func(\"func1 started\");\n",
    "    lock_guard<mutex> lg2{::BLOCK2};\n",
    "    print_func(\"func1 ended\");\n",
    "}"
   ]
  },
  {
   "cell_type": "code",
   "execution_count": 93,
   "id": "fe2661ec",
   "metadata": {},
   "outputs": [],
   "source": [
    "void func2() {\n",
    "    lock_guard<mutex> lg1{::BLOCK2};\n",
    "    print_func(\"func2 started\");\n",
    "    lock_guard<mutex> lg2{::BLOCK1};\n",
    "    print_func(\"func2 ended\");\n",
    "}"
   ]
  },
  {
   "cell_type": "code",
   "execution_count": null,
   "id": "a7acaa06",
   "metadata": {},
   "outputs": [
    {
     "name": "stdout",
     "output_type": "stream",
     "text": [
      "func1 started\n",
      "func2 started\n"
     ]
    }
   ],
   "source": [
    "thread thr1(func1);\n",
    "thread thr2(func2);\n",
    "thr1.join();\n",
    "thr2.join();"
   ]
  },
  {
   "cell_type": "markdown",
   "id": "f1a14882",
   "metadata": {},
   "source": [
    "Как видим, потоки не завершились, они находятся в бесконечном цикле."
   ]
  },
  {
   "cell_type": "markdown",
   "id": "20757bca",
   "metadata": {},
   "source": [
    "##### Как решить?"
   ]
  },
  {
   "cell_type": "markdown",
   "id": "8325c3d6",
   "metadata": {},
   "source": [
    "В простых случаях может помочь граммотное использование блокировки."
   ]
  },
  {
   "cell_type": "code",
   "execution_count": null,
   "id": "7412f0c6",
   "metadata": {},
   "outputs": [],
   "source": [
    "mutex BLOCK1;\n",
    "mutex BLOCK2;"
   ]
  },
  {
   "cell_type": "code",
   "execution_count": null,
   "id": "7cd25df8",
   "metadata": {},
   "outputs": [],
   "source": [
    "void func1() {\n",
    "    ::BLOCK1.lock();\n",
    "    print_func(\"func1 started\");\n",
    "    ::BLOCK1.unlock();\n",
    "    ::BLOCK2.lock();\n",
    "    print_func(\"func1 ended\");\n",
    "    ::BLOCK2.unlock();\n",
    "}"
   ]
  },
  {
   "cell_type": "code",
   "execution_count": null,
   "id": "7b6c6aab",
   "metadata": {},
   "outputs": [],
   "source": [
    "void func2() {\n",
    "    ::BLOCK2.lock();\n",
    "    print_func(\"func2 started\");\n",
    "    ::BLOCK2.unlock();\n",
    "    ::BLOCK1.lock();\n",
    "    print_func(\"func2 ended\");\n",
    "    ::BLOCK1.unlock();\n",
    "}"
   ]
  },
  {
   "cell_type": "code",
   "execution_count": null,
   "id": "e14ec2e7",
   "metadata": {},
   "outputs": [],
   "source": [
    "thread thr1(func1);\n",
    "thread thr2(func2);\n",
    "thr1.join();\n",
    "thr2.join();"
   ]
  },
  {
   "cell_type": "markdown",
   "id": "79894b28",
   "metadata": {},
   "source": [
    "Также можно устанавливать блокировки в одном порядке:"
   ]
  },
  {
   "cell_type": "code",
   "execution_count": null,
   "id": "74fe7441",
   "metadata": {},
   "outputs": [],
   "source": [
    "mutex BLOCK1;\n",
    "mutex BLOCK2;"
   ]
  },
  {
   "cell_type": "code",
   "execution_count": null,
   "id": "a611b6b8",
   "metadata": {},
   "outputs": [],
   "source": [
    "void func1() {\n",
    "    lock_guard<mutex> lg1{::BLOCK1};\n",
    "    print_func(\"func1 started\");\n",
    "    lock_guard<mutex> lg2{::BLOCK2};\n",
    "    print_func(\"func1 ended\");\n",
    "}"
   ]
  },
  {
   "cell_type": "code",
   "execution_count": null,
   "id": "d3717eee",
   "metadata": {},
   "outputs": [],
   "source": [
    "void func2() {\n",
    "    lock_guard<mutex> lg1{::BLOCK1};\n",
    "    print_func(\"func2 started\");\n",
    "    lock_guard<mutex> lg2{::BLOCK2};\n",
    "    print_func(\"func2 ended\");\n",
    "}"
   ]
  },
  {
   "cell_type": "code",
   "execution_count": null,
   "id": "f5d7ab34",
   "metadata": {},
   "outputs": [],
   "source": [
    "thread thr1(func1);\n",
    "thread thr2(func2);\n",
    "thr1.join();\n",
    "thr2.join();"
   ]
  },
  {
   "cell_type": "markdown",
   "id": "0de4f273",
   "metadata": {},
   "source": [
    "В более сложных - использование усовершенствованных блокировок: \n",
    "**[timed_mutex](https://en.cppreference.com/w/cpp/thread/timed_mutex)**, \n",
    "**[recursive_mutex](https://en.cppreference.com/w/cpp/thread/recursive_mutex)**, \n",
    "**[recursive_timed_mutex](https://en.cppreference.com/w/cpp/thread/recursive_timed_mutex)**...\n",
    "\n",
    "По сути все они снимают блокировку при какому-то условии."
   ]
  }
 ],
 "metadata": {
  "kernelspec": {
   "display_name": "C++14",
   "language": "C++14",
   "name": "xcpp14"
  },
  "language_info": {
   "codemirror_mode": "text/x-c++src",
   "file_extension": ".cpp",
   "mimetype": "text/x-c++src",
   "name": "c++",
   "version": "14"
  }
 },
 "nbformat": 4,
 "nbformat_minor": 5
}
