{
 "cells": [
  {
   "cell_type": "markdown",
   "id": "6a4f6e2d",
   "metadata": {},
   "source": [
    "## Циклы"
   ]
  },
  {
   "cell_type": "code",
   "execution_count": 2,
   "id": "045b2801",
   "metadata": {},
   "outputs": [],
   "source": [
    "#include <iostream>\n",
    "\n",
    "using namespace std;"
   ]
  },
  {
   "cell_type": "markdown",
   "id": "c0bc949b",
   "metadata": {},
   "source": [
    "### for-loop\n",
    "Синтаксис:\n",
    "\n",
    "```\n",
    "for (тип переменная = значение; условие выхода; шаг) {\n",
    "    тело цикла\n",
    "}\n",
    "```\n",
    "\n",
    "{ } не обязательны, если тело цикла состоит из одной команды.\n",
    "\n",
    "Также в C++ можно создать цикл for с несколькими переменными.\n",
    "\n",
    "```\n",
    "for (int i = 0, j = 0, k = 0; i < 10 or j > -20; i++, k += 10) {\n",
    "    тело цикла\n",
    "}\n",
    "```"
   ]
  },
  {
   "cell_type": "code",
   "execution_count": 3,
   "id": "7f866aed",
   "metadata": {},
   "outputs": [
    {
     "name": "stdout",
     "output_type": "stream",
     "text": [
      "0 1 2 3 4 5 6 7 8 9 \n"
     ]
    }
   ],
   "source": [
    "for (int i = 0; i < 10; i++) cout << i << ' ';\n",
    "cout << endl;"
   ]
  },
  {
   "cell_type": "code",
   "execution_count": 4,
   "id": "732b6e39",
   "metadata": {},
   "outputs": [
    {
     "name": "stdout",
     "output_type": "stream",
     "text": [
      "0 -1 0\n",
      "1 -2 10\n",
      "2 -3 20\n",
      "3 -4 30\n",
      "4 -5 40\n",
      "5 -6 50\n",
      "6 -7 60\n",
      "7 -8 70\n",
      "8 -9 80\n",
      "9 -10 90\n",
      "10 -11 100\n",
      "11 -12 110\n",
      "12 -13 120\n",
      "13 -14 130\n",
      "14 -15 140\n",
      "15 -16 150\n",
      "16 -17 160\n",
      "17 -18 170\n",
      "18 -19 180\n",
      "19 -20 190\n"
     ]
    }
   ],
   "source": [
    "for (int i = 0, j = 0, k = 0; i < 10 or j > -20; i++, k += 10) {\n",
    "    j--;\n",
    "    cout << i << ' ' << j << ' ' << k << endl;\n",
    "}"
   ]
  },
  {
   "cell_type": "markdown",
   "id": "2a93ebbc",
   "metadata": {},
   "source": [
    "### while-loops"
   ]
  },
  {
   "cell_type": "markdown",
   "id": "b1a5d5ab",
   "metadata": {},
   "source": [
    "#### while\n",
    "Синтаксис:\n",
    "\n",
    "```\n",
    "while (условие) {\n",
    "    тело цикла\n",
    "}\n",
    "```\n",
    "\n",
    "{ } не обязательны, если тело цикла состоит из одной команды."
   ]
  },
  {
   "cell_type": "code",
   "execution_count": 5,
   "id": "2b37bc76",
   "metadata": {},
   "outputs": [
    {
     "name": "stdout",
     "output_type": "stream",
     "text": [
      "1 2 3 4 5 6 7 8 9 10 \n"
     ]
    }
   ],
   "source": [
    "int i = 0;\n",
    "while (i++ < 10) cout << i << ' ';\n",
    "cout << endl;"
   ]
  },
  {
   "cell_type": "code",
   "execution_count": 6,
   "id": "97d3beec",
   "metadata": {},
   "outputs": [
    {
     "name": "stdout",
     "output_type": "stream",
     "text": [
      "1 2 3 4 5 6 7 8 9 \n"
     ]
    }
   ],
   "source": [
    "int i = 0;\n",
    "while (++i < 10) cout << i << ' ';\n",
    "cout << endl;"
   ]
  },
  {
   "cell_type": "code",
   "execution_count": 7,
   "id": "8bec15ee",
   "metadata": {},
   "outputs": [
    {
     "name": "stdout",
     "output_type": "stream",
     "text": [
      "0 1 2 3 4 5 6 7 8 9 "
     ]
    }
   ],
   "source": [
    "int i = 0;\n",
    "while (i < 10) {\n",
    "    cout << i << ' ';\n",
    "    i++;\n",
    "}"
   ]
  },
  {
   "cell_type": "markdown",
   "id": "568a2f7b",
   "metadata": {},
   "source": [
    "#### do-while\n",
    "Синтаксис:\n",
    "\n",
    "```\n",
    "do {\n",
    "    тело цикла\n",
    "} while (условие);\n",
    "```\n",
    "\n",
    "{ } не обязательны, если тело цикла состоит из одной команды."
   ]
  },
  {
   "cell_type": "code",
   "execution_count": 8,
   "id": "75954c11",
   "metadata": {},
   "outputs": [
    {
     "name": "stdout",
     "output_type": "stream",
     "text": [
      "0 1 2 3 4 5 6 7 8 9 10 "
     ]
    }
   ],
   "source": [
    "int i = 0;\n",
    "do cout << i << ' '; while (i++ < 10);"
   ]
  },
  {
   "cell_type": "code",
   "execution_count": 9,
   "id": "981c72c6",
   "metadata": {},
   "outputs": [
    {
     "name": "stdout",
     "output_type": "stream",
     "text": [
      "0 1 2 3 4 5 6 7 8 9 "
     ]
    }
   ],
   "source": [
    "int i = 0;\n",
    "do {\n",
    "    cout << i << ' ';\n",
    "} while (++i < 10);"
   ]
  },
  {
   "cell_type": "code",
   "execution_count": 10,
   "id": "aa625355",
   "metadata": {},
   "outputs": [
    {
     "name": "stdout",
     "output_type": "stream",
     "text": [
      "0 1 2 3 4 5 6 7 8 9 "
     ]
    }
   ],
   "source": [
    "int i = 0;\n",
    "do {\n",
    "    cout << i << ' ';\n",
    "    i++;\n",
    "} while (i < 10);"
   ]
  }
 ],
 "metadata": {
  "kernelspec": {
   "display_name": "C++14",
   "language": "C++14",
   "name": "xcpp14"
  },
  "language_info": {
   "codemirror_mode": "text/x-c++src",
   "file_extension": ".cpp",
   "mimetype": "text/x-c++src",
   "name": "c++",
   "version": "14"
  }
 },
 "nbformat": 4,
 "nbformat_minor": 5
}
